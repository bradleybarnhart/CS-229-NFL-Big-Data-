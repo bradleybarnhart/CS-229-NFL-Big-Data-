{
 "cells": [
  {
   "cell_type": "markdown",
   "metadata": {},
   "source": [
    "# Look at the data "
   ]
  },
  {
   "cell_type": "code",
   "execution_count": 69,
   "metadata": {},
   "outputs": [],
   "source": [
    "import csv\n",
    "import pandas as pd\n",
    "import numpy as np \n",
    "import matplotlib.pyplot as plt\n",
    "import seaborn as sns\n",
    "from sklearn.model_selection import train_test_split"
   ]
  },
  {
   "cell_type": "code",
   "execution_count": null,
   "metadata": {},
   "outputs": [],
   "source": [
    "filename = 'train.csv' \n",
    "df = pd.read_csv(filename)\n",
    "df.head()"
   ]
  },
  {
   "cell_type": "markdown",
   "metadata": {},
   "source": [
    "# Preprocess the Data"
   ]
  },
  {
   "cell_type": "markdown",
   "metadata": {},
   "source": [
    "## Fix Null Field Positions"
   ]
  },
  {
   "cell_type": "code",
   "execution_count": 64,
   "metadata": {},
   "outputs": [
    {
     "name": "stdout",
     "output_type": "stream",
     "text": [
      "6424\n",
      "(509762, 49)\n"
     ]
    }
   ],
   "source": [
    "field_positions = df['FieldPosition']\n",
    "print(sum(field_positions.isnull()==True))\n",
    "print(df.shape)"
   ]
  },
  {
   "cell_type": "code",
   "execution_count": 65,
   "metadata": {},
   "outputs": [
    {
     "name": "stdout",
     "output_type": "stream",
     "text": [
      "         GameId          PlayId FieldPosition PossessionTeam  YardLine\n",
      "198  2017090700  20170907000801           NaN             KC        50\n",
      "199  2017090700  20170907000801           NaN             KC        50\n",
      "200  2017090700  20170907000801           NaN             KC        50\n",
      "201  2017090700  20170907000801           NaN             KC        50\n",
      "202  2017090700  20170907000801           NaN             KC        50\n",
      "         GameId          PlayId FieldPosition PossessionTeam  YardLine\n",
      "198  2017090700  20170907000801            KC             KC        50\n",
      "199  2017090700  20170907000801            KC             KC        50\n",
      "200  2017090700  20170907000801            KC             KC        50\n",
      "201  2017090700  20170907000801            KC             KC        50\n",
      "202  2017090700  20170907000801            KC             KC        50\n",
      "0\n",
      "(509762, 49)\n"
     ]
    }
   ],
   "source": [
    "# Handle 50 YardLine by filling in the null 'FieldPositions' with the value in 'PossessionTeam'\n",
    "print(df[df.FieldPosition.isnull()][['GameId', 'PlayId', 'FieldPosition', 'PossessionTeam', 'YardLine']].head())\n",
    "df.FieldPosition.fillna(df.PossessionTeam, inplace=True)\n",
    "print(df[198:203][['GameId', 'PlayId', 'FieldPosition', 'PossessionTeam', 'YardLine']])\n",
    "\n",
    "field_positions = df['FieldPosition']\n",
    "print(sum(field_positions.isnull()==True))\n",
    "print(df.shape)"
   ]
  },
  {
   "cell_type": "markdown",
   "metadata": {},
   "source": [
    "## Downsample, keep only entries where players is rusher"
   ]
  },
  {
   "cell_type": "code",
   "execution_count": 66,
   "metadata": {},
   "outputs": [
    {
     "name": "stdout",
     "output_type": "stream",
     "text": [
      "       GameId          PlayId FieldPosition PossessionTeam  YardLine  Yards\n",
      "0  2017090700  20170907000118            NE             NE        35      8\n",
      "1  2017090700  20170907000118            NE             NE        35      8\n",
      "2  2017090700  20170907000118            NE             NE        35      8\n",
      "3  2017090700  20170907000118            NE             NE        35      8\n",
      "4  2017090700  20170907000118            NE             NE        35      8\n",
      "(509762, 49)\n"
     ]
    }
   ],
   "source": [
    "# Same gameid, same playid, same yards gained for the first 5 entries... hm..\n",
    "print(df.head()[['GameId', 'PlayId', 'FieldPosition', 'PossessionTeam', 'YardLine', 'Yards']])\n",
    "print(df.shape)"
   ]
  },
  {
   "cell_type": "code",
   "execution_count": 67,
   "metadata": {},
   "outputs": [
    {
     "name": "stdout",
     "output_type": "stream",
     "text": [
      "       GameId          PlayId FieldPosition PossessionTeam  YardLine  Yards\n",
      "0  2017090700  20170907000118            NE             NE        35      8\n",
      "1  2017090700  20170907000139            NE             NE        43      3\n",
      "2  2017090700  20170907000189            KC             NE        35      5\n",
      "3  2017090700  20170907000345            KC             NE         2      2\n",
      "4  2017090700  20170907000395            KC             KC        25      7\n",
      "(23171, 49)\n"
     ]
    }
   ],
   "source": [
    "df = df[df['NflIdRusher']==df['NflId']] # only keep entries associated with the rusher\n",
    "df.reset_index(drop=True, inplace=True)\n",
    "print(df.head()[['GameId', 'PlayId', 'FieldPosition', 'PossessionTeam', 'YardLine', 'Yards']])\n",
    "print(df.shape)"
   ]
  },
  {
   "cell_type": "markdown",
   "metadata": {},
   "source": [
    "## Calculate number of yards remaining "
   ]
  },
  {
   "cell_type": "code",
   "execution_count": 68,
   "metadata": {},
   "outputs": [
    {
     "data": {
      "text/html": [
       "<div>\n",
       "<style scoped>\n",
       "    .dataframe tbody tr th:only-of-type {\n",
       "        vertical-align: middle;\n",
       "    }\n",
       "\n",
       "    .dataframe tbody tr th {\n",
       "        vertical-align: top;\n",
       "    }\n",
       "\n",
       "    .dataframe thead th {\n",
       "        text-align: right;\n",
       "    }\n",
       "</style>\n",
       "<table border=\"1\" class=\"dataframe\">\n",
       "  <thead>\n",
       "    <tr style=\"text-align: right;\">\n",
       "      <th></th>\n",
       "      <th>GameId</th>\n",
       "      <th>PlayId</th>\n",
       "      <th>FieldPosition</th>\n",
       "      <th>PossessionTeam</th>\n",
       "      <th>YardLine</th>\n",
       "      <th>Yards</th>\n",
       "      <th>YardsRemaining</th>\n",
       "    </tr>\n",
       "  </thead>\n",
       "  <tbody>\n",
       "    <tr>\n",
       "      <td>0</td>\n",
       "      <td>2017090700</td>\n",
       "      <td>20170907000118</td>\n",
       "      <td>NE</td>\n",
       "      <td>NE</td>\n",
       "      <td>35</td>\n",
       "      <td>8</td>\n",
       "      <td>65.0</td>\n",
       "    </tr>\n",
       "    <tr>\n",
       "      <td>1</td>\n",
       "      <td>2017090700</td>\n",
       "      <td>20170907000139</td>\n",
       "      <td>NE</td>\n",
       "      <td>NE</td>\n",
       "      <td>43</td>\n",
       "      <td>3</td>\n",
       "      <td>57.0</td>\n",
       "    </tr>\n",
       "    <tr>\n",
       "      <td>2</td>\n",
       "      <td>2017090700</td>\n",
       "      <td>20170907000189</td>\n",
       "      <td>KC</td>\n",
       "      <td>NE</td>\n",
       "      <td>35</td>\n",
       "      <td>5</td>\n",
       "      <td>35.0</td>\n",
       "    </tr>\n",
       "    <tr>\n",
       "      <td>3</td>\n",
       "      <td>2017090700</td>\n",
       "      <td>20170907000345</td>\n",
       "      <td>KC</td>\n",
       "      <td>NE</td>\n",
       "      <td>2</td>\n",
       "      <td>2</td>\n",
       "      <td>2.0</td>\n",
       "    </tr>\n",
       "    <tr>\n",
       "      <td>4</td>\n",
       "      <td>2017090700</td>\n",
       "      <td>20170907000395</td>\n",
       "      <td>KC</td>\n",
       "      <td>KC</td>\n",
       "      <td>25</td>\n",
       "      <td>7</td>\n",
       "      <td>75.0</td>\n",
       "    </tr>\n",
       "  </tbody>\n",
       "</table>\n",
       "</div>"
      ],
      "text/plain": [
       "       GameId          PlayId FieldPosition PossessionTeam  YardLine  Yards  \\\n",
       "0  2017090700  20170907000118            NE             NE        35      8   \n",
       "1  2017090700  20170907000139            NE             NE        43      3   \n",
       "2  2017090700  20170907000189            KC             NE        35      5   \n",
       "3  2017090700  20170907000345            KC             NE         2      2   \n",
       "4  2017090700  20170907000395            KC             KC        25      7   \n",
       "\n",
       "   YardsRemaining  \n",
       "0            65.0  \n",
       "1            57.0  \n",
       "2            35.0  \n",
       "3             2.0  \n",
       "4            75.0  "
      ]
     },
     "execution_count": 68,
     "metadata": {},
     "output_type": "execute_result"
    }
   ],
   "source": [
    "df['YardsRemaining'] = 100 - df.YardLine[df.FieldPosition == df.PossessionTeam]\n",
    "df.YardsRemaining.fillna(df.YardLine, inplace=True)\n",
    "df.head()[['GameId', 'PlayId', 'FieldPosition', 'PossessionTeam', 'YardLine', 'Yards', 'YardsRemaining']]"
   ]
  },
  {
   "cell_type": "markdown",
   "metadata": {},
   "source": [
    "# Train and Dev Split"
   ]
  },
  {
   "cell_type": "code",
   "execution_count": 71,
   "metadata": {},
   "outputs": [],
   "source": [
    "train, dev = train_test_split(df, test_size=0.3, random_state=1, shuffle=True)"
   ]
  },
  {
   "cell_type": "code",
   "execution_count": 74,
   "metadata": {},
   "outputs": [
    {
     "name": "stdout",
     "output_type": "stream",
     "text": [
      "(16219, 50)\n",
      "(6952, 50)\n"
     ]
    }
   ],
   "source": [
    "print(train.shape)\n",
    "print(dev.shape)"
   ]
  },
  {
   "cell_type": "markdown",
   "metadata": {},
   "source": [
    "# Perform Naive Bayes "
   ]
  },
  {
   "cell_type": "markdown",
   "metadata": {},
   "source": [
    "## Calculate probability of yards gained squashed with yards remaining"
   ]
  },
  {
   "cell_type": "code",
   "execution_count": 93,
   "metadata": {},
   "outputs": [
    {
     "data": {
      "text/plain": [
       "[<matplotlib.lines.Line2D at 0x1a2887f860>]"
      ]
     },
     "execution_count": 93,
     "metadata": {},
     "output_type": "execute_result"
    },
    {
     "data": {
      "image/png": "[encoded data removed]",
      "text/plain": [
       "<Figure size 432x288 with 1 Axes>"
      ]
     },
     "metadata": {
      "needs_background": "light"
     },
     "output_type": "display_data"
    }
   ],
   "source": [
    "# calculate pmf \n",
    "yard_counts = np.zeros((199), dtype = 'double')\n",
    "for yard in range(-99, 100):\n",
    "    yard_counts[yard+99] = sum(train['Yards']==yard)\n",
    "yard_probabilities = yard_counts / np.sum(yard_counts)\n",
    "\n",
    "# calculate cdf\n",
    "yard_cdf = np.cumsum(yard_probabilities)\n",
    "\n",
    "plt.plot(np.arange(-99,100), yard_cdf)"
   ]
  },
  {
   "cell_type": "markdown",
   "metadata": {},
   "source": [
    "## Squashing probabilities "
   ]
  },
  {
   "cell_type": "code",
   "execution_count": 97,
   "metadata": {},
   "outputs": [],
   "source": [
    "# squash probabilities\n",
    "def squash(yard_cdf, yard_remaining):\n",
    "    squash_cdf = yard_cdf.copy()\n",
    "    squash_cdf[199-(100 - yard_remaining):] = 1\n",
    "    squash_cdf[0:yard_remaining-1] = 0 \n",
    "    return squash_cdf"
   ]
  },
  {
   "cell_type": "code",
   "execution_count": 103,
   "metadata": {},
   "outputs": [
    {
     "data": {
      "text/plain": [
       "[<matplotlib.lines.Line2D at 0x1a2901c940>]"
      ]
     },
     "execution_count": 103,
     "metadata": {},
     "output_type": "execute_result"
    },
    {
     "data": {
      "image/png": "[encoded data removed]",
      "text/plain": [
       "<Figure size 432x288 with 1 Axes>"
      ]
     },
     "metadata": {
      "needs_background": "light"
     },
     "output_type": "display_data"
    }
   ],
   "source": [
    "squash_cdf = squash(yard_cdf, 50)\n",
    "plt.plot(np.arange(-99,100), squash_cdf)"
   ]
  },
  {
   "cell_type": "code",
   "execution_count": 131,
   "metadata": {},
   "outputs": [
    {
     "data": {
      "text/plain": [
       "<matplotlib.legend.Legend at 0x1a29e63748>"
      ]
     },
     "execution_count": 131,
     "metadata": {},
     "output_type": "execute_result"
    },
    {
     "data": {
      "image/png": "[encoded data removed]",
      "text/plain": [
       "<Figure size 432x288 with 2 Axes>"
      ]
     },
     "metadata": {
      "needs_background": "light"
     },
     "output_type": "display_data"
    }
   ],
   "source": [
    "fig, axes = plt.subplots(1, 2)\n",
    "for index, row in dev.head().iterrows():\n",
    "    pred_cdf = squash(yard_cdf, int(row['YardsRemaining']))\n",
    "    axes[0].plot(np.arange(-99,100), pred_cdf, label=row['YardsRemaining'])\n",
    "    true_cdf = np.zeros(199)\n",
    "    true_cdf[99+row['Yards']:] = 1\n",
    "    axes[1].plot(np.arange(-99,100), true_cdf, label=row['Yards'])\n",
    "    (pred_cdf-true_cdf)**2\n",
    "\n",
    "axes[0].legend(title='Remaining')\n",
    "axes[1].legend(title='Yards')"
   ]
  },
  {
   "cell_type": "markdown",
   "metadata": {},
   "source": [
    "## Loss for model using all of the data"
   ]
  },
  {
   "cell_type": "code",
   "execution_count": 136,
   "metadata": {},
   "outputs": [
    {
     "name": "stdout",
     "output_type": "stream",
     "text": [
      "Cost: 0.014044054093647522\n"
     ]
    }
   ],
   "source": [
    "all_loss = []\n",
    "for index, row in dev.iterrows():\n",
    "    pred_cdf = squash(yard_cdf, int(row['YardsRemaining']))\n",
    "    true_cdf = np.zeros(199)\n",
    "    true_cdf[99+row['Yards']:] = 1\n",
    "    loss = 1/199 * np.sum((pred_cdf-true_cdf)**2)\n",
    "    all_loss.append(loss)\n",
    "cost = np.average(all_loss)\n",
    "print(\"Cost: {}\".format(cost))"
   ]
  },
  {
   "cell_type": "markdown",
   "metadata": {},
   "source": [
    "## Using a model for each yard line"
   ]
  },
  {
   "cell_type": "code",
   "execution_count": 146,
   "metadata": {},
   "outputs": [],
   "source": [
    "yard_counts = np.zeros((99,199), dtype = 'uint32')\n",
    "yard_probabilities = np.zeros((99,199), dtype = 'float')\n",
    "\n",
    "for yard_remaining in range(1,100):\n",
    "    yards_current = train.Yards[train['YardsRemaining']==yard_remaining]\n",
    "    \n",
    "    for yard in range(-99, 100):\n",
    "        yard_counts[yard_remaining-1,yard+99] = sum(yards_current==yard)\n",
    "        \n",
    "    yard_probabilities[yard_remaining-1,:] = yard_counts[yard_remaining-1,:] / np.sum(yard_counts[yard_remaining-1,:])\n",
    "    \n",
    "# CDF \n",
    "yard_cdf = np.zeros(yard_probabilities.shape)\n",
    "for yard_remaining in range(1, 100):\n",
    "    yard_cdf[yard_remaining-1] = np.cumsum(yard_probabilities[yard_remaining-1,:])"
   ]
  },
  {
   "cell_type": "code",
   "execution_count": 151,
   "metadata": {},
   "outputs": [
    {
     "name": "stdout",
     "output_type": "stream",
     "text": [
      "[0.         0.03333333 0.2        0.5        0.63333333 0.7       ]\n"
     ]
    },
    {
     "data": {
      "image/png": "[encoded data removed]",
      "text/plain": [
       "<Figure size 432x288 with 1 Axes>"
      ]
     },
     "metadata": {
      "needs_background": "light"
     },
     "output_type": "display_data"
    }
   ],
   "source": [
    "plt.plot(np.arange(-99,100), yard_cdf[98,:])\n",
    "print(yard_cdf[98,97:103])"
   ]
  },
  {
   "cell_type": "code",
   "execution_count": 125,
   "metadata": {},
   "outputs": [
    {
     "data": {
      "image/png": "[encoded data removed]",
      "text/plain": [
       "<Figure size 432x288 with 1 Axes>"
      ]
     },
     "metadata": {
      "needs_background": "light"
     },
     "output_type": "display_data"
    },
    {
     "name": "stdout",
     "output_type": "stream",
     "text": [
      "[0.         0.         0.         0.         0.         0.\n",
      " 0.         0.         0.         0.         0.         0.\n",
      " 0.         0.         0.         0.         0.         0.\n",
      " 0.         0.         0.         0.         0.         0.\n",
      " 0.         0.         0.         0.         0.         0.\n",
      " 0.         0.         0.         0.         0.         0.\n",
      " 0.         0.         0.         0.         0.         0.00803213\n",
      " 0.00401606 0.01204819 0.02409639 0.04417671 0.04819277 0.09638554\n",
      " 0.11646586 0.08032129 0.13253012 0.08835341 0.06425703 0.06827309\n",
      " 0.0562249  0.04016064 0.02811245 0.00803213 0.01204819 0.01204819\n",
      " 0.01204819 0.00803213 0.00803213 0.         0.         0.\n",
      " 0.         0.00401606 0.00401606 0.         0.00401606 0.00401606\n",
      " 0.         0.00401606 0.         0.         0.         0.\n",
      " 0.         0.         0.         0.         0.         0.\n",
      " 0.         0.         0.         0.00401606 0.         0.\n",
      " 0.         0.         0.         0.         0.         0.\n",
      " 0.00401606]\n"
     ]
    }
   ],
   "source": [
    "for yard_line in [1,50,99]:\n",
    "    yard_line_index = yard_line -1\n",
    "    plt.plot(np.arange(-99,100),yard_probabilities[yard_line_index,:], label = str(yard_line))\n",
    "    \n",
    "plt.legend()    \n",
    "plt.show() \n",
    "\n",
    "# Observations: seems like there is some data missing...\n",
    "# at the 50 yard line, many yards gained in the 0-50 window have 0 probability, \n",
    "# even those should have almost certainly happened some! \n",
    "# uncomment the line below for an example \n",
    "# Is Laplace smoothing the solution? Or something more significant? \n",
    "print(yard_probabilities[50, 52:149]) # look at all possible yards gained at the 50 yard line "
   ]
  },
  {
   "cell_type": "code",
   "execution_count": 154,
   "metadata": {},
   "outputs": [
    {
     "name": "stdout",
     "output_type": "stream",
     "text": [
      "Cost: 0.014088655099676866\n"
     ]
    }
   ],
   "source": [
    "all_loss = []\n",
    "for index, row in dev.iterrows():\n",
    "    pred_cdf = squash(yard_cdf[int(row['YardsRemaining'])-1,:], int(row['YardsRemaining']))\n",
    "    true_cdf = np.zeros(199)\n",
    "    true_cdf[99+row['Yards']:] = 1\n",
    "    loss = 1/199 * np.sum((pred_cdf-true_cdf)**2)\n",
    "    all_loss.append(loss)\n",
    "cost = np.average(all_loss)\n",
    "print(\"Cost: {}\".format(cost))"
   ]
  },
  {
   "cell_type": "markdown",
   "metadata": {},
   "source": [
    "## Using Kernel methods on model for each yard line"
   ]
  },
  {
   "cell_type": "code",
   "execution_count": 172,
   "metadata": {},
   "outputs": [],
   "source": [
    "#tune this as needed\n",
    "sigma = 16\n",
    "boosted_cdf = np.zeros(199)\n",
    "weights = []\n",
    "for true_remaining in range(1,100):\n",
    "    for model_remaining in range (1,100):\n",
    "        yard_line_cdf = yard_cdf[model_remaining-1,:]\n",
    "        weight = np.exp(-((true_remaining - model_remaining)**2) / (2*(sigma**2)))\n",
    "        weights.append(weight)\n",
    "        boosted_cdf += weight*yard_line_cdf\n",
    "        \n",
    "#normalize the cdf\n",
    "boosted_cdf = boosted_cdf / np.sum(weights)\n",
    "\n",
    "       "
   ]
  },
  {
   "cell_type": "markdown",
   "metadata": {},
   "source": [
    "## Compute loss for weighted model"
   ]
  },
  {
   "cell_type": "code",
   "execution_count": 173,
   "metadata": {},
   "outputs": [
    {
     "name": "stdout",
     "output_type": "stream",
     "text": [
      "Cost: 0.014044888138695224\n"
     ]
    }
   ],
   "source": [
    "all_loss = []\n",
    "for index, row in dev.iterrows():\n",
    "    pred_cdf = squash(boosted_cdf, int(row['YardsRemaining']))\n",
    "    true_cdf = np.zeros(199)\n",
    "    true_cdf[99+row['Yards']:] = 1\n",
    "    loss = 1/199 * np.sum((pred_cdf-true_cdf)**2)\n",
    "    all_loss.append(loss)\n",
    "cost = np.average(all_loss)\n",
    "print(\"Cost: {}\".format(cost))"
   ]
  },
  {
   "cell_type": "code",
   "execution_count": null,
   "metadata": {},
   "outputs": [],
   "source": []
  }
 ],
 "metadata": {
  "kernelspec": {
   "display_name": "Python 3",
   "language": "python",
   "name": "python3"
  },
  "language_info": {
   "codemirror_mode": {
    "name": "ipython",
    "version": 3
   },
   "file_extension": ".py",
   "mimetype": "text/x-python",
   "name": "python",
   "nbconvert_exporter": "python",
   "pygments_lexer": "ipython3",
   "version": "3.6.7"
  }
 },
 "nbformat": 4,
 "nbformat_minor": 2
}

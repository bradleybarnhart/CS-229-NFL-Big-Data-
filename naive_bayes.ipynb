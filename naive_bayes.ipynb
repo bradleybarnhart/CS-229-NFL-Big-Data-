{
 "cells": [
  {
   "cell_type": "markdown",
   "metadata": {},
   "source": [
    "# Look at the data "
   ]
  },
  {
   "cell_type": "code",
   "execution_count": 12,
   "metadata": {},
   "outputs": [
    {
     "data": {
      "text/html": [
       "<div>\n",
       "<style scoped>\n",
       "    .dataframe tbody tr th:only-of-type {\n",
       "        vertical-align: middle;\n",
       "    }\n",
       "\n",
       "    .dataframe tbody tr th {\n",
       "        vertical-align: top;\n",
       "    }\n",
       "\n",
       "    .dataframe thead th {\n",
       "        text-align: right;\n",
       "    }\n",
       "</style>\n",
       "<table border=\"1\" class=\"dataframe\">\n",
       "  <thead>\n",
       "    <tr style=\"text-align: right;\">\n",
       "      <th></th>\n",
       "      <th>GameId</th>\n",
       "      <th>PlayId</th>\n",
       "      <th>Team</th>\n",
       "      <th>X</th>\n",
       "      <th>Y</th>\n",
       "      <th>S</th>\n",
       "      <th>A</th>\n",
       "      <th>Dis</th>\n",
       "      <th>Orientation</th>\n",
       "      <th>Dir</th>\n",
       "      <th>...</th>\n",
       "      <th>Week</th>\n",
       "      <th>Stadium</th>\n",
       "      <th>Location</th>\n",
       "      <th>StadiumType</th>\n",
       "      <th>Turf</th>\n",
       "      <th>GameWeather</th>\n",
       "      <th>Temperature</th>\n",
       "      <th>Humidity</th>\n",
       "      <th>WindSpeed</th>\n",
       "      <th>WindDirection</th>\n",
       "    </tr>\n",
       "  </thead>\n",
       "  <tbody>\n",
       "    <tr>\n",
       "      <td>0</td>\n",
       "      <td>2017090700</td>\n",
       "      <td>20170907000118</td>\n",
       "      <td>away</td>\n",
       "      <td>73.91</td>\n",
       "      <td>34.84</td>\n",
       "      <td>1.69</td>\n",
       "      <td>1.13</td>\n",
       "      <td>0.40</td>\n",
       "      <td>81.99</td>\n",
       "      <td>177.18</td>\n",
       "      <td>...</td>\n",
       "      <td>1</td>\n",
       "      <td>Gillette Stadium</td>\n",
       "      <td>Foxborough, MA</td>\n",
       "      <td>Outdoor</td>\n",
       "      <td>Field Turf</td>\n",
       "      <td>Clear and warm</td>\n",
       "      <td>63.0</td>\n",
       "      <td>77.0</td>\n",
       "      <td>8</td>\n",
       "      <td>SW</td>\n",
       "    </tr>\n",
       "    <tr>\n",
       "      <td>1</td>\n",
       "      <td>2017090700</td>\n",
       "      <td>20170907000118</td>\n",
       "      <td>away</td>\n",
       "      <td>74.67</td>\n",
       "      <td>32.64</td>\n",
       "      <td>0.42</td>\n",
       "      <td>1.35</td>\n",
       "      <td>0.01</td>\n",
       "      <td>27.61</td>\n",
       "      <td>198.70</td>\n",
       "      <td>...</td>\n",
       "      <td>1</td>\n",
       "      <td>Gillette Stadium</td>\n",
       "      <td>Foxborough, MA</td>\n",
       "      <td>Outdoor</td>\n",
       "      <td>Field Turf</td>\n",
       "      <td>Clear and warm</td>\n",
       "      <td>63.0</td>\n",
       "      <td>77.0</td>\n",
       "      <td>8</td>\n",
       "      <td>SW</td>\n",
       "    </tr>\n",
       "    <tr>\n",
       "      <td>2</td>\n",
       "      <td>2017090700</td>\n",
       "      <td>20170907000118</td>\n",
       "      <td>away</td>\n",
       "      <td>74.00</td>\n",
       "      <td>33.20</td>\n",
       "      <td>1.22</td>\n",
       "      <td>0.59</td>\n",
       "      <td>0.31</td>\n",
       "      <td>3.01</td>\n",
       "      <td>202.73</td>\n",
       "      <td>...</td>\n",
       "      <td>1</td>\n",
       "      <td>Gillette Stadium</td>\n",
       "      <td>Foxborough, MA</td>\n",
       "      <td>Outdoor</td>\n",
       "      <td>Field Turf</td>\n",
       "      <td>Clear and warm</td>\n",
       "      <td>63.0</td>\n",
       "      <td>77.0</td>\n",
       "      <td>8</td>\n",
       "      <td>SW</td>\n",
       "    </tr>\n",
       "    <tr>\n",
       "      <td>3</td>\n",
       "      <td>2017090700</td>\n",
       "      <td>20170907000118</td>\n",
       "      <td>away</td>\n",
       "      <td>71.46</td>\n",
       "      <td>27.70</td>\n",
       "      <td>0.42</td>\n",
       "      <td>0.54</td>\n",
       "      <td>0.02</td>\n",
       "      <td>359.77</td>\n",
       "      <td>105.64</td>\n",
       "      <td>...</td>\n",
       "      <td>1</td>\n",
       "      <td>Gillette Stadium</td>\n",
       "      <td>Foxborough, MA</td>\n",
       "      <td>Outdoor</td>\n",
       "      <td>Field Turf</td>\n",
       "      <td>Clear and warm</td>\n",
       "      <td>63.0</td>\n",
       "      <td>77.0</td>\n",
       "      <td>8</td>\n",
       "      <td>SW</td>\n",
       "    </tr>\n",
       "    <tr>\n",
       "      <td>4</td>\n",
       "      <td>2017090700</td>\n",
       "      <td>20170907000118</td>\n",
       "      <td>away</td>\n",
       "      <td>69.32</td>\n",
       "      <td>35.42</td>\n",
       "      <td>1.82</td>\n",
       "      <td>2.43</td>\n",
       "      <td>0.16</td>\n",
       "      <td>12.63</td>\n",
       "      <td>164.31</td>\n",
       "      <td>...</td>\n",
       "      <td>1</td>\n",
       "      <td>Gillette Stadium</td>\n",
       "      <td>Foxborough, MA</td>\n",
       "      <td>Outdoor</td>\n",
       "      <td>Field Turf</td>\n",
       "      <td>Clear and warm</td>\n",
       "      <td>63.0</td>\n",
       "      <td>77.0</td>\n",
       "      <td>8</td>\n",
       "      <td>SW</td>\n",
       "    </tr>\n",
       "  </tbody>\n",
       "</table>\n",
       "<p>5 rows × 49 columns</p>\n",
       "</div>"
      ],
      "text/plain": [
       "       GameId          PlayId  Team      X      Y     S     A   Dis  \\\n",
       "0  2017090700  20170907000118  away  73.91  34.84  1.69  1.13  0.40   \n",
       "1  2017090700  20170907000118  away  74.67  32.64  0.42  1.35  0.01   \n",
       "2  2017090700  20170907000118  away  74.00  33.20  1.22  0.59  0.31   \n",
       "3  2017090700  20170907000118  away  71.46  27.70  0.42  0.54  0.02   \n",
       "4  2017090700  20170907000118  away  69.32  35.42  1.82  2.43  0.16   \n",
       "\n",
       "   Orientation     Dir  ...  Week           Stadium        Location  \\\n",
       "0        81.99  177.18  ...     1  Gillette Stadium  Foxborough, MA   \n",
       "1        27.61  198.70  ...     1  Gillette Stadium  Foxborough, MA   \n",
       "2         3.01  202.73  ...     1  Gillette Stadium  Foxborough, MA   \n",
       "3       359.77  105.64  ...     1  Gillette Stadium  Foxborough, MA   \n",
       "4        12.63  164.31  ...     1  Gillette Stadium  Foxborough, MA   \n",
       "\n",
       "   StadiumType        Turf     GameWeather Temperature Humidity  WindSpeed  \\\n",
       "0      Outdoor  Field Turf  Clear and warm        63.0     77.0          8   \n",
       "1      Outdoor  Field Turf  Clear and warm        63.0     77.0          8   \n",
       "2      Outdoor  Field Turf  Clear and warm        63.0     77.0          8   \n",
       "3      Outdoor  Field Turf  Clear and warm        63.0     77.0          8   \n",
       "4      Outdoor  Field Turf  Clear and warm        63.0     77.0          8   \n",
       "\n",
       "   WindDirection  \n",
       "0             SW  \n",
       "1             SW  \n",
       "2             SW  \n",
       "3             SW  \n",
       "4             SW  \n",
       "\n",
       "[5 rows x 49 columns]"
      ]
     },
     "execution_count": 12,
     "metadata": {},
     "output_type": "execute_result"
    }
   ],
   "source": [
    "import csv\n",
    "import pandas as pd\n",
    "import numpy as np \n",
    "import matplotlib.pyplot as plt\n",
    "import seaborn as sns\n",
    "\n",
    "filename = 'train.csv' \n",
    "df = pd.read_csv(filename)\n",
    "df.head()"
   ]
  },
  {
   "cell_type": "markdown",
   "metadata": {},
   "source": [
    "# Look at some Null Values "
   ]
  },
  {
   "cell_type": "code",
   "execution_count": 113,
   "metadata": {},
   "outputs": [
    {
     "name": "stdout",
     "output_type": "stream",
     "text": [
      "6424\n",
      "(509762, 49)\n"
     ]
    }
   ],
   "source": [
    "field_positions = df['FieldPosition']\n",
    "print(sum(field_positions.isnull()==True))\n",
    "print(df.shape)"
   ]
  },
  {
   "cell_type": "code",
   "execution_count": 114,
   "metadata": {},
   "outputs": [
    {
     "name": "stdout",
     "output_type": "stream",
     "text": [
      "[1, 2, 3, 4, 5, 6, 7, 8, 9, 10, 11, 12, 13, 14, 15, 16, 17, 18, 19, 20, 21, 22, 23, 24, 25, 26, 27, 28, 29, 30, 31, 32, 33, 34, 35, 36, 37, 38, 39, 40, 41, 42, 43, 44, 45, 46, 47, 48, 49, 50]\n"
     ]
    }
   ],
   "source": [
    "print(sorted(df.YardLine.unique()))"
   ]
  },
  {
   "cell_type": "code",
   "execution_count": 115,
   "metadata": {},
   "outputs": [
    {
     "name": "stdout",
     "output_type": "stream",
     "text": [
      "0\n",
      "(503338, 49)\n"
     ]
    }
   ],
   "source": [
    "# DON'T RUN THIS, FOR SHOW ONLY\n",
    "df.dropna(subset=['FieldPosition'], inplace=True)\n",
    "print(sum(df.FieldPosition.isnull()==True))\n",
    "print(df.shape) # LOL all the null values are at the same yardline"
   ]
  },
  {
   "cell_type": "code",
   "execution_count": 116,
   "metadata": {},
   "outputs": [
    {
     "name": "stdout",
     "output_type": "stream",
     "text": [
      "[1, 2, 3, 4, 5, 6, 7, 8, 9, 10, 11, 12, 13, 14, 15, 16, 17, 18, 19, 20, 21, 22, 23, 24, 25, 26, 27, 28, 29, 30, 31, 32, 33, 34, 35, 36, 37, 38, 39, 40, 41, 42, 43, 44, 45, 46, 47, 48, 49]\n"
     ]
    }
   ],
   "source": [
    "print(sorted(df.YardLine.unique()))"
   ]
  },
  {
   "cell_type": "code",
   "execution_count": 118,
   "metadata": {},
   "outputs": [
    {
     "name": "stdout",
     "output_type": "stream",
     "text": [
      "         GameId          PlayId FieldPosition PossessionTeam  YardLine\n",
      "198  2017090700  20170907000801           NaN             KC        50\n",
      "199  2017090700  20170907000801           NaN             KC        50\n",
      "200  2017090700  20170907000801           NaN             KC        50\n",
      "201  2017090700  20170907000801           NaN             KC        50\n",
      "202  2017090700  20170907000801           NaN             KC        50\n",
      "         GameId          PlayId FieldPosition PossessionTeam  YardLine\n",
      "198  2017090700  20170907000801            KC             KC        50\n",
      "199  2017090700  20170907000801            KC             KC        50\n",
      "200  2017090700  20170907000801            KC             KC        50\n",
      "201  2017090700  20170907000801            KC             KC        50\n",
      "202  2017090700  20170907000801            KC             KC        50\n"
     ]
    }
   ],
   "source": [
    "# Think we'll want to handle this by filling in the null 'FieldPositions' with the value in 'PossessionTeam'\n",
    "print(df[df.FieldPosition.isnull()][['GameId', 'PlayId', 'FieldPosition', 'PossessionTeam', 'YardLine']].head())\n",
    "df.FieldPosition.fillna(df.PossessionTeam, inplace=True)\n",
    "print(df[198:203][['GameId', 'PlayId', 'FieldPosition', 'PossessionTeam', 'YardLine']])"
   ]
  },
  {
   "cell_type": "code",
   "execution_count": 119,
   "metadata": {},
   "outputs": [
    {
     "name": "stdout",
     "output_type": "stream",
     "text": [
      "0\n",
      "(509762, 49)\n"
     ]
    }
   ],
   "source": [
    "field_positions = df['FieldPosition']\n",
    "print(sum(field_positions.isnull()==True))\n",
    "print(df.shape)"
   ]
  },
  {
   "cell_type": "markdown",
   "metadata": {},
   "source": [
    "# UH OH"
   ]
  },
  {
   "cell_type": "code",
   "execution_count": 120,
   "metadata": {},
   "outputs": [
    {
     "name": "stdout",
     "output_type": "stream",
     "text": [
      "       GameId          PlayId FieldPosition PossessionTeam  YardLine  Yards\n",
      "0  2017090700  20170907000118            NE             NE        35      8\n",
      "1  2017090700  20170907000118            NE             NE        35      8\n",
      "2  2017090700  20170907000118            NE             NE        35      8\n",
      "3  2017090700  20170907000118            NE             NE        35      8\n",
      "4  2017090700  20170907000118            NE             NE        35      8\n",
      "(509762, 49)\n"
     ]
    }
   ],
   "source": [
    "# Same gameid, same playid, same yards gained for the first 5 entries... hm..\n",
    "print(df.head()[['GameId', 'PlayId', 'FieldPosition', 'PossessionTeam', 'YardLine', 'Yards']])\n",
    "print(df.shape)"
   ]
  },
  {
   "cell_type": "code",
   "execution_count": 121,
   "metadata": {},
   "outputs": [
    {
     "name": "stdout",
     "output_type": "stream",
     "text": [
      "        GameId          PlayId FieldPosition PossessionTeam  YardLine  Yards\n",
      "0   2017090700  20170907000118            NE             NE        35      8\n",
      "22  2017090700  20170907000139            NE             NE        43      3\n",
      "44  2017090700  20170907000189            KC             NE        35      5\n",
      "66  2017090700  20170907000345            KC             NE         2      2\n",
      "88  2017090700  20170907000395            KC             KC        25      7\n",
      "       GameId          PlayId FieldPosition PossessionTeam  YardLine  Yards\n",
      "0  2017090700  20170907000118            NE             NE        35      8\n",
      "1  2017090700  20170907000139            NE             NE        43      3\n",
      "2  2017090700  20170907000189            KC             NE        35      5\n",
      "3  2017090700  20170907000345            KC             NE         2      2\n",
      "4  2017090700  20170907000395            KC             KC        25      7\n",
      "(23171, 49)\n"
     ]
    }
   ],
   "source": [
    "# DON'T RUN THIS, FOR SHOW ONLY\n",
    "df.drop_duplicates(subset = 'PlayId', keep = 'first', inplace = True)\n",
    "print(df.head()[['GameId', 'PlayId', 'FieldPosition', 'PossessionTeam', 'YardLine', 'Yards']])\n",
    "df.reset_index(drop=True, inplace=True)\n",
    "print(df.head()[['GameId', 'PlayId', 'FieldPosition', 'PossessionTeam', 'YardLine', 'Yards']])\n",
    "print(df.shape)"
   ]
  },
  {
   "cell_type": "code",
   "execution_count": 13,
   "metadata": {},
   "outputs": [
    {
     "name": "stdout",
     "output_type": "stream",
     "text": [
      "        GameId          PlayId FieldPosition PossessionTeam  YardLine  Yards\n",
      "18  2017090700  20170907000118            NE             NE        35      8\n",
      "40  2017090700  20170907000139            NE             NE        43      3\n",
      "62  2017090700  20170907000189            KC             NE        35      5\n",
      "84  2017090700  20170907000345            KC             NE         2      2\n",
      "98  2017090700  20170907000395            KC             KC        25      7\n",
      "       GameId          PlayId FieldPosition PossessionTeam  YardLine  Yards\n",
      "0  2017090700  20170907000118            NE             NE        35      8\n",
      "1  2017090700  20170907000139            NE             NE        43      3\n",
      "2  2017090700  20170907000189            KC             NE        35      5\n",
      "3  2017090700  20170907000345            KC             NE         2      2\n",
      "4  2017090700  20170907000395            KC             KC        25      7\n",
      "(23171, 49)\n"
     ]
    }
   ],
   "source": [
    "df = df[df['NflIdRusher']==df['NflId']] # only keep entries associated with the rusher\n",
    "print(df.head()[['GameId', 'PlayId', 'FieldPosition', 'PossessionTeam', 'YardLine', 'Yards']])\n",
    "df.reset_index(drop=True, inplace=True)\n",
    "print(df.head()[['GameId', 'PlayId', 'FieldPosition', 'PossessionTeam', 'YardLine', 'Yards']])\n",
    "print(df.shape)"
   ]
  },
  {
   "cell_type": "markdown",
   "metadata": {},
   "source": [
    "# PreProcess the Data"
   ]
  },
  {
   "cell_type": "markdown",
   "metadata": {},
   "source": [
    "## Calculate number of yards remaining "
   ]
  },
  {
   "cell_type": "code",
   "execution_count": 10,
   "metadata": {},
   "outputs": [
    {
     "name": "stdout",
     "output_type": "stream",
     "text": [
      "['ARZ', 'ATL', 'BLT', 'BUF', 'CAR', 'CHI', 'CIN', 'CLV', 'DAL', 'DEN', 'DET', 'GB', 'HST', 'IND', 'JAX', 'KC', 'LA', 'LAC', 'MIA', 'MIN', 'NE', 'NO', 'NYG', 'NYJ', 'OAK', 'PHI', 'PIT', 'SEA', 'SF', 'TB', 'TEN', 'WAS']\n",
      "['ARI', 'ATL', 'BAL', 'BUF', 'CAR', 'CHI', 'CIN', 'CLE', 'DAL', 'DEN', 'DET', 'GB', 'HOU', 'IND', 'JAX', 'KC', 'LA', 'LAC', 'MIA', 'MIN', 'NE', 'NO', 'NYG', 'NYJ', 'OAK', 'PHI', 'PIT', 'SEA', 'SF', 'TB', 'TEN', 'WAS']\n",
      "['ARI', 'ATL', 'BAL', 'BUF', 'CAR', 'CHI', 'CIN', 'CLE', 'DAL', 'DEN', 'DET', 'GB', 'HOU', 'IND', 'JAX', 'KC', 'LA', 'LAC', 'MIA', 'MIN', 'NE', 'NO', 'NYG', 'NYJ', 'OAK', 'PHI', 'PIT', 'SEA', 'SF', 'TB', 'TEN', 'WAS']\n"
     ]
    }
   ],
   "source": [
    "# Note Cleveland, Baltimore, Arizona, and Houston have different abbreviations in diff cols\n",
    "print(sorted(df.PossessionTeam.unique()))\n",
    "print(sorted(df.HomeTeamAbbr.unique()))\n",
    "print(sorted(df.VisitorTeamAbbr.unique()))"
   ]
  },
  {
   "cell_type": "code",
   "execution_count": 30,
   "metadata": {},
   "outputs": [
    {
     "data": {
      "text/html": [
       "<div>\n",
       "<style scoped>\n",
       "    .dataframe tbody tr th:only-of-type {\n",
       "        vertical-align: middle;\n",
       "    }\n",
       "\n",
       "    .dataframe tbody tr th {\n",
       "        vertical-align: top;\n",
       "    }\n",
       "\n",
       "    .dataframe thead th {\n",
       "        text-align: right;\n",
       "    }\n",
       "</style>\n",
       "<table border=\"1\" class=\"dataframe\">\n",
       "  <thead>\n",
       "    <tr style=\"text-align: right;\">\n",
       "      <th></th>\n",
       "      <th>GameId</th>\n",
       "      <th>PlayId</th>\n",
       "      <th>FieldPosition</th>\n",
       "      <th>PossessionTeam</th>\n",
       "      <th>YardLine</th>\n",
       "      <th>Yards</th>\n",
       "      <th>YardsRemaining</th>\n",
       "    </tr>\n",
       "  </thead>\n",
       "  <tbody>\n",
       "    <tr>\n",
       "      <td>0</td>\n",
       "      <td>2017090700</td>\n",
       "      <td>20170907000118</td>\n",
       "      <td>NE</td>\n",
       "      <td>NE</td>\n",
       "      <td>35</td>\n",
       "      <td>8</td>\n",
       "      <td>65.0</td>\n",
       "    </tr>\n",
       "    <tr>\n",
       "      <td>1</td>\n",
       "      <td>2017090700</td>\n",
       "      <td>20170907000139</td>\n",
       "      <td>NE</td>\n",
       "      <td>NE</td>\n",
       "      <td>43</td>\n",
       "      <td>3</td>\n",
       "      <td>57.0</td>\n",
       "    </tr>\n",
       "    <tr>\n",
       "      <td>2</td>\n",
       "      <td>2017090700</td>\n",
       "      <td>20170907000189</td>\n",
       "      <td>KC</td>\n",
       "      <td>NE</td>\n",
       "      <td>35</td>\n",
       "      <td>5</td>\n",
       "      <td>35.0</td>\n",
       "    </tr>\n",
       "    <tr>\n",
       "      <td>3</td>\n",
       "      <td>2017090700</td>\n",
       "      <td>20170907000345</td>\n",
       "      <td>KC</td>\n",
       "      <td>NE</td>\n",
       "      <td>2</td>\n",
       "      <td>2</td>\n",
       "      <td>2.0</td>\n",
       "    </tr>\n",
       "    <tr>\n",
       "      <td>4</td>\n",
       "      <td>2017090700</td>\n",
       "      <td>20170907000395</td>\n",
       "      <td>KC</td>\n",
       "      <td>KC</td>\n",
       "      <td>25</td>\n",
       "      <td>7</td>\n",
       "      <td>75.0</td>\n",
       "    </tr>\n",
       "  </tbody>\n",
       "</table>\n",
       "</div>"
      ],
      "text/plain": [
       "       GameId          PlayId FieldPosition PossessionTeam  YardLine  Yards  \\\n",
       "0  2017090700  20170907000118            NE             NE        35      8   \n",
       "1  2017090700  20170907000139            NE             NE        43      3   \n",
       "2  2017090700  20170907000189            KC             NE        35      5   \n",
       "3  2017090700  20170907000345            KC             NE         2      2   \n",
       "4  2017090700  20170907000395            KC             KC        25      7   \n",
       "\n",
       "   YardsRemaining  \n",
       "0            65.0  \n",
       "1            57.0  \n",
       "2            35.0  \n",
       "3             2.0  \n",
       "4            75.0  "
      ]
     },
     "execution_count": 30,
     "metadata": {},
     "output_type": "execute_result"
    }
   ],
   "source": [
    "df['YardsRemaining'] = 100 - df.YardLine[df.FieldPosition == df.PossessionTeam]\n",
    "df.YardsRemaining.fillna(df.YardLine, inplace=True)\n",
    "df.head()[['GameId', 'PlayId', 'FieldPosition', 'PossessionTeam', 'YardLine', 'Yards', 'YardsRemaining']]"
   ]
  },
  {
   "cell_type": "markdown",
   "metadata": {},
   "source": [
    "# Perform Naive Bayes "
   ]
  },
  {
   "cell_type": "markdown",
   "metadata": {},
   "source": [
    "## Calculate probability of x yards gained given y yards remaining"
   ]
  },
  {
   "cell_type": "code",
   "execution_count": 48,
   "metadata": {},
   "outputs": [
    {
     "data": {
      "image/png": "[encoded data removed]",
      "text/plain": [
       "<Figure size 432x288 with 1 Axes>"
      ]
     },
     "metadata": {
      "needs_background": "light"
     },
     "output_type": "display_data"
    },
    {
     "data": {
      "image/png": "[encoded data removed]",
      "text/plain": [
       "<Figure size 432x288 with 1 Axes>"
      ]
     },
     "metadata": {
      "needs_background": "light"
     },
     "output_type": "display_data"
    },
    {
     "name": "stdout",
     "output_type": "stream",
     "text": [
      "[0.06581503 0.11052609 0.2030987  1.         1.        ]\n"
     ]
    }
   ],
   "source": [
    "# yards = df['Yards']\n",
    "\n",
    "# yard_counts = np.zeros((99,199), dtype = 'uint32')\n",
    "# yard_probabilities = np.zeros((99,199), dtype = 'float')\n",
    "\n",
    "# for yard_remaining in range(1,100):\n",
    "#     yards_current = yards[yards_remaining==yard_remaining]\n",
    "    \n",
    "#     for yard in range(-99, 100):\n",
    "#         yard_counts[yard_remaining-1,yard+99] = sum(yards_current==yard)\n",
    "        \n",
    "#     yard_probabilities[yard_remaining-1,:] = yard_counts[yard_remaining-1,:] / np.sum(yard_counts[yard_remaining-1,:])\n",
    "\n",
    "# calculate pmf \n",
    "yard_counts = np.zeros((199), dtype = 'double')\n",
    "for yard in range(-99, 100):\n",
    "    yard_counts[yard+99] = sum(df['Yards']==yard)\n",
    "yard_probabilities = yard_counts / np.sum(yard_counts)\n",
    "# print(yard_probabilities)\n",
    "\n",
    "# calculate cdf\n",
    "yard_cdf = np.cumsum(yard_probabilities)\n",
    "# print(yard_cdf)\n",
    "\n",
    "plt.plot(np.arange(-99,100),yard_cdf)\n",
    "plt.show() \n",
    "\n",
    "# example squash adjustment \n",
    "yard_remaining = 1\n",
    "yard_cdf[199-(100 - yard_remaining):] = 1 # squash probability\n",
    "yard_cdf[0:yard_remaining-1] = 0 \n",
    "\n",
    "plt.plot(np.arange(-99,100),yard_cdf)\n",
    "plt.show() \n",
    "print(yard_cdf[97:102])\n"
   ]
  },
  {
   "cell_type": "code",
   "execution_count": null,
   "metadata": {},
   "outputs": [],
   "source": []
  },
  {
   "cell_type": "markdown",
   "metadata": {},
   "source": [
    "## Plot Probabilities "
   ]
  },
  {
   "cell_type": "code",
   "execution_count": 125,
   "metadata": {},
   "outputs": [
    {
     "data": {
      "image/png": "[encoded data removed]",
      "text/plain": [
       "<Figure size 432x288 with 1 Axes>"
      ]
     },
     "metadata": {
      "needs_background": "light"
     },
     "output_type": "display_data"
    },
    {
     "name": "stdout",
     "output_type": "stream",
     "text": [
      "[0.         0.         0.         0.         0.         0.\n",
      " 0.         0.         0.         0.         0.         0.\n",
      " 0.         0.         0.         0.         0.         0.\n",
      " 0.         0.         0.         0.         0.         0.\n",
      " 0.         0.         0.         0.         0.         0.\n",
      " 0.         0.         0.         0.         0.         0.\n",
      " 0.         0.         0.         0.         0.         0.00803213\n",
      " 0.00401606 0.01204819 0.02409639 0.04417671 0.04819277 0.09638554\n",
      " 0.11646586 0.08032129 0.13253012 0.08835341 0.06425703 0.06827309\n",
      " 0.0562249  0.04016064 0.02811245 0.00803213 0.01204819 0.01204819\n",
      " 0.01204819 0.00803213 0.00803213 0.         0.         0.\n",
      " 0.         0.00401606 0.00401606 0.         0.00401606 0.00401606\n",
      " 0.         0.00401606 0.         0.         0.         0.\n",
      " 0.         0.         0.         0.         0.         0.\n",
      " 0.         0.         0.         0.00401606 0.         0.\n",
      " 0.         0.         0.         0.         0.         0.\n",
      " 0.00401606]\n"
     ]
    }
   ],
   "source": [
    "for yard_line in [1,50,99]:\n",
    "    yard_line_index = yard_line -1\n",
    "    plt.plot(np.arange(-99,100),yard_probabilities[yard_line_index,:], label = str(yard_line))\n",
    "    \n",
    "plt.legend()    \n",
    "plt.show() \n",
    "\n",
    "# Observations: seems like there is some data missing...\n",
    "# at the 50 yard line, many yards gained in the 0-50 window have 0 probability, \n",
    "# even those should have almost certainly happened some! \n",
    "# uncomment the line below for an example \n",
    "# Is Laplace smoothing the solution? Or something more significant? \n",
    "print(yard_probabilities[50, 52:149]) # look at all possible yards gained at the 50 yard line "
   ]
  }
 ],
 "metadata": {
  "kernelspec": {
   "display_name": "Python 3",
   "language": "python",
   "name": "python3"
  },
  "language_info": {
   "codemirror_mode": {
    "name": "ipython",
    "version": 3
   },
   "file_extension": ".py",
   "mimetype": "text/x-python",
   "name": "python",
   "nbconvert_exporter": "python",
   "pygments_lexer": "ipython3",
   "version": "3.6.7"
  }
 },
 "nbformat": 4,
 "nbformat_minor": 2
}

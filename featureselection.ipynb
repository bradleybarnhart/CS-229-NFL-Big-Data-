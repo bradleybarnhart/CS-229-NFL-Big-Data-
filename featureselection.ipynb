{
 "cells": [
  {
   "cell_type": "markdown",
   "metadata": {},
   "source": [
    "# Feature Selection"
   ]
  },
  {
   "cell_type": "code",
   "execution_count": 3,
   "metadata": {},
   "outputs": [],
   "source": [
    "import csv\n",
    "import pandas as pd\n",
    "import numpy as np \n",
    "import matplotlib.pyplot as plt\n",
    "import seaborn as sns\n",
    "from sklearn.model_selection import train_test_split\n",
    "\n",
    "sns.set()"
   ]
  },
  {
   "cell_type": "code",
   "execution_count": 4,
   "metadata": {},
   "outputs": [],
   "source": [
    "# squash probabilities\n",
    "def squash(yard_cdf, yard_remaining):\n",
    "    squash_cdf = yard_cdf.copy()\n",
    "    squash_cdf[199-(100 - yard_remaining):] = 1\n",
    "    squash_cdf[0:yard_remaining-1] = 0 \n",
    "    return squash_cdf"
   ]
  },
  {
   "cell_type": "markdown",
   "metadata": {},
   "source": [
    "## Load data"
   ]
  },
  {
   "cell_type": "code",
   "execution_count": 5,
   "metadata": {},
   "outputs": [
    {
     "name": "stderr",
     "output_type": "stream",
     "text": [
      "/home/bradley/miniconda3/lib/python3.7/site-packages/IPython/core/interactiveshell.py:3058: DtypeWarning: Columns (47) have mixed types. Specify dtype option on import or set low_memory=False.\n",
      "  interactivity=interactivity, compiler=compiler, result=result)\n"
     ]
    },
    {
     "data": {
      "text/html": [
       "<div>\n",
       "<style scoped>\n",
       "    .dataframe tbody tr th:only-of-type {\n",
       "        vertical-align: middle;\n",
       "    }\n",
       "\n",
       "    .dataframe tbody tr th {\n",
       "        vertical-align: top;\n",
       "    }\n",
       "\n",
       "    .dataframe thead th {\n",
       "        text-align: right;\n",
       "    }\n",
       "</style>\n",
       "<table border=\"1\" class=\"dataframe\">\n",
       "  <thead>\n",
       "    <tr style=\"text-align: right;\">\n",
       "      <th></th>\n",
       "      <th>GameId</th>\n",
       "      <th>PlayId</th>\n",
       "      <th>Team</th>\n",
       "      <th>X</th>\n",
       "      <th>Y</th>\n",
       "      <th>S</th>\n",
       "      <th>A</th>\n",
       "      <th>Dis</th>\n",
       "      <th>Orientation</th>\n",
       "      <th>Dir</th>\n",
       "      <th>...</th>\n",
       "      <th>Week</th>\n",
       "      <th>Stadium</th>\n",
       "      <th>Location</th>\n",
       "      <th>StadiumType</th>\n",
       "      <th>Turf</th>\n",
       "      <th>GameWeather</th>\n",
       "      <th>Temperature</th>\n",
       "      <th>Humidity</th>\n",
       "      <th>WindSpeed</th>\n",
       "      <th>WindDirection</th>\n",
       "    </tr>\n",
       "  </thead>\n",
       "  <tbody>\n",
       "    <tr>\n",
       "      <th>0</th>\n",
       "      <td>2017090700</td>\n",
       "      <td>20170907000118</td>\n",
       "      <td>away</td>\n",
       "      <td>73.91</td>\n",
       "      <td>34.84</td>\n",
       "      <td>1.69</td>\n",
       "      <td>1.13</td>\n",
       "      <td>0.40</td>\n",
       "      <td>81.99</td>\n",
       "      <td>177.18</td>\n",
       "      <td>...</td>\n",
       "      <td>1</td>\n",
       "      <td>Gillette Stadium</td>\n",
       "      <td>Foxborough, MA</td>\n",
       "      <td>Outdoor</td>\n",
       "      <td>Field Turf</td>\n",
       "      <td>Clear and warm</td>\n",
       "      <td>63.0</td>\n",
       "      <td>77.0</td>\n",
       "      <td>8</td>\n",
       "      <td>SW</td>\n",
       "    </tr>\n",
       "    <tr>\n",
       "      <th>1</th>\n",
       "      <td>2017090700</td>\n",
       "      <td>20170907000118</td>\n",
       "      <td>away</td>\n",
       "      <td>74.67</td>\n",
       "      <td>32.64</td>\n",
       "      <td>0.42</td>\n",
       "      <td>1.35</td>\n",
       "      <td>0.01</td>\n",
       "      <td>27.61</td>\n",
       "      <td>198.70</td>\n",
       "      <td>...</td>\n",
       "      <td>1</td>\n",
       "      <td>Gillette Stadium</td>\n",
       "      <td>Foxborough, MA</td>\n",
       "      <td>Outdoor</td>\n",
       "      <td>Field Turf</td>\n",
       "      <td>Clear and warm</td>\n",
       "      <td>63.0</td>\n",
       "      <td>77.0</td>\n",
       "      <td>8</td>\n",
       "      <td>SW</td>\n",
       "    </tr>\n",
       "    <tr>\n",
       "      <th>2</th>\n",
       "      <td>2017090700</td>\n",
       "      <td>20170907000118</td>\n",
       "      <td>away</td>\n",
       "      <td>74.00</td>\n",
       "      <td>33.20</td>\n",
       "      <td>1.22</td>\n",
       "      <td>0.59</td>\n",
       "      <td>0.31</td>\n",
       "      <td>3.01</td>\n",
       "      <td>202.73</td>\n",
       "      <td>...</td>\n",
       "      <td>1</td>\n",
       "      <td>Gillette Stadium</td>\n",
       "      <td>Foxborough, MA</td>\n",
       "      <td>Outdoor</td>\n",
       "      <td>Field Turf</td>\n",
       "      <td>Clear and warm</td>\n",
       "      <td>63.0</td>\n",
       "      <td>77.0</td>\n",
       "      <td>8</td>\n",
       "      <td>SW</td>\n",
       "    </tr>\n",
       "    <tr>\n",
       "      <th>3</th>\n",
       "      <td>2017090700</td>\n",
       "      <td>20170907000118</td>\n",
       "      <td>away</td>\n",
       "      <td>71.46</td>\n",
       "      <td>27.70</td>\n",
       "      <td>0.42</td>\n",
       "      <td>0.54</td>\n",
       "      <td>0.02</td>\n",
       "      <td>359.77</td>\n",
       "      <td>105.64</td>\n",
       "      <td>...</td>\n",
       "      <td>1</td>\n",
       "      <td>Gillette Stadium</td>\n",
       "      <td>Foxborough, MA</td>\n",
       "      <td>Outdoor</td>\n",
       "      <td>Field Turf</td>\n",
       "      <td>Clear and warm</td>\n",
       "      <td>63.0</td>\n",
       "      <td>77.0</td>\n",
       "      <td>8</td>\n",
       "      <td>SW</td>\n",
       "    </tr>\n",
       "    <tr>\n",
       "      <th>4</th>\n",
       "      <td>2017090700</td>\n",
       "      <td>20170907000118</td>\n",
       "      <td>away</td>\n",
       "      <td>69.32</td>\n",
       "      <td>35.42</td>\n",
       "      <td>1.82</td>\n",
       "      <td>2.43</td>\n",
       "      <td>0.16</td>\n",
       "      <td>12.63</td>\n",
       "      <td>164.31</td>\n",
       "      <td>...</td>\n",
       "      <td>1</td>\n",
       "      <td>Gillette Stadium</td>\n",
       "      <td>Foxborough, MA</td>\n",
       "      <td>Outdoor</td>\n",
       "      <td>Field Turf</td>\n",
       "      <td>Clear and warm</td>\n",
       "      <td>63.0</td>\n",
       "      <td>77.0</td>\n",
       "      <td>8</td>\n",
       "      <td>SW</td>\n",
       "    </tr>\n",
       "  </tbody>\n",
       "</table>\n",
       "<p>5 rows × 49 columns</p>\n",
       "</div>"
      ],
      "text/plain": [
       "       GameId          PlayId  Team      X      Y     S     A   Dis  \\\n",
       "0  2017090700  20170907000118  away  73.91  34.84  1.69  1.13  0.40   \n",
       "1  2017090700  20170907000118  away  74.67  32.64  0.42  1.35  0.01   \n",
       "2  2017090700  20170907000118  away  74.00  33.20  1.22  0.59  0.31   \n",
       "3  2017090700  20170907000118  away  71.46  27.70  0.42  0.54  0.02   \n",
       "4  2017090700  20170907000118  away  69.32  35.42  1.82  2.43  0.16   \n",
       "\n",
       "   Orientation     Dir  ...  Week           Stadium        Location  \\\n",
       "0        81.99  177.18  ...     1  Gillette Stadium  Foxborough, MA   \n",
       "1        27.61  198.70  ...     1  Gillette Stadium  Foxborough, MA   \n",
       "2         3.01  202.73  ...     1  Gillette Stadium  Foxborough, MA   \n",
       "3       359.77  105.64  ...     1  Gillette Stadium  Foxborough, MA   \n",
       "4        12.63  164.31  ...     1  Gillette Stadium  Foxborough, MA   \n",
       "\n",
       "   StadiumType        Turf     GameWeather Temperature Humidity  WindSpeed  \\\n",
       "0      Outdoor  Field Turf  Clear and warm        63.0     77.0          8   \n",
       "1      Outdoor  Field Turf  Clear and warm        63.0     77.0          8   \n",
       "2      Outdoor  Field Turf  Clear and warm        63.0     77.0          8   \n",
       "3      Outdoor  Field Turf  Clear and warm        63.0     77.0          8   \n",
       "4      Outdoor  Field Turf  Clear and warm        63.0     77.0          8   \n",
       "\n",
       "   WindDirection  \n",
       "0             SW  \n",
       "1             SW  \n",
       "2             SW  \n",
       "3             SW  \n",
       "4             SW  \n",
       "\n",
       "[5 rows x 49 columns]"
      ]
     },
     "execution_count": 5,
     "metadata": {},
     "output_type": "execute_result"
    }
   ],
   "source": [
    "filename = 'train.csv' \n",
    "df = pd.read_csv(filename)\n",
    "df.head()"
   ]
  },
  {
   "cell_type": "markdown",
   "metadata": {},
   "source": [
    "# Preprocess data"
   ]
  },
  {
   "cell_type": "code",
   "execution_count": 6,
   "metadata": {},
   "outputs": [
    {
     "name": "stdout",
     "output_type": "stream",
     "text": [
      "Before\n",
      "6424\n",
      "(509762, 49)\n",
      "         GameId          PlayId FieldPosition PossessionTeam  YardLine\n",
      "198  2017090700  20170907000801           NaN             KC        50\n",
      "199  2017090700  20170907000801           NaN             KC        50\n",
      "200  2017090700  20170907000801           NaN             KC        50\n",
      "201  2017090700  20170907000801           NaN             KC        50\n",
      "202  2017090700  20170907000801           NaN             KC        50\n",
      "After\n",
      "0\n",
      "(509762, 49)\n",
      "         GameId          PlayId FieldPosition PossessionTeam  YardLine\n",
      "198  2017090700  20170907000801            KC             KC        50\n",
      "199  2017090700  20170907000801            KC             KC        50\n",
      "200  2017090700  20170907000801            KC             KC        50\n",
      "201  2017090700  20170907000801            KC             KC        50\n",
      "202  2017090700  20170907000801            KC             KC        50\n"
     ]
    }
   ],
   "source": [
    "print(\"Before\")\n",
    "field_positions = df['FieldPosition']\n",
    "print(sum(field_positions.isnull()==True))\n",
    "print(df.shape)\n",
    "print(df[df.FieldPosition.isnull()][['GameId', 'PlayId', 'FieldPosition', 'PossessionTeam', 'YardLine']].head())\n",
    "\n",
    "# Handle 50 YardLine by filling in the null 'FieldPositions' with the value in 'PossessionTeam'\n",
    "df.FieldPosition.fillna(df.PossessionTeam, inplace=True)\n",
    "\n",
    "print(\"After\")\n",
    "field_positions = df['FieldPosition']\n",
    "print(sum(field_positions.isnull()==True))\n",
    "print(df.shape)\n",
    "print(df[198:203][['GameId', 'PlayId', 'FieldPosition', 'PossessionTeam', 'YardLine']])"
   ]
  },
  {
   "cell_type": "code",
   "execution_count": 7,
   "metadata": {},
   "outputs": [
    {
     "name": "stdout",
     "output_type": "stream",
     "text": [
      "Before\n",
      "       GameId          PlayId FieldPosition PossessionTeam  YardLine  Yards\n",
      "0  2017090700  20170907000118            NE             NE        35      8\n",
      "1  2017090700  20170907000118            NE             NE        35      8\n",
      "2  2017090700  20170907000118            NE             NE        35      8\n",
      "3  2017090700  20170907000118            NE             NE        35      8\n",
      "4  2017090700  20170907000118            NE             NE        35      8\n",
      "(509762, 49)\n",
      "After\n",
      "       GameId          PlayId FieldPosition PossessionTeam  YardLine  Yards\n",
      "0  2017090700  20170907000118            NE             NE        35      8\n",
      "1  2017090700  20170907000139            NE             NE        43      3\n",
      "2  2017090700  20170907000189            KC             NE        35      5\n",
      "3  2017090700  20170907000345            KC             NE         2      2\n",
      "4  2017090700  20170907000395            KC             KC        25      7\n",
      "(23171, 49)\n"
     ]
    }
   ],
   "source": [
    "print(\"Before\")\n",
    "print(df.head()[['GameId', 'PlayId', 'FieldPosition', 'PossessionTeam', 'YardLine', 'Yards']])\n",
    "print(df.shape)\n",
    "\n",
    "# Only keep entries associated with rusher\n",
    "df = df[df['NflIdRusher']==df['NflId']]\n",
    "df.reset_index(drop=True, inplace=True)\n",
    "\n",
    "print(\"After\")\n",
    "print(df.head()[['GameId', 'PlayId', 'FieldPosition', 'PossessionTeam', 'YardLine', 'Yards']])\n",
    "print(df.shape)"
   ]
  },
  {
   "cell_type": "code",
   "execution_count": 8,
   "metadata": {},
   "outputs": [
    {
     "data": {
      "text/html": [
       "<div>\n",
       "<style scoped>\n",
       "    .dataframe tbody tr th:only-of-type {\n",
       "        vertical-align: middle;\n",
       "    }\n",
       "\n",
       "    .dataframe tbody tr th {\n",
       "        vertical-align: top;\n",
       "    }\n",
       "\n",
       "    .dataframe thead th {\n",
       "        text-align: right;\n",
       "    }\n",
       "</style>\n",
       "<table border=\"1\" class=\"dataframe\">\n",
       "  <thead>\n",
       "    <tr style=\"text-align: right;\">\n",
       "      <th></th>\n",
       "      <th>GameId</th>\n",
       "      <th>PlayId</th>\n",
       "      <th>FieldPosition</th>\n",
       "      <th>PossessionTeam</th>\n",
       "      <th>YardLine</th>\n",
       "      <th>Yards</th>\n",
       "      <th>YardsRemaining</th>\n",
       "    </tr>\n",
       "  </thead>\n",
       "  <tbody>\n",
       "    <tr>\n",
       "      <th>0</th>\n",
       "      <td>2017090700</td>\n",
       "      <td>20170907000118</td>\n",
       "      <td>NE</td>\n",
       "      <td>NE</td>\n",
       "      <td>35</td>\n",
       "      <td>8</td>\n",
       "      <td>65.0</td>\n",
       "    </tr>\n",
       "    <tr>\n",
       "      <th>1</th>\n",
       "      <td>2017090700</td>\n",
       "      <td>20170907000139</td>\n",
       "      <td>NE</td>\n",
       "      <td>NE</td>\n",
       "      <td>43</td>\n",
       "      <td>3</td>\n",
       "      <td>57.0</td>\n",
       "    </tr>\n",
       "    <tr>\n",
       "      <th>2</th>\n",
       "      <td>2017090700</td>\n",
       "      <td>20170907000189</td>\n",
       "      <td>KC</td>\n",
       "      <td>NE</td>\n",
       "      <td>35</td>\n",
       "      <td>5</td>\n",
       "      <td>35.0</td>\n",
       "    </tr>\n",
       "    <tr>\n",
       "      <th>3</th>\n",
       "      <td>2017090700</td>\n",
       "      <td>20170907000345</td>\n",
       "      <td>KC</td>\n",
       "      <td>NE</td>\n",
       "      <td>2</td>\n",
       "      <td>2</td>\n",
       "      <td>2.0</td>\n",
       "    </tr>\n",
       "    <tr>\n",
       "      <th>4</th>\n",
       "      <td>2017090700</td>\n",
       "      <td>20170907000395</td>\n",
       "      <td>KC</td>\n",
       "      <td>KC</td>\n",
       "      <td>25</td>\n",
       "      <td>7</td>\n",
       "      <td>75.0</td>\n",
       "    </tr>\n",
       "  </tbody>\n",
       "</table>\n",
       "</div>"
      ],
      "text/plain": [
       "       GameId          PlayId FieldPosition PossessionTeam  YardLine  Yards  \\\n",
       "0  2017090700  20170907000118            NE             NE        35      8   \n",
       "1  2017090700  20170907000139            NE             NE        43      3   \n",
       "2  2017090700  20170907000189            KC             NE        35      5   \n",
       "3  2017090700  20170907000345            KC             NE         2      2   \n",
       "4  2017090700  20170907000395            KC             KC        25      7   \n",
       "\n",
       "   YardsRemaining  \n",
       "0            65.0  \n",
       "1            57.0  \n",
       "2            35.0  \n",
       "3             2.0  \n",
       "4            75.0  "
      ]
     },
     "execution_count": 8,
     "metadata": {},
     "output_type": "execute_result"
    }
   ],
   "source": [
    "# Find yards remaining \n",
    "df['YardsRemaining'] = 100 - df.YardLine[df.FieldPosition == df.PossessionTeam]\n",
    "df.YardsRemaining.fillna(df.YardLine, inplace=True)\n",
    "df.head()[['GameId', 'PlayId', 'FieldPosition', 'PossessionTeam', 'YardLine', 'Yards', 'YardsRemaining']]"
   ]
  },
  {
   "cell_type": "code",
   "execution_count": 9,
   "metadata": {},
   "outputs": [
    {
     "name": "stdout",
     "output_type": "stream",
     "text": [
      "Before\n",
      "1 in Box Count: 1\n",
      "2 in Box Count: 1\n",
      "NaN in Box Count: 3\n",
      "After\n",
      "1 in Box Count: 0\n",
      "2 in Box Count: 0\n",
      "NaN in Box Count: 0\n"
     ]
    },
    {
     "data": {
      "image/png": "[encoded data removed]",
      "text/plain": [
       "<Figure size 432x288 with 1 Axes>"
      ]
     },
     "metadata": {
      "needs_background": "light"
     },
     "output_type": "display_data"
    }
   ],
   "source": [
    "print(\"Before\")\n",
    "print(\"1 in Box Count:\", len(df[df.DefendersInTheBox==1]))\n",
    "print(\"2 in Box Count:\", len(df[df.DefendersInTheBox==2]))\n",
    "print(\"NaN in Box Count:\", sum(df.DefendersInTheBox.isnull()))\n",
    "sns.distplot(df.DefendersInTheBox[df.DefendersInTheBox.isnull()==False], bins=11, kde=False, norm_hist=True)\n",
    "\n",
    "# Fill nan with median (i.e. 7), and bump 1 or 2 (few samples) up to 3\n",
    "df.DefendersInTheBox.fillna(7, inplace=True)\n",
    "df.DefendersInTheBox.replace(to_replace=[1, 2], value=3, inplace=True)\n",
    "\n",
    "print(\"After\")\n",
    "print(\"1 in Box Count:\", len(df[df.DefendersInTheBox==1]))\n",
    "print(\"2 in Box Count:\", len(df[df.DefendersInTheBox==2]))\n",
    "print(\"NaN in Box Count:\", sum(df.DefendersInTheBox.isnull()))"
   ]
  },
  {
   "cell_type": "code",
   "execution_count": 10,
   "metadata": {},
   "outputs": [],
   "source": [
    "#Fix the team names in df \n",
    "def fixTeamName(team):\n",
    "    if team == 'BAL':\n",
    "        return 'BLT'\n",
    "    elif team == 'ARI':\n",
    "        return 'ARZ'\n",
    "    elif team == 'CLE':\n",
    "        return 'CLV'\n",
    "    elif team == 'HOU':\n",
    "        return 'HST'\n",
    "    return team\n",
    "    \n",
    "df['HomeTeamAbbr'] = df.apply(lambda x: fixTeamName(x['HomeTeamAbbr']), axis=1)\n",
    "df['VisitorTeamAbbr'] = df.apply(lambda x: fixTeamName(x['VisitorTeamAbbr']), axis=1)\n",
    "df['PossessionTeam'] = df.apply(lambda x: fixTeamName(x['PossessionTeam']), axis=1)\n",
    "\n",
    "# print(sum(df_new['HomeTeamAbbr'] != df['HomeTeamAbbr']))"
   ]
  },
  {
   "cell_type": "code",
   "execution_count": 11,
   "metadata": {},
   "outputs": [],
   "source": [
    "#Figure out which team is on defense  \n",
    "def findDefense(home_team, away_team, possession_team):\n",
    "    if home_team == possession_team:\n",
    "        return away_team\n",
    "    elif away_team == possession_team:\n",
    "        return home_team\n",
    "    else:\n",
    "        print('neither home nor away team matches possession team')\n",
    "\n",
    "df['DefenseTeam'] = df.apply(lambda x: findDefense(x['HomeTeamAbbr'],x['VisitorTeamAbbr'],x['PossessionTeam']), axis=1)"
   ]
  },
  {
   "cell_type": "code",
   "execution_count": 12,
   "metadata": {},
   "outputs": [
    {
     "name": "stdout",
     "output_type": "stream",
     "text": [
      "                YardsAvgOffense\n",
      "PossessionTeam                 \n",
      "SEA                    4.124839\n",
      "SF                     4.482337\n",
      "TB                     3.594427\n",
      "TEN                    3.992021\n",
      "WAS                    3.862974\n",
      "             YardsAvgDefense\n",
      "DefenseTeam                 \n",
      "SEA                 4.395218\n",
      "SF                  4.062814\n",
      "TB                  4.518724\n",
      "TEN                 3.910864\n",
      "WAS                 4.533686\n"
     ]
    }
   ],
   "source": [
    "#Compute average offensive yards by team \n",
    "yards_avg_offense = df[['PossessionTeam','Yards']].groupby(['PossessionTeam']).mean()\n",
    "yards_avg_offense = yards_avg_offense.rename(columns={\"Yards\": \"YardsAvgOffense\"})\n",
    "\n",
    "print(yards_avg_offense.tail())\n",
    "df = pd.merge(df, yards_avg_offense, on = 'PossessionTeam')\n",
    "\n",
    "#Compute average defensive yards by team \n",
    "yards_avg_defense = df[['DefenseTeam','Yards']].groupby(['DefenseTeam']).mean()\n",
    "yards_avg_defense = yards_avg_defense.rename(columns={\"Yards\": \"YardsAvgDefense\"})\n",
    "\n",
    "print(yards_avg_defense.tail())\n",
    "df = pd.merge(df, yards_avg_defense, on = 'DefenseTeam')\n",
    "\n",
    "# Compute Ratio of Yards Gained by Offensive/Defensive Matchup \n",
    "df['TeamYardRatio'] = df['YardsAvgOffense'] / df['YardsAvgDefense']"
   ]
  },
  {
   "cell_type": "markdown",
   "metadata": {},
   "source": [
    "## Split data"
   ]
  },
  {
   "cell_type": "code",
   "execution_count": 13,
   "metadata": {},
   "outputs": [
    {
     "name": "stdout",
     "output_type": "stream",
     "text": [
      "(16219, 54)\n",
      "(6952, 54)\n"
     ]
    }
   ],
   "source": [
    "train, dev = train_test_split(df, test_size=0.3, random_state=1, shuffle=True)\n",
    "print(train.shape)\n",
    "print(dev.shape)"
   ]
  },
  {
   "cell_type": "markdown",
   "metadata": {},
   "source": [
    "# Feature Selection"
   ]
  },
  {
   "cell_type": "code",
   "execution_count": 14,
   "metadata": {},
   "outputs": [],
   "source": [
    "from sklearn.feature_selection import SelectFromModel\n",
    "from sklearn.linear_model import LassoCV\n",
    "from sklearn.ensemble import ExtraTreesClassifier\n",
    "from sklearn.feature_selection import SelectKBest\n",
    "from sklearn.feature_selection import chi2\n",
    "from sklearn.linear_model import LogisticRegression\n",
    "from sklearn import preprocessing"
   ]
  },
  {
   "cell_type": "code",
   "execution_count": 15,
   "metadata": {},
   "outputs": [
    {
     "name": "stdout",
     "output_type": "stream",
     "text": [
      "[0.24877947 0.02933895 0.72188158]\n",
      "[[65.    3.35]\n",
      " [57.    2.41]\n",
      " [35.    2.42]\n",
      " ...\n",
      " [58.    1.24]\n",
      " [53.    1.86]\n",
      " [50.    2.46]]\n"
     ]
    }
   ],
   "source": [
    "#Tree-based feature selection¶\n",
    "X, y = df[[\"YardsRemaining\", \"DefendersInTheBox\", \"A\"]], df.Yards\n",
    "clf = ExtraTreesClassifier(n_estimators=50)\n",
    "clf = clf.fit(X, y)\n",
    "clf.feature_importances_  \n",
    "model = SelectFromModel(clf, prefit=True)\n",
    "tree_features = model.transform(X)\n",
    "print(clf.feature_importances_)\n",
    "    \n",
    "\n",
    "# K-best feature selection\n",
    "k_best_features = SelectKBest(chi2, k=2).fit_transform(X, y)\n",
    "print(k_best_features)"
   ]
  },
  {
   "cell_type": "code",
   "execution_count": 26,
   "metadata": {},
   "outputs": [
    {
     "name": "stderr",
     "output_type": "stream",
     "text": [
      "[Parallel(n_jobs=1)]: Using backend SequentialBackend with 1 concurrent workers.\n",
      "[Parallel(n_jobs=1)]: Done   1 out of   1 | elapsed:  3.7min finished\n"
     ]
    }
   ],
   "source": [
    "# Try features in Softmax Regression \n",
    "# create a label encoder since not all -99:99 yards will appear \n",
    "le = preprocessing.LabelEncoder()\n",
    "le.fit(train['Yards'])\n",
    "clf_softmax = LogisticRegression(C = .2, max_iter = 250,solver = 'newton-cg',multi_class='multinomial',verbose=True)\n",
    "clf_softmax.fit(train[['Distance','Down','A','DefendersInTheBox']], le.transform(train['Yards']))"
   ]
  },
  {
   "cell_type": "code",
   "execution_count": 27,
   "metadata": {},
   "outputs": [
    {
     "name": "stdout",
     "output_type": "stream",
     "text": [
      "Cost: 0.013041907451340267\n",
      "[[2.75224883e-05 1.21215334e-04 9.88751580e-05 4.26534374e-04\n",
      "  6.45572291e-05 7.81769315e-04 2.25798936e-03 4.78293567e-03\n",
      "  1.22580468e-02 2.26054940e-02 3.82849252e-02 6.01157295e-02\n",
      "  1.71813393e-01 1.87761934e-01 1.45266791e-01 1.04123274e-01\n",
      "  7.38637820e-02 4.38327236e-02 2.81477192e-02 2.24048333e-02\n",
      "  1.09060262e-02 1.06017956e-02 6.79605194e-03 6.60133026e-03\n",
      "  5.86591675e-03 3.14339357e-03 3.96274496e-03 3.43014982e-03\n",
      "  2.46517593e-03 3.44242665e-03 2.92789827e-03 2.08769591e-03\n",
      "  2.06293766e-03 1.42677493e-03 1.02411814e-03 8.01323716e-04\n",
      "  6.15021278e-04 1.00498505e-03 6.47318792e-04 6.69622905e-04\n",
      "  8.14301621e-04 8.06471511e-04 4.61605562e-04 4.14185059e-04\n",
      "  8.96200647e-04 1.57321640e-04 3.71006183e-04 1.90346966e-04\n",
      "  6.32867363e-04 3.21456253e-04 1.10594134e-04 1.88487400e-04\n",
      "  2.39216887e-04 2.47695189e-04 5.17883664e-05 6.55427518e-04\n",
      "  3.82485762e-05 1.49498185e-04 4.73368589e-04 5.56356976e-05\n",
      "  5.11767981e-05 1.53596084e-04 5.20127564e-04 6.58540491e-05\n",
      "  5.41937088e-05 7.27675780e-05 2.61367849e-05 1.22277757e-04\n",
      "  3.88260804e-04 1.96621905e-05 2.45844051e-04 2.14622427e-04\n",
      "  8.84493197e-05 2.86822965e-05 9.90100273e-05 4.26636902e-05\n",
      "  2.34846306e-04 2.02619206e-05 3.29650501e-05 4.40989182e-05\n",
      "  2.80203063e-05 7.98270682e-05 1.46835981e-04 2.45591920e-05\n",
      "  6.19037584e-05 2.59356648e-05 3.35301883e-05 2.15349373e-04\n",
      "  3.26081273e-05 2.74563446e-05]]\n",
      "[[0.00000000e+00 0.00000000e+00 0.00000000e+00 0.00000000e+00\n",
      "  0.00000000e+00 0.00000000e+00 0.00000000e+00 0.00000000e+00\n",
      "  0.00000000e+00 0.00000000e+00 0.00000000e+00 0.00000000e+00\n",
      "  0.00000000e+00 0.00000000e+00 0.00000000e+00 0.00000000e+00\n",
      "  0.00000000e+00 0.00000000e+00 0.00000000e+00 0.00000000e+00\n",
      "  0.00000000e+00 0.00000000e+00 0.00000000e+00 0.00000000e+00\n",
      "  0.00000000e+00 0.00000000e+00 0.00000000e+00 0.00000000e+00\n",
      "  0.00000000e+00 0.00000000e+00 0.00000000e+00 0.00000000e+00\n",
      "  0.00000000e+00 0.00000000e+00 0.00000000e+00 0.00000000e+00\n",
      "  0.00000000e+00 0.00000000e+00 0.00000000e+00 0.00000000e+00\n",
      "  0.00000000e+00 0.00000000e+00 0.00000000e+00 0.00000000e+00\n",
      "  0.00000000e+00 0.00000000e+00 0.00000000e+00 0.00000000e+00\n",
      "  0.00000000e+00 0.00000000e+00 0.00000000e+00 0.00000000e+00\n",
      "  0.00000000e+00 0.00000000e+00 0.00000000e+00 0.00000000e+00\n",
      "  0.00000000e+00 0.00000000e+00 0.00000000e+00 0.00000000e+00\n",
      "  0.00000000e+00 0.00000000e+00 0.00000000e+00 0.00000000e+00\n",
      "  0.00000000e+00 0.00000000e+00 0.00000000e+00 0.00000000e+00\n",
      "  0.00000000e+00 0.00000000e+00 0.00000000e+00 0.00000000e+00\n",
      "  0.00000000e+00 0.00000000e+00 0.00000000e+00 0.00000000e+00\n",
      "  0.00000000e+00 0.00000000e+00 0.00000000e+00 0.00000000e+00\n",
      "  0.00000000e+00 0.00000000e+00 0.00000000e+00 0.00000000e+00\n",
      "  0.00000000e+00 2.75224883e-05 0.00000000e+00 1.21215334e-04\n",
      "  9.88751580e-05 0.00000000e+00 4.26534374e-04 6.45572291e-05\n",
      "  7.81769315e-04 2.25798936e-03 4.78293567e-03 1.22580468e-02\n",
      "  2.26054940e-02 3.82849252e-02 6.01157295e-02 1.71813393e-01\n",
      "  1.87761934e-01 1.45266791e-01 1.04123274e-01 7.38637820e-02\n",
      "  4.38327236e-02 2.81477192e-02 2.24048333e-02 1.09060262e-02\n",
      "  1.06017956e-02 6.79605194e-03 6.60133026e-03 5.86591675e-03\n",
      "  3.14339357e-03 3.96274496e-03 3.43014982e-03 2.46517593e-03\n",
      "  3.44242665e-03 2.92789827e-03 2.08769591e-03 2.06293766e-03\n",
      "  1.42677493e-03 1.02411814e-03 8.01323716e-04 6.15021278e-04\n",
      "  1.00498505e-03 6.47318792e-04 6.69622905e-04 8.14301621e-04\n",
      "  8.06471511e-04 4.61605562e-04 4.14185059e-04 8.96200647e-04\n",
      "  1.57321640e-04 3.71006183e-04 1.90346966e-04 6.32867363e-04\n",
      "  3.21456253e-04 1.10594134e-04 1.88487400e-04 2.39216887e-04\n",
      "  2.47695189e-04 5.17883664e-05 6.55427518e-04 3.82485762e-05\n",
      "  0.00000000e+00 1.49498185e-04 4.73368589e-04 5.56356976e-05\n",
      "  5.11767981e-05 1.53596084e-04 5.20127564e-04 6.58540491e-05\n",
      "  5.41937088e-05 7.27675780e-05 0.00000000e+00 2.61367849e-05\n",
      "  1.22277757e-04 3.88260804e-04 1.96621905e-05 2.45844051e-04\n",
      "  2.14622427e-04 8.84493197e-05 2.86822965e-05 9.90100273e-05\n",
      "  4.26636902e-05 2.34846306e-04 2.02619206e-05 3.29650501e-05\n",
      "  4.40989182e-05 2.80203063e-05 7.98270682e-05 1.46835981e-04\n",
      "  0.00000000e+00 2.45591920e-05 6.19037584e-05 0.00000000e+00\n",
      "  2.59356648e-05 0.00000000e+00 0.00000000e+00 0.00000000e+00\n",
      "  0.00000000e+00 0.00000000e+00 0.00000000e+00 0.00000000e+00\n",
      "  0.00000000e+00 0.00000000e+00 3.35301883e-05 0.00000000e+00\n",
      "  0.00000000e+00 2.15349373e-04 0.00000000e+00 3.26081273e-05\n",
      "  0.00000000e+00 0.00000000e+00 0.00000000e+00 0.00000000e+00\n",
      "  2.74563446e-05 0.00000000e+00 0.00000000e+00]]\n",
      "[0.00000000e+00 0.00000000e+00 0.00000000e+00 0.00000000e+00\n",
      " 0.00000000e+00 0.00000000e+00 0.00000000e+00 0.00000000e+00\n",
      " 0.00000000e+00 0.00000000e+00 0.00000000e+00 0.00000000e+00\n",
      " 0.00000000e+00 0.00000000e+00 0.00000000e+00 0.00000000e+00\n",
      " 0.00000000e+00 0.00000000e+00 0.00000000e+00 0.00000000e+00\n",
      " 0.00000000e+00 0.00000000e+00 0.00000000e+00 0.00000000e+00\n",
      " 0.00000000e+00 0.00000000e+00 0.00000000e+00 0.00000000e+00\n",
      " 0.00000000e+00 0.00000000e+00 0.00000000e+00 0.00000000e+00\n",
      " 0.00000000e+00 0.00000000e+00 0.00000000e+00 0.00000000e+00\n",
      " 0.00000000e+00 0.00000000e+00 0.00000000e+00 0.00000000e+00\n",
      " 0.00000000e+00 0.00000000e+00 0.00000000e+00 0.00000000e+00\n",
      " 0.00000000e+00 0.00000000e+00 0.00000000e+00 0.00000000e+00\n",
      " 0.00000000e+00 0.00000000e+00 0.00000000e+00 0.00000000e+00\n",
      " 0.00000000e+00 0.00000000e+00 0.00000000e+00 0.00000000e+00\n",
      " 0.00000000e+00 0.00000000e+00 0.00000000e+00 0.00000000e+00\n",
      " 0.00000000e+00 0.00000000e+00 0.00000000e+00 0.00000000e+00\n",
      " 0.00000000e+00 0.00000000e+00 0.00000000e+00 0.00000000e+00\n",
      " 0.00000000e+00 0.00000000e+00 0.00000000e+00 0.00000000e+00\n",
      " 0.00000000e+00 0.00000000e+00 0.00000000e+00 0.00000000e+00\n",
      " 0.00000000e+00 0.00000000e+00 0.00000000e+00 0.00000000e+00\n",
      " 0.00000000e+00 0.00000000e+00 0.00000000e+00 0.00000000e+00\n",
      " 0.00000000e+00 2.75224883e-05 2.75224883e-05 1.48737823e-04\n",
      " 2.47612981e-04 2.47612981e-04 6.74147355e-04 7.38704584e-04\n",
      " 1.52047390e-03 3.77846326e-03 8.56139893e-03 2.08194457e-02\n",
      " 4.34249397e-02 8.17098649e-02 1.41825594e-01 3.13638988e-01\n",
      " 5.01400922e-01 6.46667713e-01 7.50790987e-01 8.24654769e-01\n",
      " 8.68487493e-01 8.96635212e-01 9.19040045e-01 9.29946071e-01\n",
      " 9.40547867e-01 9.47343919e-01 9.53945249e-01 9.59811166e-01\n",
      " 9.62954559e-01 9.66917304e-01 9.70347454e-01 9.72812630e-01\n",
      " 9.76255057e-01 9.79182955e-01 9.81270651e-01 9.83333589e-01\n",
      " 9.84760363e-01 9.85784482e-01 9.86585805e-01 9.87200827e-01\n",
      " 9.88205812e-01 9.88853130e-01 9.89522753e-01 9.90337055e-01\n",
      " 9.91143526e-01 9.91605132e-01 9.92019317e-01 9.92915518e-01\n",
      " 9.93072839e-01 9.93443846e-01 9.93634193e-01 9.94267060e-01\n",
      " 9.94588516e-01 9.94699110e-01 9.94887598e-01 9.95126815e-01\n",
      " 9.95374510e-01 9.95426298e-01 9.96081726e-01 9.96119974e-01\n",
      " 9.96119974e-01 9.96269472e-01 9.96742841e-01 9.96798477e-01\n",
      " 1.00000000e+00 1.00000000e+00 1.00000000e+00 1.00000000e+00\n",
      " 1.00000000e+00 1.00000000e+00 1.00000000e+00 1.00000000e+00\n",
      " 1.00000000e+00 1.00000000e+00 1.00000000e+00 1.00000000e+00\n",
      " 1.00000000e+00 1.00000000e+00 1.00000000e+00 1.00000000e+00\n",
      " 1.00000000e+00 1.00000000e+00 1.00000000e+00 1.00000000e+00\n",
      " 1.00000000e+00 1.00000000e+00 1.00000000e+00 1.00000000e+00\n",
      " 1.00000000e+00 1.00000000e+00 1.00000000e+00 1.00000000e+00\n",
      " 1.00000000e+00 1.00000000e+00 1.00000000e+00 1.00000000e+00\n",
      " 1.00000000e+00 1.00000000e+00 1.00000000e+00 1.00000000e+00\n",
      " 1.00000000e+00 1.00000000e+00 1.00000000e+00 1.00000000e+00\n",
      " 1.00000000e+00 1.00000000e+00 1.00000000e+00 1.00000000e+00\n",
      " 1.00000000e+00 1.00000000e+00 1.00000000e+00 1.00000000e+00\n",
      " 1.00000000e+00 1.00000000e+00 1.00000000e+00]\n",
      "[0. 0. 0. 0. 0. 0. 0. 0. 0. 0. 0. 0. 0. 0. 0. 0. 0. 0. 0. 0. 0. 0. 0. 0.\n",
      " 0. 0. 0. 0. 0. 0. 0. 0. 0. 0. 0. 0. 0. 0. 0. 0. 0. 0. 0. 0. 0. 0. 0. 0.\n",
      " 0. 0. 0. 0. 0. 0. 0. 0. 0. 0. 0. 0. 0. 0. 0. 0. 0. 0. 0. 0. 0. 0. 0. 0.\n",
      " 0. 0. 0. 0. 0. 0. 0. 0. 0. 0. 0. 0. 0. 0. 0. 0. 0. 0. 0. 0. 0. 0. 0. 0.\n",
      " 0. 0. 0. 0. 0. 0. 0. 0. 0. 1. 1. 1. 1. 1. 1. 1. 1. 1. 1. 1. 1. 1. 1. 1.\n",
      " 1. 1. 1. 1. 1. 1. 1. 1. 1. 1. 1. 1. 1. 1. 1. 1. 1. 1. 1. 1. 1. 1. 1. 1.\n",
      " 1. 1. 1. 1. 1. 1. 1. 1. 1. 1. 1. 1. 1. 1. 1. 1. 1. 1. 1. 1. 1. 1. 1. 1.\n",
      " 1. 1. 1. 1. 1. 1. 1. 1. 1. 1. 1. 1. 1. 1. 1. 1. 1. 1. 1. 1. 1. 1. 1. 1.\n",
      " 1. 1. 1. 1. 1. 1. 1.]\n"
     ]
    }
   ],
   "source": [
    "def predsToPMF(preds):\n",
    "    pmf = np.zeros((1,199))\n",
    "    for i in range(0, preds.shape[1]):\n",
    "        pmf[0,int(le.inverse_transform([i]))+99] = preds[0,i]\n",
    "    return pmf \n",
    "\n",
    "all_loss = []\n",
    "for index, row in dev.iterrows():\n",
    "    pred = clf_softmax.predict_proba([row[['Distance','Down','A','DefendersInTheBox']]])\n",
    "    pred_pmf = predsToPMF(pred)\n",
    "    pred_cdf = np.cumsum(pred_pmf)\n",
    "    pred_cdf = squash(pred_cdf, int(row['YardsRemaining']))\n",
    "    true_cdf = np.zeros(199)\n",
    "    true_cdf[99+row['Yards']:] = 1\n",
    "    loss = 1/199 * np.sum((pred_cdf-true_cdf)**2)\n",
    "    all_loss.append(loss)\n",
    "cost = np.average(all_loss)\n",
    "print(\"Cost: {}\".format(cost))\n",
    "print(pred)\n",
    "print(pred_pmf)\n",
    "print(pred_cdf)\n",
    "print(true_cdf)"
   ]
  },
  {
   "cell_type": "code",
   "execution_count": 30,
   "metadata": {},
   "outputs": [
    {
     "data": {
      "text/plain": [
       "[<matplotlib.lines.Line2D at 0x7f900d487a20>]"
      ]
     },
     "execution_count": 30,
     "metadata": {},
     "output_type": "execute_result"
    },
    {
     "data": {
      "image/png": "[encoded data removed]",
      "text/plain": [
       "<Figure size 432x288 with 1 Axes>"
      ]
     },
     "metadata": {
      "needs_background": "light"
     },
     "output_type": "display_data"
    }
   ],
   "source": [
    "plt.plot(np.arange(-99, 100), pred_cdf)"
   ]
  },
  {
   "cell_type": "code",
   "execution_count": null,
   "metadata": {},
   "outputs": [],
   "source": []
  }
 ],
 "metadata": {
  "kernelspec": {
   "display_name": "Python 3",
   "language": "python",
   "name": "python3"
  },
  "language_info": {
   "codemirror_mode": {
    "name": "ipython",
    "version": 3
   },
   "file_extension": ".py",
   "mimetype": "text/x-python",
   "name": "python",
   "nbconvert_exporter": "python",
   "pygments_lexer": "ipython3",
   "version": "3.7.3"
  }
 },
 "nbformat": 4,
 "nbformat_minor": 2
}

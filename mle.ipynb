{
 "cells": [
  {
   "cell_type": "code",
   "execution_count": 1,
   "metadata": {},
   "outputs": [
    {
     "name": "stderr",
     "output_type": "stream",
     "text": [
      "/Users/travismcguire1/anaconda3/lib/python3.6/site-packages/matplotlib/__init__.py:886: MatplotlibDeprecationWarning: \n",
      "examples.directory is deprecated; in the future, examples will be found relative to the 'datapath' directory.\n",
      "  \"found relative to the 'datapath' directory.\".format(key))\n"
     ]
    }
   ],
   "source": [
    "import csv\n",
    "import pandas as pd\n",
    "import numpy as np \n",
    "import matplotlib.pyplot as plt\n",
    "import seaborn as sns\n",
    "from sklearn.model_selection import train_test_split\n",
    "\n",
    "sns.set()"
   ]
  },
  {
   "cell_type": "code",
   "execution_count": 2,
   "metadata": {},
   "outputs": [
    {
     "name": "stderr",
     "output_type": "stream",
     "text": [
      "/Users/travismcguire1/anaconda3/lib/python3.6/site-packages/IPython/core/interactiveshell.py:3020: DtypeWarning: Columns (47) have mixed types. Specify dtype option on import or set low_memory=False.\n",
      "  interactivity=interactivity, compiler=compiler, result=result)\n"
     ]
    },
    {
     "data": {
      "text/html": [
       "<div>\n",
       "<style scoped>\n",
       "    .dataframe tbody tr th:only-of-type {\n",
       "        vertical-align: middle;\n",
       "    }\n",
       "\n",
       "    .dataframe tbody tr th {\n",
       "        vertical-align: top;\n",
       "    }\n",
       "\n",
       "    .dataframe thead th {\n",
       "        text-align: right;\n",
       "    }\n",
       "</style>\n",
       "<table border=\"1\" class=\"dataframe\">\n",
       "  <thead>\n",
       "    <tr style=\"text-align: right;\">\n",
       "      <th></th>\n",
       "      <th>GameId</th>\n",
       "      <th>PlayId</th>\n",
       "      <th>Team</th>\n",
       "      <th>X</th>\n",
       "      <th>Y</th>\n",
       "      <th>S</th>\n",
       "      <th>A</th>\n",
       "      <th>Dis</th>\n",
       "      <th>Orientation</th>\n",
       "      <th>Dir</th>\n",
       "      <th>...</th>\n",
       "      <th>Week</th>\n",
       "      <th>Stadium</th>\n",
       "      <th>Location</th>\n",
       "      <th>StadiumType</th>\n",
       "      <th>Turf</th>\n",
       "      <th>GameWeather</th>\n",
       "      <th>Temperature</th>\n",
       "      <th>Humidity</th>\n",
       "      <th>WindSpeed</th>\n",
       "      <th>WindDirection</th>\n",
       "    </tr>\n",
       "  </thead>\n",
       "  <tbody>\n",
       "    <tr>\n",
       "      <td>0</td>\n",
       "      <td>2017090700</td>\n",
       "      <td>20170907000118</td>\n",
       "      <td>away</td>\n",
       "      <td>73.91</td>\n",
       "      <td>34.84</td>\n",
       "      <td>1.69</td>\n",
       "      <td>1.13</td>\n",
       "      <td>0.40</td>\n",
       "      <td>81.99</td>\n",
       "      <td>177.18</td>\n",
       "      <td>...</td>\n",
       "      <td>1</td>\n",
       "      <td>Gillette Stadium</td>\n",
       "      <td>Foxborough, MA</td>\n",
       "      <td>Outdoor</td>\n",
       "      <td>Field Turf</td>\n",
       "      <td>Clear and warm</td>\n",
       "      <td>63.0</td>\n",
       "      <td>77.0</td>\n",
       "      <td>8</td>\n",
       "      <td>SW</td>\n",
       "    </tr>\n",
       "    <tr>\n",
       "      <td>1</td>\n",
       "      <td>2017090700</td>\n",
       "      <td>20170907000118</td>\n",
       "      <td>away</td>\n",
       "      <td>74.67</td>\n",
       "      <td>32.64</td>\n",
       "      <td>0.42</td>\n",
       "      <td>1.35</td>\n",
       "      <td>0.01</td>\n",
       "      <td>27.61</td>\n",
       "      <td>198.70</td>\n",
       "      <td>...</td>\n",
       "      <td>1</td>\n",
       "      <td>Gillette Stadium</td>\n",
       "      <td>Foxborough, MA</td>\n",
       "      <td>Outdoor</td>\n",
       "      <td>Field Turf</td>\n",
       "      <td>Clear and warm</td>\n",
       "      <td>63.0</td>\n",
       "      <td>77.0</td>\n",
       "      <td>8</td>\n",
       "      <td>SW</td>\n",
       "    </tr>\n",
       "    <tr>\n",
       "      <td>2</td>\n",
       "      <td>2017090700</td>\n",
       "      <td>20170907000118</td>\n",
       "      <td>away</td>\n",
       "      <td>74.00</td>\n",
       "      <td>33.20</td>\n",
       "      <td>1.22</td>\n",
       "      <td>0.59</td>\n",
       "      <td>0.31</td>\n",
       "      <td>3.01</td>\n",
       "      <td>202.73</td>\n",
       "      <td>...</td>\n",
       "      <td>1</td>\n",
       "      <td>Gillette Stadium</td>\n",
       "      <td>Foxborough, MA</td>\n",
       "      <td>Outdoor</td>\n",
       "      <td>Field Turf</td>\n",
       "      <td>Clear and warm</td>\n",
       "      <td>63.0</td>\n",
       "      <td>77.0</td>\n",
       "      <td>8</td>\n",
       "      <td>SW</td>\n",
       "    </tr>\n",
       "    <tr>\n",
       "      <td>3</td>\n",
       "      <td>2017090700</td>\n",
       "      <td>20170907000118</td>\n",
       "      <td>away</td>\n",
       "      <td>71.46</td>\n",
       "      <td>27.70</td>\n",
       "      <td>0.42</td>\n",
       "      <td>0.54</td>\n",
       "      <td>0.02</td>\n",
       "      <td>359.77</td>\n",
       "      <td>105.64</td>\n",
       "      <td>...</td>\n",
       "      <td>1</td>\n",
       "      <td>Gillette Stadium</td>\n",
       "      <td>Foxborough, MA</td>\n",
       "      <td>Outdoor</td>\n",
       "      <td>Field Turf</td>\n",
       "      <td>Clear and warm</td>\n",
       "      <td>63.0</td>\n",
       "      <td>77.0</td>\n",
       "      <td>8</td>\n",
       "      <td>SW</td>\n",
       "    </tr>\n",
       "    <tr>\n",
       "      <td>4</td>\n",
       "      <td>2017090700</td>\n",
       "      <td>20170907000118</td>\n",
       "      <td>away</td>\n",
       "      <td>69.32</td>\n",
       "      <td>35.42</td>\n",
       "      <td>1.82</td>\n",
       "      <td>2.43</td>\n",
       "      <td>0.16</td>\n",
       "      <td>12.63</td>\n",
       "      <td>164.31</td>\n",
       "      <td>...</td>\n",
       "      <td>1</td>\n",
       "      <td>Gillette Stadium</td>\n",
       "      <td>Foxborough, MA</td>\n",
       "      <td>Outdoor</td>\n",
       "      <td>Field Turf</td>\n",
       "      <td>Clear and warm</td>\n",
       "      <td>63.0</td>\n",
       "      <td>77.0</td>\n",
       "      <td>8</td>\n",
       "      <td>SW</td>\n",
       "    </tr>\n",
       "  </tbody>\n",
       "</table>\n",
       "<p>5 rows × 49 columns</p>\n",
       "</div>"
      ],
      "text/plain": [
       "       GameId          PlayId  Team      X      Y     S     A   Dis  \\\n",
       "0  2017090700  20170907000118  away  73.91  34.84  1.69  1.13  0.40   \n",
       "1  2017090700  20170907000118  away  74.67  32.64  0.42  1.35  0.01   \n",
       "2  2017090700  20170907000118  away  74.00  33.20  1.22  0.59  0.31   \n",
       "3  2017090700  20170907000118  away  71.46  27.70  0.42  0.54  0.02   \n",
       "4  2017090700  20170907000118  away  69.32  35.42  1.82  2.43  0.16   \n",
       "\n",
       "   Orientation     Dir  ...  Week           Stadium        Location  \\\n",
       "0        81.99  177.18  ...     1  Gillette Stadium  Foxborough, MA   \n",
       "1        27.61  198.70  ...     1  Gillette Stadium  Foxborough, MA   \n",
       "2         3.01  202.73  ...     1  Gillette Stadium  Foxborough, MA   \n",
       "3       359.77  105.64  ...     1  Gillette Stadium  Foxborough, MA   \n",
       "4        12.63  164.31  ...     1  Gillette Stadium  Foxborough, MA   \n",
       "\n",
       "   StadiumType        Turf     GameWeather Temperature Humidity  WindSpeed  \\\n",
       "0      Outdoor  Field Turf  Clear and warm        63.0     77.0          8   \n",
       "1      Outdoor  Field Turf  Clear and warm        63.0     77.0          8   \n",
       "2      Outdoor  Field Turf  Clear and warm        63.0     77.0          8   \n",
       "3      Outdoor  Field Turf  Clear and warm        63.0     77.0          8   \n",
       "4      Outdoor  Field Turf  Clear and warm        63.0     77.0          8   \n",
       "\n",
       "   WindDirection  \n",
       "0             SW  \n",
       "1             SW  \n",
       "2             SW  \n",
       "3             SW  \n",
       "4             SW  \n",
       "\n",
       "[5 rows x 49 columns]"
      ]
     },
     "execution_count": 2,
     "metadata": {},
     "output_type": "execute_result"
    }
   ],
   "source": [
    "filename = 'train.csv' \n",
    "df = pd.read_csv(filename)\n",
    "df.head()"
   ]
  },
  {
   "cell_type": "markdown",
   "metadata": {},
   "source": [
    "# Preprocess Data"
   ]
  },
  {
   "cell_type": "markdown",
   "metadata": {},
   "source": [
    "## Fix Null Field Positions"
   ]
  },
  {
   "cell_type": "code",
   "execution_count": 3,
   "metadata": {},
   "outputs": [
    {
     "name": "stdout",
     "output_type": "stream",
     "text": [
      "Before\n",
      "6424\n",
      "(509762, 49)\n",
      "         GameId          PlayId FieldPosition PossessionTeam  YardLine\n",
      "198  2017090700  20170907000801           NaN             KC        50\n",
      "199  2017090700  20170907000801           NaN             KC        50\n",
      "200  2017090700  20170907000801           NaN             KC        50\n",
      "201  2017090700  20170907000801           NaN             KC        50\n",
      "202  2017090700  20170907000801           NaN             KC        50\n",
      "After\n",
      "0\n",
      "(509762, 49)\n",
      "         GameId          PlayId FieldPosition PossessionTeam  YardLine\n",
      "198  2017090700  20170907000801            KC             KC        50\n",
      "199  2017090700  20170907000801            KC             KC        50\n",
      "200  2017090700  20170907000801            KC             KC        50\n",
      "201  2017090700  20170907000801            KC             KC        50\n",
      "202  2017090700  20170907000801            KC             KC        50\n"
     ]
    }
   ],
   "source": [
    "print(\"Before\")\n",
    "field_positions = df['FieldPosition']\n",
    "print(sum(field_positions.isnull()==True))\n",
    "print(df.shape)\n",
    "print(df[df.FieldPosition.isnull()][['GameId', 'PlayId', 'FieldPosition', 'PossessionTeam', 'YardLine']].head())\n",
    "\n",
    "# Handle 50 YardLine by filling in the null 'FieldPositions' with the value in 'PossessionTeam'\n",
    "df.FieldPosition.fillna(df.PossessionTeam, inplace=True)\n",
    "\n",
    "print(\"After\")\n",
    "field_positions = df['FieldPosition']\n",
    "print(sum(field_positions.isnull()==True))\n",
    "print(df.shape)\n",
    "print(df[198:203][['GameId', 'PlayId', 'FieldPosition', 'PossessionTeam', 'YardLine']])"
   ]
  },
  {
   "cell_type": "markdown",
   "metadata": {},
   "source": [
    "## Downsample, keep only entries where players is rusher"
   ]
  },
  {
   "cell_type": "code",
   "execution_count": 4,
   "metadata": {},
   "outputs": [
    {
     "name": "stdout",
     "output_type": "stream",
     "text": [
      "Before\n",
      "       GameId          PlayId FieldPosition PossessionTeam  YardLine  Yards\n",
      "0  2017090700  20170907000118            NE             NE        35      8\n",
      "1  2017090700  20170907000118            NE             NE        35      8\n",
      "2  2017090700  20170907000118            NE             NE        35      8\n",
      "3  2017090700  20170907000118            NE             NE        35      8\n",
      "4  2017090700  20170907000118            NE             NE        35      8\n",
      "(509762, 49)\n",
      "After\n",
      "       GameId          PlayId FieldPosition PossessionTeam  YardLine  Yards\n",
      "0  2017090700  20170907000118            NE             NE        35      8\n",
      "1  2017090700  20170907000139            NE             NE        43      3\n",
      "2  2017090700  20170907000189            KC             NE        35      5\n",
      "3  2017090700  20170907000345            KC             NE         2      2\n",
      "4  2017090700  20170907000395            KC             KC        25      7\n",
      "(23171, 49)\n"
     ]
    }
   ],
   "source": [
    "print(\"Before\")\n",
    "print(df.head()[['GameId', 'PlayId', 'FieldPosition', 'PossessionTeam', 'YardLine', 'Yards']])\n",
    "print(df.shape)\n",
    "\n",
    "# Only keep entries associated with rusher\n",
    "df = df[df['NflIdRusher']==df['NflId']]\n",
    "df.reset_index(drop=True, inplace=True)\n",
    "\n",
    "print(\"After\")\n",
    "print(df.head()[['GameId', 'PlayId', 'FieldPosition', 'PossessionTeam', 'YardLine', 'Yards']])\n",
    "print(df.shape)"
   ]
  },
  {
   "cell_type": "markdown",
   "metadata": {},
   "source": [
    "## Calculate yards remaining (new feature)"
   ]
  },
  {
   "cell_type": "code",
   "execution_count": 5,
   "metadata": {},
   "outputs": [
    {
     "data": {
      "text/html": [
       "<div>\n",
       "<style scoped>\n",
       "    .dataframe tbody tr th:only-of-type {\n",
       "        vertical-align: middle;\n",
       "    }\n",
       "\n",
       "    .dataframe tbody tr th {\n",
       "        vertical-align: top;\n",
       "    }\n",
       "\n",
       "    .dataframe thead th {\n",
       "        text-align: right;\n",
       "    }\n",
       "</style>\n",
       "<table border=\"1\" class=\"dataframe\">\n",
       "  <thead>\n",
       "    <tr style=\"text-align: right;\">\n",
       "      <th></th>\n",
       "      <th>GameId</th>\n",
       "      <th>PlayId</th>\n",
       "      <th>FieldPosition</th>\n",
       "      <th>PossessionTeam</th>\n",
       "      <th>YardLine</th>\n",
       "      <th>Yards</th>\n",
       "      <th>YardsRemaining</th>\n",
       "    </tr>\n",
       "  </thead>\n",
       "  <tbody>\n",
       "    <tr>\n",
       "      <td>0</td>\n",
       "      <td>2017090700</td>\n",
       "      <td>20170907000118</td>\n",
       "      <td>NE</td>\n",
       "      <td>NE</td>\n",
       "      <td>35</td>\n",
       "      <td>8</td>\n",
       "      <td>65.0</td>\n",
       "    </tr>\n",
       "    <tr>\n",
       "      <td>1</td>\n",
       "      <td>2017090700</td>\n",
       "      <td>20170907000139</td>\n",
       "      <td>NE</td>\n",
       "      <td>NE</td>\n",
       "      <td>43</td>\n",
       "      <td>3</td>\n",
       "      <td>57.0</td>\n",
       "    </tr>\n",
       "    <tr>\n",
       "      <td>2</td>\n",
       "      <td>2017090700</td>\n",
       "      <td>20170907000189</td>\n",
       "      <td>KC</td>\n",
       "      <td>NE</td>\n",
       "      <td>35</td>\n",
       "      <td>5</td>\n",
       "      <td>35.0</td>\n",
       "    </tr>\n",
       "    <tr>\n",
       "      <td>3</td>\n",
       "      <td>2017090700</td>\n",
       "      <td>20170907000345</td>\n",
       "      <td>KC</td>\n",
       "      <td>NE</td>\n",
       "      <td>2</td>\n",
       "      <td>2</td>\n",
       "      <td>2.0</td>\n",
       "    </tr>\n",
       "    <tr>\n",
       "      <td>4</td>\n",
       "      <td>2017090700</td>\n",
       "      <td>20170907000395</td>\n",
       "      <td>KC</td>\n",
       "      <td>KC</td>\n",
       "      <td>25</td>\n",
       "      <td>7</td>\n",
       "      <td>75.0</td>\n",
       "    </tr>\n",
       "  </tbody>\n",
       "</table>\n",
       "</div>"
      ],
      "text/plain": [
       "       GameId          PlayId FieldPosition PossessionTeam  YardLine  Yards  \\\n",
       "0  2017090700  20170907000118            NE             NE        35      8   \n",
       "1  2017090700  20170907000139            NE             NE        43      3   \n",
       "2  2017090700  20170907000189            KC             NE        35      5   \n",
       "3  2017090700  20170907000345            KC             NE         2      2   \n",
       "4  2017090700  20170907000395            KC             KC        25      7   \n",
       "\n",
       "   YardsRemaining  \n",
       "0            65.0  \n",
       "1            57.0  \n",
       "2            35.0  \n",
       "3             2.0  \n",
       "4            75.0  "
      ]
     },
     "execution_count": 5,
     "metadata": {},
     "output_type": "execute_result"
    }
   ],
   "source": [
    "df['YardsRemaining'] = 100 - df.YardLine[df.FieldPosition == df.PossessionTeam]\n",
    "df.YardsRemaining.fillna(df.YardLine, inplace=True)\n",
    "df.head()[['GameId', 'PlayId', 'FieldPosition', 'PossessionTeam', 'YardLine', 'Yards', 'YardsRemaining']]"
   ]
  },
  {
   "cell_type": "markdown",
   "metadata": {},
   "source": [
    "## Fix Defenders In Box Feature"
   ]
  },
  {
   "cell_type": "code",
   "execution_count": 6,
   "metadata": {},
   "outputs": [
    {
     "name": "stdout",
     "output_type": "stream",
     "text": [
      "Before\n",
      "1 in Box Count: 1\n",
      "2 in Box Count: 1\n",
      "NaN in Box Count: 3\n",
      "After\n",
      "1 in Box Count: 0\n",
      "2 in Box Count: 0\n",
      "NaN in Box Count: 0\n"
     ]
    },
    {
     "data": {
      "image/png": "[encoded data removed]",
      "text/plain": [
       "<Figure size 432x288 with 1 Axes>"
      ]
     },
     "metadata": {
      "needs_background": "light"
     },
     "output_type": "display_data"
    }
   ],
   "source": [
    "print(\"Before\")\n",
    "print(\"1 in Box Count:\", len(df[df.DefendersInTheBox==1]))\n",
    "print(\"2 in Box Count:\", len(df[df.DefendersInTheBox==2]))\n",
    "print(\"NaN in Box Count:\", sum(df.DefendersInTheBox.isnull()))\n",
    "sns.distplot(df.DefendersInTheBox[df.DefendersInTheBox.isnull()==False], bins=11, kde=False, norm_hist=True)\n",
    "\n",
    "# Fill nan with median (i.e. 7), and bump 1 or 2 (few samples) up to 3\n",
    "df.DefendersInTheBox.fillna(7, inplace=True)\n",
    "df.DefendersInTheBox.replace(to_replace=[1, 2], value=3, inplace=True)\n",
    "\n",
    "print(\"After\")\n",
    "print(\"1 in Box Count:\", len(df[df.DefendersInTheBox==1]))\n",
    "print(\"2 in Box Count:\", len(df[df.DefendersInTheBox==2]))\n",
    "print(\"NaN in Box Count:\", sum(df.DefendersInTheBox.isnull()))"
   ]
  },
  {
   "cell_type": "markdown",
   "metadata": {},
   "source": [
    "## Fix Position Feature"
   ]
  },
  {
   "cell_type": "code",
   "execution_count": 7,
   "metadata": {},
   "outputs": [
    {
     "name": "stdout",
     "output_type": "stream",
     "text": [
      "Before \n",
      "\n",
      "Position\n",
      "CB        9\n",
      "DE        1\n",
      "DT        2\n",
      "FB      169\n",
      "HB      616\n",
      "QB       77\n",
      "RB    21628\n",
      "TE       31\n",
      "WR      638\n",
      "dtype: int64\n",
      "\n",
      " After\n",
      "Position\n",
      "FB         169\n",
      "HB         616\n",
      "Other       12\n",
      "QB          77\n",
      "RB       21628\n",
      "TE          31\n",
      "WR         638\n",
      "dtype: int64\n"
     ]
    },
    {
     "data": {
      "image/png": "[encoded data removed]",
      "text/plain": [
       "<Figure size 432x288 with 1 Axes>"
      ]
     },
     "metadata": {
      "needs_background": "light"
     },
     "output_type": "display_data"
    }
   ],
   "source": [
    "print(\"Before \\n\")\n",
    "print(df.groupby(['Position']).size())\n",
    "sns.countplot(x=\"Position\", data=df)\n",
    "\n",
    "# Change 'CB', 'DE', 'DT' (few samples) to 'Other'\n",
    "df.Position.replace(to_replace=['CB', 'DE', 'DT'], value='Other', inplace=True)\n",
    "\n",
    "print(\"\\n After\")\n",
    "print(df.groupby(['Position']).size())"
   ]
  },
  {
   "cell_type": "markdown",
   "metadata": {},
   "source": [
    "## Calculate number of carries (new feature)"
   ]
  },
  {
   "cell_type": "code",
   "execution_count": 8,
   "metadata": {},
   "outputs": [
    {
     "name": "stdout",
     "output_type": "stream",
     "text": [
      "         DisplayName  NflIdRusher  Carries\n",
      "372        Zay Jones      2557863        1\n",
      "94   Darren McFadden          284        1\n",
      "216      Keith Smith      2550400        1\n",
      "92   Darius Jennings      2553896        1\n",
      "90      Dante Pettis      2560836        1\n",
      "..               ...          ...      ...\n",
      "213      Kareem Hunt      2557917      450\n",
      "260    Melvin Gordon      2552469      455\n",
      "192    Jordan Howard      2555418      518\n",
      "346      Todd Gurley      2552475      533\n",
      "140  Ezekiel Elliott      2555224      537\n",
      "\n",
      "[373 rows x 3 columns]\n",
      "158\n"
     ]
    }
   ],
   "source": [
    "carries = df[['PlayId', 'NflIdRusher', 'DisplayName']].groupby(['DisplayName', 'NflIdRusher']).agg('count').reset_index()\n",
    "carries.rename(columns={'PlayId':'Carries'}, inplace=True)\n",
    "print(carries.sort_values(by='Carries'))\n",
    "print(sum(carries['Carries']>=10))"
   ]
  },
  {
   "cell_type": "code",
   "execution_count": 9,
   "metadata": {},
   "outputs": [
    {
     "data": {
      "text/html": [
       "<div>\n",
       "<style scoped>\n",
       "    .dataframe tbody tr th:only-of-type {\n",
       "        vertical-align: middle;\n",
       "    }\n",
       "\n",
       "    .dataframe tbody tr th {\n",
       "        vertical-align: top;\n",
       "    }\n",
       "\n",
       "    .dataframe thead th {\n",
       "        text-align: right;\n",
       "    }\n",
       "</style>\n",
       "<table border=\"1\" class=\"dataframe\">\n",
       "  <thead>\n",
       "    <tr style=\"text-align: right;\">\n",
       "      <th></th>\n",
       "      <th>GameId</th>\n",
       "      <th>PlayId</th>\n",
       "      <th>FieldPosition</th>\n",
       "      <th>PossessionTeam</th>\n",
       "      <th>YardLine</th>\n",
       "      <th>Yards</th>\n",
       "      <th>YardsRemaining</th>\n",
       "      <th>NflIdRusher</th>\n",
       "      <th>DisplayName</th>\n",
       "      <th>Carries</th>\n",
       "    </tr>\n",
       "  </thead>\n",
       "  <tbody>\n",
       "    <tr>\n",
       "      <td>0</td>\n",
       "      <td>2017090700</td>\n",
       "      <td>20170907000118</td>\n",
       "      <td>NE</td>\n",
       "      <td>NE</td>\n",
       "      <td>35</td>\n",
       "      <td>8</td>\n",
       "      <td>65.0</td>\n",
       "      <td>2543773</td>\n",
       "      <td>James White</td>\n",
       "      <td>135</td>\n",
       "    </tr>\n",
       "    <tr>\n",
       "      <td>1</td>\n",
       "      <td>2017090700</td>\n",
       "      <td>20170907000139</td>\n",
       "      <td>NE</td>\n",
       "      <td>NE</td>\n",
       "      <td>43</td>\n",
       "      <td>3</td>\n",
       "      <td>57.0</td>\n",
       "      <td>2543773</td>\n",
       "      <td>James White</td>\n",
       "      <td>135</td>\n",
       "    </tr>\n",
       "    <tr>\n",
       "      <td>2</td>\n",
       "      <td>2017090700</td>\n",
       "      <td>20170907000189</td>\n",
       "      <td>KC</td>\n",
       "      <td>NE</td>\n",
       "      <td>35</td>\n",
       "      <td>5</td>\n",
       "      <td>35.0</td>\n",
       "      <td>2543773</td>\n",
       "      <td>James White</td>\n",
       "      <td>135</td>\n",
       "    </tr>\n",
       "    <tr>\n",
       "      <td>3</td>\n",
       "      <td>2017090700</td>\n",
       "      <td>20170907000345</td>\n",
       "      <td>KC</td>\n",
       "      <td>NE</td>\n",
       "      <td>2</td>\n",
       "      <td>2</td>\n",
       "      <td>2.0</td>\n",
       "      <td>2539663</td>\n",
       "      <td>Mike Gillislee</td>\n",
       "      <td>120</td>\n",
       "    </tr>\n",
       "    <tr>\n",
       "      <td>4</td>\n",
       "      <td>2017090700</td>\n",
       "      <td>20170907000395</td>\n",
       "      <td>KC</td>\n",
       "      <td>KC</td>\n",
       "      <td>25</td>\n",
       "      <td>7</td>\n",
       "      <td>75.0</td>\n",
       "      <td>2557917</td>\n",
       "      <td>Kareem Hunt</td>\n",
       "      <td>450</td>\n",
       "    </tr>\n",
       "  </tbody>\n",
       "</table>\n",
       "</div>"
      ],
      "text/plain": [
       "       GameId          PlayId FieldPosition PossessionTeam  YardLine  Yards  \\\n",
       "0  2017090700  20170907000118            NE             NE        35      8   \n",
       "1  2017090700  20170907000139            NE             NE        43      3   \n",
       "2  2017090700  20170907000189            KC             NE        35      5   \n",
       "3  2017090700  20170907000345            KC             NE         2      2   \n",
       "4  2017090700  20170907000395            KC             KC        25      7   \n",
       "\n",
       "   YardsRemaining  NflIdRusher     DisplayName  Carries  \n",
       "0            65.0      2543773     James White      135  \n",
       "1            57.0      2543773     James White      135  \n",
       "2            35.0      2543773     James White      135  \n",
       "3             2.0      2539663  Mike Gillislee      120  \n",
       "4            75.0      2557917     Kareem Hunt      450  "
      ]
     },
     "execution_count": 9,
     "metadata": {},
     "output_type": "execute_result"
    }
   ],
   "source": [
    "df = df.merge(carries[['NflIdRusher', 'Carries']], how = 'left', on = 'NflIdRusher')\n",
    "df.head()[['GameId', 'PlayId', 'FieldPosition', 'PossessionTeam', 'YardLine', 'Yards', 'YardsRemaining', 'NflIdRusher', 'DisplayName', 'Carries']]"
   ]
  },
  {
   "cell_type": "code",
   "execution_count": 10,
   "metadata": {},
   "outputs": [
    {
     "data": {
      "text/html": [
       "<div>\n",
       "<style scoped>\n",
       "    .dataframe tbody tr th:only-of-type {\n",
       "        vertical-align: middle;\n",
       "    }\n",
       "\n",
       "    .dataframe tbody tr th {\n",
       "        vertical-align: top;\n",
       "    }\n",
       "\n",
       "    .dataframe thead th {\n",
       "        text-align: right;\n",
       "    }\n",
       "</style>\n",
       "<table border=\"1\" class=\"dataframe\">\n",
       "  <thead>\n",
       "    <tr style=\"text-align: right;\">\n",
       "      <th></th>\n",
       "      <th>DisplayName</th>\n",
       "      <th>NflIdRusher</th>\n",
       "      <th>RusherMeanYards</th>\n",
       "      <th>RusherMaxYards</th>\n",
       "      <th>RusherMinYards</th>\n",
       "    </tr>\n",
       "  </thead>\n",
       "  <tbody>\n",
       "    <tr>\n",
       "      <td>0</td>\n",
       "      <td>Aaron Jones</td>\n",
       "      <td>2558116</td>\n",
       "      <td>5.533019</td>\n",
       "      <td>67</td>\n",
       "      <td>-5</td>\n",
       "    </tr>\n",
       "    <tr>\n",
       "      <td>1</td>\n",
       "      <td>Aaron Ripkowski</td>\n",
       "      <td>2552477</td>\n",
       "      <td>2.600000</td>\n",
       "      <td>4</td>\n",
       "      <td>1</td>\n",
       "    </tr>\n",
       "    <tr>\n",
       "      <td>2</td>\n",
       "      <td>Adam Humphries</td>\n",
       "      <td>2553895</td>\n",
       "      <td>6.500000</td>\n",
       "      <td>7</td>\n",
       "      <td>6</td>\n",
       "    </tr>\n",
       "    <tr>\n",
       "      <td>3</td>\n",
       "      <td>Adam Thielen</td>\n",
       "      <td>2541785</td>\n",
       "      <td>6.833333</td>\n",
       "      <td>15</td>\n",
       "      <td>-1</td>\n",
       "    </tr>\n",
       "    <tr>\n",
       "      <td>4</td>\n",
       "      <td>Adoree' Jackson</td>\n",
       "      <td>2558065</td>\n",
       "      <td>11.000000</td>\n",
       "      <td>20</td>\n",
       "      <td>-3</td>\n",
       "    </tr>\n",
       "  </tbody>\n",
       "</table>\n",
       "</div>"
      ],
      "text/plain": [
       "       DisplayName  NflIdRusher  RusherMeanYards  RusherMaxYards  \\\n",
       "0      Aaron Jones      2558116         5.533019              67   \n",
       "1  Aaron Ripkowski      2552477         2.600000               4   \n",
       "2   Adam Humphries      2553895         6.500000               7   \n",
       "3     Adam Thielen      2541785         6.833333              15   \n",
       "4  Adoree' Jackson      2558065        11.000000              20   \n",
       "\n",
       "   RusherMinYards  \n",
       "0              -5  \n",
       "1               1  \n",
       "2               6  \n",
       "3              -1  \n",
       "4              -3  "
      ]
     },
     "execution_count": 10,
     "metadata": {},
     "output_type": "execute_result"
    }
   ],
   "source": [
    "player_yards = df[['Yards', 'NflIdRusher', 'DisplayName']].groupby(['DisplayName', 'NflIdRusher']).agg(['mean', 'max', 'min'])['Yards'].reset_index()\n",
    "player_yards.rename(columns={'mean':'RusherMeanYards', 'max':'RusherMaxYards', 'min':'RusherMinYards'}, inplace=True)\n",
    "player_yards.head()"
   ]
  },
  {
   "cell_type": "code",
   "execution_count": 11,
   "metadata": {},
   "outputs": [
    {
     "data": {
      "text/html": [
       "<div>\n",
       "<style scoped>\n",
       "    .dataframe tbody tr th:only-of-type {\n",
       "        vertical-align: middle;\n",
       "    }\n",
       "\n",
       "    .dataframe tbody tr th {\n",
       "        vertical-align: top;\n",
       "    }\n",
       "\n",
       "    .dataframe thead th {\n",
       "        text-align: right;\n",
       "    }\n",
       "</style>\n",
       "<table border=\"1\" class=\"dataframe\">\n",
       "  <thead>\n",
       "    <tr style=\"text-align: right;\">\n",
       "      <th></th>\n",
       "      <th>GameId</th>\n",
       "      <th>PlayId</th>\n",
       "      <th>FieldPosition</th>\n",
       "      <th>PossessionTeam</th>\n",
       "      <th>YardLine</th>\n",
       "      <th>Yards</th>\n",
       "      <th>YardsRemaining</th>\n",
       "      <th>NflIdRusher</th>\n",
       "      <th>DisplayName</th>\n",
       "      <th>Carries</th>\n",
       "      <th>RusherMeanYards</th>\n",
       "      <th>RusherMaxYards</th>\n",
       "      <th>RusherMinYards</th>\n",
       "    </tr>\n",
       "  </thead>\n",
       "  <tbody>\n",
       "    <tr>\n",
       "      <td>0</td>\n",
       "      <td>2017090700</td>\n",
       "      <td>20170907000118</td>\n",
       "      <td>NE</td>\n",
       "      <td>NE</td>\n",
       "      <td>35</td>\n",
       "      <td>8</td>\n",
       "      <td>65.0</td>\n",
       "      <td>2543773</td>\n",
       "      <td>James White</td>\n",
       "      <td>135</td>\n",
       "      <td>4.385185</td>\n",
       "      <td>27</td>\n",
       "      <td>-6</td>\n",
       "    </tr>\n",
       "    <tr>\n",
       "      <td>1</td>\n",
       "      <td>2017090700</td>\n",
       "      <td>20170907000139</td>\n",
       "      <td>NE</td>\n",
       "      <td>NE</td>\n",
       "      <td>43</td>\n",
       "      <td>3</td>\n",
       "      <td>57.0</td>\n",
       "      <td>2543773</td>\n",
       "      <td>James White</td>\n",
       "      <td>135</td>\n",
       "      <td>4.385185</td>\n",
       "      <td>27</td>\n",
       "      <td>-6</td>\n",
       "    </tr>\n",
       "    <tr>\n",
       "      <td>2</td>\n",
       "      <td>2017090700</td>\n",
       "      <td>20170907000189</td>\n",
       "      <td>KC</td>\n",
       "      <td>NE</td>\n",
       "      <td>35</td>\n",
       "      <td>5</td>\n",
       "      <td>35.0</td>\n",
       "      <td>2543773</td>\n",
       "      <td>James White</td>\n",
       "      <td>135</td>\n",
       "      <td>4.385185</td>\n",
       "      <td>27</td>\n",
       "      <td>-6</td>\n",
       "    </tr>\n",
       "    <tr>\n",
       "      <td>3</td>\n",
       "      <td>2017090700</td>\n",
       "      <td>20170907000345</td>\n",
       "      <td>KC</td>\n",
       "      <td>NE</td>\n",
       "      <td>2</td>\n",
       "      <td>2</td>\n",
       "      <td>2.0</td>\n",
       "      <td>2539663</td>\n",
       "      <td>Mike Gillislee</td>\n",
       "      <td>120</td>\n",
       "      <td>3.550000</td>\n",
       "      <td>16</td>\n",
       "      <td>-4</td>\n",
       "    </tr>\n",
       "    <tr>\n",
       "      <td>4</td>\n",
       "      <td>2017090700</td>\n",
       "      <td>20170907000395</td>\n",
       "      <td>KC</td>\n",
       "      <td>KC</td>\n",
       "      <td>25</td>\n",
       "      <td>7</td>\n",
       "      <td>75.0</td>\n",
       "      <td>2557917</td>\n",
       "      <td>Kareem Hunt</td>\n",
       "      <td>450</td>\n",
       "      <td>4.728889</td>\n",
       "      <td>69</td>\n",
       "      <td>-6</td>\n",
       "    </tr>\n",
       "  </tbody>\n",
       "</table>\n",
       "</div>"
      ],
      "text/plain": [
       "       GameId          PlayId FieldPosition PossessionTeam  YardLine  Yards  \\\n",
       "0  2017090700  20170907000118            NE             NE        35      8   \n",
       "1  2017090700  20170907000139            NE             NE        43      3   \n",
       "2  2017090700  20170907000189            KC             NE        35      5   \n",
       "3  2017090700  20170907000345            KC             NE         2      2   \n",
       "4  2017090700  20170907000395            KC             KC        25      7   \n",
       "\n",
       "   YardsRemaining  NflIdRusher     DisplayName  Carries  RusherMeanYards  \\\n",
       "0            65.0      2543773     James White      135         4.385185   \n",
       "1            57.0      2543773     James White      135         4.385185   \n",
       "2            35.0      2543773     James White      135         4.385185   \n",
       "3             2.0      2539663  Mike Gillislee      120         3.550000   \n",
       "4            75.0      2557917     Kareem Hunt      450         4.728889   \n",
       "\n",
       "   RusherMaxYards  RusherMinYards  \n",
       "0              27              -6  \n",
       "1              27              -6  \n",
       "2              27              -6  \n",
       "3              16              -4  \n",
       "4              69              -6  "
      ]
     },
     "execution_count": 11,
     "metadata": {},
     "output_type": "execute_result"
    }
   ],
   "source": [
    "df = df.merge(player_yards[['NflIdRusher', 'RusherMeanYards', 'RusherMaxYards', 'RusherMinYards']], how = 'left', on = 'NflIdRusher')\n",
    "df.head()[['GameId', 'PlayId', 'FieldPosition', 'PossessionTeam', 'YardLine', 'Yards', 'YardsRemaining', 'NflIdRusher', 'DisplayName', 'Carries', 'RusherMeanYards', 'RusherMaxYards', 'RusherMinYards']]"
   ]
  },
  {
   "cell_type": "markdown",
   "metadata": {},
   "source": [
    "# Train and Dev Split"
   ]
  },
  {
   "cell_type": "code",
   "execution_count": 12,
   "metadata": {},
   "outputs": [
    {
     "name": "stdout",
     "output_type": "stream",
     "text": [
      "(16253, 54)\n",
      "(6966, 54)\n"
     ]
    }
   ],
   "source": [
    "train, dev = train_test_split(df, test_size=0.3, random_state=1, shuffle=True)\n",
    "print(train.shape)\n",
    "print(dev.shape)"
   ]
  },
  {
   "cell_type": "markdown",
   "metadata": {},
   "source": [
    "# Perform MLE"
   ]
  },
  {
   "cell_type": "markdown",
   "metadata": {},
   "source": [
    "## Calculate CDF with all data"
   ]
  },
  {
   "cell_type": "code",
   "execution_count": 47,
   "metadata": {},
   "outputs": [
    {
     "data": {
      "image/png": "[encoded data removed]",
      "text/plain": [
       "<Figure size 432x288 with 2 Axes>"
      ]
     },
     "metadata": {
      "needs_background": "light"
     },
     "output_type": "display_data"
    }
   ],
   "source": [
    "# calculate pmf \n",
    "yard_counts = np.zeros((199), dtype = 'double')\n",
    "for yard in range(-99, 100):\n",
    "    yard_counts[yard+99] = sum(train['Yards']==yard)\n",
    "yard_probabilities = yard_counts / np.sum(yard_counts)\n",
    "\n",
    "# calculate cdf\n",
    "yard_cdf = np.cumsum(yard_probabilities)\n",
    "\n",
    "fig, axes = plt.subplots(1, 2)\n",
    "axes[0].plot(np.arange(-99,100), yard_probabilities)\n",
    "axes[0].set(xlabel='y (Yards Gained)', ylabel='Pr(Y==y)', title='MLE PMF')\n",
    "axes[1].plot(np.arange(-99,100), yard_cdf)\n",
    "axes[1].set(xlabel='y (Yards Gained)', ylabel='Pr(Y<=y)', title='MLE CDF')\n",
    "plt.tight_layout()"
   ]
  },
  {
   "cell_type": "markdown",
   "metadata": {},
   "source": [
    "## Squashing probabilities "
   ]
  },
  {
   "cell_type": "code",
   "execution_count": 48,
   "metadata": {},
   "outputs": [],
   "source": [
    "# squash probabilities\n",
    "def squash(yard_cdf, yard_remaining):\n",
    "    squash_cdf = yard_cdf.copy()\n",
    "    squash_cdf[199-(100 - yard_remaining):] = 1\n",
    "    squash_cdf[0:yard_remaining-1] = 0 \n",
    "    return squash_cdf"
   ]
  },
  {
   "cell_type": "code",
   "execution_count": 49,
   "metadata": {},
   "outputs": [
    {
     "data": {
      "image/png": "[encoded data removed]",
      "text/plain": [
       "<Figure size 432x288 with 2 Axes>"
      ]
     },
     "metadata": {
      "needs_background": "light"
     },
     "output_type": "display_data"
    }
   ],
   "source": [
    "one_cdf = squash(yard_cdf, 1)\n",
    "ninenine_cdf = squash(yard_cdf, 99)\n",
    "\n",
    "fig, axes = plt.subplots(1, 2)\n",
    "axes[0].plot(np.arange(-99,100), one_cdf)\n",
    "axes[0].set(xlabel='y (Yards Gained)', ylabel='Pr(Y<=y)', title='MLE CDF with 1 Yard Remaining')\n",
    "axes[1].plot(np.arange(-99,100), ninenine_cdf)\n",
    "axes[1].set(xlabel='y (Yards Gained)', ylabel='Pr(Y<=y)', title='MLE CDF with 99 Yards Remaining')\n",
    "plt.tight_layout()"
   ]
  },
  {
   "cell_type": "code",
   "execution_count": 74,
   "metadata": {},
   "outputs": [
    {
     "data": {
      "image/png": "[encoded data removed]",
      "text/plain": [
       "<Figure size 432x288 with 2 Axes>"
      ]
     },
     "metadata": {
      "needs_background": "light"
     },
     "output_type": "display_data"
    }
   ],
   "source": [
    "fig, axes = plt.subplots(1, 2)\n",
    "\n",
    "for index, row in dev.head().iterrows():\n",
    "    pred_cdf = squash(yard_cdf, int(row['YardsRemaining']))\n",
    "    axes[0].plot(np.arange(-99,100), pred_cdf, label=row['YardsRemaining'])\n",
    "    true_cdf = np.zeros(199)\n",
    "    true_cdf[99+row['Yards']:] = 1\n",
    "    axes[1].plot(np.arange(-99,100), true_cdf, label=row['Yards'])\n",
    "\n",
    "    \n",
    "axes[0].set(xlabel='y (Yards Gained)', ylabel='Pr(Y<=y)', title='Predicted CDF')\n",
    "axes[0].legend(title='Remaining')\n",
    "axes[1].set(xlabel='y (Yards Gained)', ylabel='Pr(Y<=y)', title='True CDF')\n",
    "axes[1].legend(title='Yards')\n",
    "plt.tight_layout()"
   ]
  },
  {
   "cell_type": "markdown",
   "metadata": {},
   "source": [
    "## Loss for model using all of the data"
   ]
  },
  {
   "cell_type": "code",
   "execution_count": 75,
   "metadata": {},
   "outputs": [
    {
     "name": "stdout",
     "output_type": "stream",
     "text": [
      "Cost: 0.014228038590878522\n"
     ]
    }
   ],
   "source": [
    "all_loss = []\n",
    "for index, row in dev.iterrows():\n",
    "    pred_cdf = squash(yard_cdf, int(row['YardsRemaining']))\n",
    "    true_cdf = np.zeros(199)\n",
    "    true_cdf[99+row['Yards']:] = 1\n",
    "    loss = 1/199 * np.sum((pred_cdf-true_cdf)**2)\n",
    "    all_loss.append(loss)\n",
    "cost = np.average(all_loss)\n",
    "print(\"Cost: {}\".format(cost))"
   ]
  },
  {
   "cell_type": "markdown",
   "metadata": {},
   "source": [
    "## Investigating loss/cost"
   ]
  },
  {
   "cell_type": "code",
   "execution_count": 52,
   "metadata": {},
   "outputs": [
    {
     "name": "stdout",
     "output_type": "stream",
     "text": [
      "(Cost, Yards Remaining)\n"
     ]
    },
    {
     "data": {
      "image/png": "[encoded data removed]",
      "text/plain": [
       "<Figure size 432x288 with 1 Axes>"
      ]
     },
     "metadata": {
      "needs_background": "light"
     },
     "output_type": "display_data"
    },
    {
     "data": {
      "image/png": "[encoded data removed]",
      "text/plain": [
       "<Figure size 432x288 with 1 Axes>"
      ]
     },
     "metadata": {
      "needs_background": "light"
     },
     "output_type": "display_data"
    }
   ],
   "source": [
    "# dict to store [cumulative loss, # loss terms] for each yard_remaining\n",
    "all_loss = {yard_remaining:[0, 0] for yard_remaining in range(1, 100)}\n",
    "for index, row in dev.iterrows():\n",
    "    pred_cdf = squash(yard_cdf, int(row['YardsRemaining']))\n",
    "    true_cdf = np.zeros(199)\n",
    "    true_cdf[99+row['Yards']:] = 1\n",
    "    loss = 1/199 * np.sum((pred_cdf-true_cdf)**2)\n",
    "    all_loss[int(row['YardsRemaining'])][0] += loss\n",
    "    all_loss[int(row['YardsRemaining'])][1] += 1\n",
    "cost = {k:v[0]/v[1] for k, v in all_loss.items()}\n",
    "print(\"(Cost, Yards Remaining)\")\n",
    "sorted(((v,k) for k,v in cost.items()), reverse=True)\n",
    "\n",
    "# Make plot, easier to interpret\n",
    "sorted_yard_cost = sorted(((k,v) for k,v in cost.items()))\n",
    "sorted_cost = []\n",
    "for yards_remaining, avg_loss in sorted_yard_cost:\n",
    "    sorted_cost.append(avg_loss)\n",
    "plt.plot(np.arange(1,100), sorted_cost)\n",
    "plt.xlabel('Yards Remaining')\n",
    "plt.ylabel('Cost')\n",
    "plt.figure()\n",
    "\n",
    "ax = sns.boxplot(x=\"YardsRemaining\", y=\"Yards\", data=df)\n",
    "ax.set_xticklabels(ax.get_xticklabels(), rotation=90, fontsize=4);"
   ]
  },
  {
   "cell_type": "code",
   "execution_count": 53,
   "metadata": {},
   "outputs": [
    {
     "name": "stdout",
     "output_type": "stream",
     "text": [
      "(Cost, Defenders In The Box)\n"
     ]
    },
    {
     "data": {
      "text/plain": [
       "[(0.018117450627950046, 5),\n",
       " (0.01773227084572138, 4),\n",
       " (0.016025303784570205, 3),\n",
       " (0.01497115696082684, 9),\n",
       " (0.014538670941643853, 7),\n",
       " (0.014308610862836982, 6),\n",
       " (0.01351598199927049, 8),\n",
       " (0.0036544354227254, 11),\n",
       " (0.0035064331021326845, 10)]"
      ]
     },
     "execution_count": 53,
     "metadata": {},
     "output_type": "execute_result"
    }
   ],
   "source": [
    "# dict to store [cumulative loss, # loss terms] for each number of defenders in box\n",
    "all_loss = {dib:[0, 0] for dib in range(3, 12)}\n",
    "for index, row in dev.iterrows():\n",
    "    pred_cdf = squash(yard_cdf, int(row['YardsRemaining']))\n",
    "    true_cdf = np.zeros(199)\n",
    "    true_cdf[99+row['Yards']:] = 1\n",
    "    loss = 1/199 * np.sum((pred_cdf-true_cdf)**2)\n",
    "    all_loss[int(row['DefendersInTheBox'])][0] += loss\n",
    "    all_loss[int(row['DefendersInTheBox'])][1] += 1\n",
    "cost = {k:v[0]/v[1] for k, v in all_loss.items()}\n",
    "print(\"(Cost, Defenders In The Box)\")\n",
    "sorted(((v,k) for k,v in cost.items()), reverse=True)"
   ]
  },
  {
   "cell_type": "code",
   "execution_count": 54,
   "metadata": {},
   "outputs": [
    {
     "name": "stdout",
     "output_type": "stream",
     "text": [
      "(Cost, Position)\n"
     ]
    },
    {
     "data": {
      "text/plain": [
       "[(0.024032196903946913, 'WR'),\n",
       " (0.02017833438630165, 'TE'),\n",
       " (0.019197712393171005, 'Other'),\n",
       " (0.017336820384854214, 'QB'),\n",
       " (0.014133422721999318, 'HB'),\n",
       " (0.013927071025892577, 'RB'),\n",
       " (0.009459706377450477, 'FB')]"
      ]
     },
     "execution_count": 54,
     "metadata": {},
     "output_type": "execute_result"
    }
   ],
   "source": [
    "# dict to store [cumulative loss, # loss terms] for each number of defenders in box\n",
    "all_loss = {dib:[0, 0] for dib in df.Position.unique()}\n",
    "for index, row in dev.iterrows():\n",
    "    pred_cdf = squash(yard_cdf, int(row['YardsRemaining']))\n",
    "    true_cdf = np.zeros(199)\n",
    "    true_cdf[99+row['Yards']:] = 1\n",
    "    loss = 1/199 * np.sum((pred_cdf-true_cdf)**2)\n",
    "    all_loss[row['Position']][0] += loss\n",
    "    all_loss[row['Position']][1] += 1\n",
    "cost = {k:v[0]/v[1] for k, v in all_loss.items()}\n",
    "print(\"(Cost, Position)\")\n",
    "sorted(((v,k) for k,v in cost.items()), reverse=True)"
   ]
  },
  {
   "cell_type": "markdown",
   "metadata": {},
   "source": [
    "## A new take on squashing"
   ]
  },
  {
   "cell_type": "code",
   "execution_count": 55,
   "metadata": {},
   "outputs": [],
   "source": [
    "# squash probabilities\n",
    "def squash_upper(cdf, squash_yard):\n",
    "    squash_cdf = cdf.copy()\n",
    "    squash_cdf[99+squash_yard:] = 1\n",
    "    return squash_cdf\n",
    "\n",
    "def squash_lower(cdf, squash_yard):\n",
    "    squash_cdf = cdf.copy()\n",
    "    squash_cdf[0:99+squash_yard] = 0\n",
    "    return squash_cdf"
   ]
  },
  {
   "cell_type": "code",
   "execution_count": 56,
   "metadata": {},
   "outputs": [
    {
     "name": "stdout",
     "output_type": "stream",
     "text": [
      "Cost: 0.01422045019890437\n"
     ]
    }
   ],
   "source": [
    "all_loss = []\n",
    "for index, row in dev.iterrows():\n",
    "    if int(row['Carries']) > 10:\n",
    "        pred_cdf = squash_upper(yard_cdf, int(row['RusherMaxYards']))\n",
    "        pred_cdf = squash_lower(pred_cdf, int(row['RusherMinYards']))\n",
    "    else:\n",
    "        pred_cdf = yard_cdf.copy()\n",
    "    pred_cdf = squash(pred_cdf, int(row['YardsRemaining']))\n",
    "    true_cdf = np.zeros(199)\n",
    "    true_cdf[99+row['Yards']:] = 1\n",
    "    loss = 1/199 * np.sum((pred_cdf-true_cdf)**2)\n",
    "    all_loss.append(loss)\n",
    "cost = np.average(all_loss)\n",
    "print(\"Cost: {}\".format(cost))"
   ]
  },
  {
   "cell_type": "markdown",
   "metadata": {},
   "source": [
    "## Laplace Smoothing"
   ]
  },
  {
   "cell_type": "code",
   "execution_count": 70,
   "metadata": {},
   "outputs": [
    {
     "data": {
      "image/png": "[encoded data removed]",
      "text/plain": [
       "<Figure size 432x288 with 2 Axes>"
      ]
     },
     "metadata": {
      "needs_background": "light"
     },
     "output_type": "display_data"
    }
   ],
   "source": [
    "# calculate laplace pmf\n",
    "total_count = sum(yard_counts)\n",
    "lower = -15\n",
    "upper = 100\n",
    "n_smoothed = upper - lower\n",
    "for yard in range(lower, upper):\n",
    "    yard_counts[99+yard] += 1\n",
    "yard_probabilities_laplace = yard_counts/(total_count+n_smoothed)\n",
    "\n",
    "# calculate laplce cdf\n",
    "yard_cdf_laplace = np.cumsum(yard_probabilities_laplace)\n",
    "\n",
    "fig, axes = plt.subplots(1, 2)\n",
    "axes[0].plot(np.arange(-99,100), yard_probabilities_laplace)\n",
    "axes[0].set(xlabel='y (Yards Gained)', ylabel='Pr(Y==y)', title='Laplace PMF')\n",
    "axes[1].plot(np.arange(-99,100), yard_cdf_laplace)\n",
    "axes[1].set(xlabel='y (Yards Gained)', ylabel='Pr(Y<=y)', title='Laplace CDF')\n",
    "plt.tight_layout()"
   ]
  },
  {
   "cell_type": "code",
   "execution_count": 71,
   "metadata": {},
   "outputs": [
    {
     "data": {
      "image/png": "[encoded data removed]",
      "text/plain": [
       "<Figure size 432x288 with 2 Axes>"
      ]
     },
     "metadata": {
      "needs_background": "light"
     },
     "output_type": "display_data"
    }
   ],
   "source": [
    "fig, axes = plt.subplots(1, 2)\n",
    "\n",
    "for index, row in dev.head().iterrows():\n",
    "    pred_cdf = squash(yard_cdf_laplace, int(row['YardsRemaining']))\n",
    "    axes[0].plot(np.arange(-99,100), pred_cdf, label=row['YardsRemaining'])\n",
    "    true_cdf = np.zeros(199)\n",
    "    true_cdf[99+row['Yards']:] = 1\n",
    "    axes[1].plot(np.arange(-99,100), true_cdf, label=row['Yards'])\n",
    "\n",
    "    \n",
    "axes[0].set(xlabel='y (Yards Gained)', ylabel='Pr(Y<=y)', title='Predicted CDF')\n",
    "axes[0].legend(title='Remaining')\n",
    "axes[1].set(xlabel='y (Yards Gained)', ylabel='Pr(Y<=y)', title='True CDF')\n",
    "axes[1].legend(title='Yards')\n",
    "plt.tight_layout()"
   ]
  },
  {
   "cell_type": "code",
   "execution_count": 73,
   "metadata": {},
   "outputs": [
    {
     "name": "stdout",
     "output_type": "stream",
     "text": [
      "Cost: 0.014357044232222083\n"
     ]
    }
   ],
   "source": [
    "all_loss = []\n",
    "for index, row in dev.iterrows():\n",
    "    pred_cdf = squash(yard_cdf_laplace, int(row['YardsRemaining']))\n",
    "    true_cdf = np.zeros(199)\n",
    "    true_cdf[99+row['Yards']:] = 1\n",
    "    loss = 1/199 * np.sum((pred_cdf-true_cdf)**2)\n",
    "    all_loss.append(loss)\n",
    "cost = np.average(all_loss)\n",
    "print(\"Cost: {}\".format(cost))"
   ]
  },
  {
   "cell_type": "code",
   "execution_count": 76,
   "metadata": {},
   "outputs": [
    {
     "name": "stdout",
     "output_type": "stream",
     "text": [
      "(Cost, Yards Remaining)\n"
     ]
    },
    {
     "data": {
      "image/png": "[encoded data removed]",
      "text/plain": [
       "<Figure size 432x288 with 1 Axes>"
      ]
     },
     "metadata": {
      "needs_background": "light"
     },
     "output_type": "display_data"
    },
    {
     "data": {
      "image/png": "[encoded data removed]",
      "text/plain": [
       "<Figure size 432x288 with 1 Axes>"
      ]
     },
     "metadata": {
      "needs_background": "light"
     },
     "output_type": "display_data"
    }
   ],
   "source": [
    "# dict to store [cumulative loss, # loss terms] for each yard_remaining\n",
    "all_loss = {yard_remaining:[0, 0] for yard_remaining in range(1, 100)}\n",
    "for index, row in dev.iterrows():\n",
    "    pred_cdf = squash(yard_cdf_laplace, int(row['YardsRemaining']))\n",
    "    true_cdf = np.zeros(199)\n",
    "    true_cdf[99+row['Yards']:] = 1\n",
    "    loss = 1/199 * np.sum((pred_cdf-true_cdf)**2)\n",
    "    all_loss[int(row['YardsRemaining'])][0] += loss\n",
    "    all_loss[int(row['YardsRemaining'])][1] += 1\n",
    "cost = {k:v[0]/v[1] for k, v in all_loss.items()}\n",
    "print(\"(Cost, Yards Remaining)\")\n",
    "sorted(((v,k) for k,v in cost.items()), reverse=True)\n",
    "\n",
    "# Make plot, easier to interpret\n",
    "sorted_yard_cost = sorted(((k,v) for k,v in cost.items()))\n",
    "sorted_cost = []\n",
    "for yards_remaining, avg_loss in sorted_yard_cost:\n",
    "    sorted_cost.append(avg_loss)\n",
    "plt.plot(np.arange(1,100), sorted_cost)\n",
    "plt.xlabel('Yards Remaining')\n",
    "plt.ylabel('Cost')\n",
    "plt.figure()\n",
    "\n",
    "ax = sns.boxplot(x=\"YardsRemaining\", y=\"Yards\", data=df)\n",
    "ax.set_xticklabels(ax.get_xticklabels(), rotation=90, fontsize=4);"
   ]
  },
  {
   "cell_type": "markdown",
   "metadata": {},
   "source": [
    "# Perform MLE Segmented by Yardline"
   ]
  },
  {
   "cell_type": "markdown",
   "metadata": {},
   "source": [
    "## Find model for each yard line"
   ]
  },
  {
   "cell_type": "code",
   "execution_count": 43,
   "metadata": {},
   "outputs": [],
   "source": [
    "yard_counts = np.zeros((99,199), dtype = 'uint32')\n",
    "yard_probabilities = np.zeros((99,199), dtype = 'float')\n",
    "\n",
    "for yard_remaining in range(1,100):\n",
    "    yards_current = train.Yards[train['YardsRemaining']==yard_remaining]\n",
    "    \n",
    "    for yard in range(-99, 100):\n",
    "        yard_counts[yard_remaining-1,yard+99] = sum(yards_current==yard)\n",
    "        \n",
    "    yard_probabilities[yard_remaining-1,:] = yard_counts[yard_remaining-1,:] / np.sum(yard_counts[yard_remaining-1,:])\n",
    "    \n",
    "# CDF \n",
    "yard_cdf = np.zeros(yard_probabilities.shape)\n",
    "for yard_remaining in range(1, 100):\n",
    "    yard_cdf[yard_remaining-1] = np.cumsum(yard_probabilities[yard_remaining-1,:])"
   ]
  },
  {
   "cell_type": "code",
   "execution_count": 18,
   "metadata": {},
   "outputs": [
    {
     "data": {
      "image/png": "[encoded data removed]",
      "text/plain": [
       "<Figure size 432x288 with 1 Axes>"
      ]
     },
     "metadata": {
      "needs_background": "light"
     },
     "output_type": "display_data"
    }
   ],
   "source": [
    "for yard_line in [1,50,99]:\n",
    "    yard_line_index = yard_line -1\n",
    "    plt.plot(np.arange(-99,100),yard_probabilities[yard_line_index,:], label = str(yard_line))\n",
    "    \n",
    "plt.title('PMF for MLE by Yards Remaining')\n",
    "plt.ylabel('Pr(Y==y)')\n",
    "plt.xlabel('y (Yards Gained)')\n",
    "plt.legend(title='Yards Remaining');"
   ]
  },
  {
   "cell_type": "code",
   "execution_count": 19,
   "metadata": {},
   "outputs": [
    {
     "name": "stdout",
     "output_type": "stream",
     "text": [
      "Cost: 0.014088655099676866\n"
     ]
    }
   ],
   "source": [
    "all_loss = []\n",
    "for index, row in dev.iterrows():\n",
    "    pred_cdf = squash(yard_cdf[int(row['YardsRemaining'])-1,:], int(row['YardsRemaining']))\n",
    "    true_cdf = np.zeros(199)\n",
    "    true_cdf[99+row['Yards']:] = 1\n",
    "    loss = 1/199 * np.sum((pred_cdf-true_cdf)**2)\n",
    "    all_loss.append(loss)\n",
    "cost = np.average(all_loss)\n",
    "print(\"Cost: {}\".format(cost))"
   ]
  },
  {
   "cell_type": "markdown",
   "metadata": {},
   "source": [
    "# Boosted MLE by Yardline"
   ]
  },
  {
   "cell_type": "markdown",
   "metadata": {},
   "source": [
    "## Using Gaussian kernel method to boost models for each yard line"
   ]
  },
  {
   "cell_type": "code",
   "execution_count": 20,
   "metadata": {},
   "outputs": [],
   "source": [
    "#tune this as needed\n",
    "sigma = 16\n",
    "boosted_cdf = np.zeros(199)\n",
    "weights = []\n",
    "for true_remaining in range(1,100):\n",
    "    for model_remaining in range (1,100):\n",
    "        yard_line_cdf = yard_cdf[model_remaining-1,:]\n",
    "        weight = np.exp(-((true_remaining - model_remaining)**2) / (2*(sigma**2)))\n",
    "        weights.append(weight)\n",
    "        boosted_cdf += weight*yard_line_cdf\n",
    "        \n",
    "#normalize the cdf\n",
    "boosted_cdf /= np.sum(weights)  "
   ]
  },
  {
   "cell_type": "markdown",
   "metadata": {},
   "source": [
    "## Compute loss for weighted model"
   ]
  },
  {
   "cell_type": "code",
   "execution_count": 21,
   "metadata": {},
   "outputs": [
    {
     "name": "stdout",
     "output_type": "stream",
     "text": [
      "Cost: 0.014044888138695224\n"
     ]
    }
   ],
   "source": [
    "all_loss = []\n",
    "for index, row in dev.iterrows():\n",
    "    pred_cdf = squash(boosted_cdf, int(row['YardsRemaining']))\n",
    "    true_cdf = np.zeros(199)\n",
    "    true_cdf[99+row['Yards']:] = 1\n",
    "    loss = 1/199 * np.sum((pred_cdf-true_cdf)**2)\n",
    "    all_loss.append(loss)\n",
    "cost = np.average(all_loss)\n",
    "print(\"Cost: {}\".format(cost))"
   ]
  }
 ],
 "metadata": {
  "kernelspec": {
   "display_name": "Python 3",
   "language": "python",
   "name": "python3"
  },
  "language_info": {
   "codemirror_mode": {
    "name": "ipython",
    "version": 3
   },
   "file_extension": ".py",
   "mimetype": "text/x-python",
   "name": "python",
   "nbconvert_exporter": "python",
   "pygments_lexer": "ipython3",
   "version": "3.7.3"
  }
 },
 "nbformat": 4,
 "nbformat_minor": 2
}

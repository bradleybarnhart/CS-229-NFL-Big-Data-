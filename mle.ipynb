{
 "cells": [
  {
   "cell_type": "code",
   "execution_count": 96,
   "metadata": {},
   "outputs": [],
   "source": [
    "import csv\n",
    "import pandas as pd\n",
    "import numpy as np \n",
    "import matplotlib.pyplot as plt\n",
    "import seaborn as sns\n",
    "from sklearn.model_selection import train_test_split\n",
    "sns.set()"
   ]
  },
  {
   "cell_type": "code",
   "execution_count": 111,
   "metadata": {},
   "outputs": [
    {
     "data": {
      "text/html": [
       "<div>\n",
       "<style scoped>\n",
       "    .dataframe tbody tr th:only-of-type {\n",
       "        vertical-align: middle;\n",
       "    }\n",
       "\n",
       "    .dataframe tbody tr th {\n",
       "        vertical-align: top;\n",
       "    }\n",
       "\n",
       "    .dataframe thead th {\n",
       "        text-align: right;\n",
       "    }\n",
       "</style>\n",
       "<table border=\"1\" class=\"dataframe\">\n",
       "  <thead>\n",
       "    <tr style=\"text-align: right;\">\n",
       "      <th></th>\n",
       "      <th>GameId</th>\n",
       "      <th>PlayId</th>\n",
       "      <th>Team</th>\n",
       "      <th>X</th>\n",
       "      <th>Y</th>\n",
       "      <th>S</th>\n",
       "      <th>A</th>\n",
       "      <th>Dis</th>\n",
       "      <th>Orientation</th>\n",
       "      <th>Dir</th>\n",
       "      <th>...</th>\n",
       "      <th>Week</th>\n",
       "      <th>Stadium</th>\n",
       "      <th>Location</th>\n",
       "      <th>StadiumType</th>\n",
       "      <th>Turf</th>\n",
       "      <th>GameWeather</th>\n",
       "      <th>Temperature</th>\n",
       "      <th>Humidity</th>\n",
       "      <th>WindSpeed</th>\n",
       "      <th>WindDirection</th>\n",
       "    </tr>\n",
       "  </thead>\n",
       "  <tbody>\n",
       "    <tr>\n",
       "      <td>0</td>\n",
       "      <td>2017090700</td>\n",
       "      <td>20170907000118</td>\n",
       "      <td>away</td>\n",
       "      <td>73.91</td>\n",
       "      <td>34.84</td>\n",
       "      <td>1.69</td>\n",
       "      <td>1.13</td>\n",
       "      <td>0.40</td>\n",
       "      <td>81.99</td>\n",
       "      <td>177.18</td>\n",
       "      <td>...</td>\n",
       "      <td>1</td>\n",
       "      <td>Gillette Stadium</td>\n",
       "      <td>Foxborough, MA</td>\n",
       "      <td>Outdoor</td>\n",
       "      <td>Field Turf</td>\n",
       "      <td>Clear and warm</td>\n",
       "      <td>63.0</td>\n",
       "      <td>77.0</td>\n",
       "      <td>8</td>\n",
       "      <td>SW</td>\n",
       "    </tr>\n",
       "    <tr>\n",
       "      <td>1</td>\n",
       "      <td>2017090700</td>\n",
       "      <td>20170907000118</td>\n",
       "      <td>away</td>\n",
       "      <td>74.67</td>\n",
       "      <td>32.64</td>\n",
       "      <td>0.42</td>\n",
       "      <td>1.35</td>\n",
       "      <td>0.01</td>\n",
       "      <td>27.61</td>\n",
       "      <td>198.70</td>\n",
       "      <td>...</td>\n",
       "      <td>1</td>\n",
       "      <td>Gillette Stadium</td>\n",
       "      <td>Foxborough, MA</td>\n",
       "      <td>Outdoor</td>\n",
       "      <td>Field Turf</td>\n",
       "      <td>Clear and warm</td>\n",
       "      <td>63.0</td>\n",
       "      <td>77.0</td>\n",
       "      <td>8</td>\n",
       "      <td>SW</td>\n",
       "    </tr>\n",
       "    <tr>\n",
       "      <td>2</td>\n",
       "      <td>2017090700</td>\n",
       "      <td>20170907000118</td>\n",
       "      <td>away</td>\n",
       "      <td>74.00</td>\n",
       "      <td>33.20</td>\n",
       "      <td>1.22</td>\n",
       "      <td>0.59</td>\n",
       "      <td>0.31</td>\n",
       "      <td>3.01</td>\n",
       "      <td>202.73</td>\n",
       "      <td>...</td>\n",
       "      <td>1</td>\n",
       "      <td>Gillette Stadium</td>\n",
       "      <td>Foxborough, MA</td>\n",
       "      <td>Outdoor</td>\n",
       "      <td>Field Turf</td>\n",
       "      <td>Clear and warm</td>\n",
       "      <td>63.0</td>\n",
       "      <td>77.0</td>\n",
       "      <td>8</td>\n",
       "      <td>SW</td>\n",
       "    </tr>\n",
       "    <tr>\n",
       "      <td>3</td>\n",
       "      <td>2017090700</td>\n",
       "      <td>20170907000118</td>\n",
       "      <td>away</td>\n",
       "      <td>71.46</td>\n",
       "      <td>27.70</td>\n",
       "      <td>0.42</td>\n",
       "      <td>0.54</td>\n",
       "      <td>0.02</td>\n",
       "      <td>359.77</td>\n",
       "      <td>105.64</td>\n",
       "      <td>...</td>\n",
       "      <td>1</td>\n",
       "      <td>Gillette Stadium</td>\n",
       "      <td>Foxborough, MA</td>\n",
       "      <td>Outdoor</td>\n",
       "      <td>Field Turf</td>\n",
       "      <td>Clear and warm</td>\n",
       "      <td>63.0</td>\n",
       "      <td>77.0</td>\n",
       "      <td>8</td>\n",
       "      <td>SW</td>\n",
       "    </tr>\n",
       "    <tr>\n",
       "      <td>4</td>\n",
       "      <td>2017090700</td>\n",
       "      <td>20170907000118</td>\n",
       "      <td>away</td>\n",
       "      <td>69.32</td>\n",
       "      <td>35.42</td>\n",
       "      <td>1.82</td>\n",
       "      <td>2.43</td>\n",
       "      <td>0.16</td>\n",
       "      <td>12.63</td>\n",
       "      <td>164.31</td>\n",
       "      <td>...</td>\n",
       "      <td>1</td>\n",
       "      <td>Gillette Stadium</td>\n",
       "      <td>Foxborough, MA</td>\n",
       "      <td>Outdoor</td>\n",
       "      <td>Field Turf</td>\n",
       "      <td>Clear and warm</td>\n",
       "      <td>63.0</td>\n",
       "      <td>77.0</td>\n",
       "      <td>8</td>\n",
       "      <td>SW</td>\n",
       "    </tr>\n",
       "  </tbody>\n",
       "</table>\n",
       "<p>5 rows × 49 columns</p>\n",
       "</div>"
      ],
      "text/plain": [
       "       GameId          PlayId  Team      X      Y     S     A   Dis  \\\n",
       "0  2017090700  20170907000118  away  73.91  34.84  1.69  1.13  0.40   \n",
       "1  2017090700  20170907000118  away  74.67  32.64  0.42  1.35  0.01   \n",
       "2  2017090700  20170907000118  away  74.00  33.20  1.22  0.59  0.31   \n",
       "3  2017090700  20170907000118  away  71.46  27.70  0.42  0.54  0.02   \n",
       "4  2017090700  20170907000118  away  69.32  35.42  1.82  2.43  0.16   \n",
       "\n",
       "   Orientation     Dir  ...  Week           Stadium        Location  \\\n",
       "0        81.99  177.18  ...     1  Gillette Stadium  Foxborough, MA   \n",
       "1        27.61  198.70  ...     1  Gillette Stadium  Foxborough, MA   \n",
       "2         3.01  202.73  ...     1  Gillette Stadium  Foxborough, MA   \n",
       "3       359.77  105.64  ...     1  Gillette Stadium  Foxborough, MA   \n",
       "4        12.63  164.31  ...     1  Gillette Stadium  Foxborough, MA   \n",
       "\n",
       "   StadiumType        Turf     GameWeather Temperature Humidity  WindSpeed  \\\n",
       "0      Outdoor  Field Turf  Clear and warm        63.0     77.0          8   \n",
       "1      Outdoor  Field Turf  Clear and warm        63.0     77.0          8   \n",
       "2      Outdoor  Field Turf  Clear and warm        63.0     77.0          8   \n",
       "3      Outdoor  Field Turf  Clear and warm        63.0     77.0          8   \n",
       "4      Outdoor  Field Turf  Clear and warm        63.0     77.0          8   \n",
       "\n",
       "   WindDirection  \n",
       "0             SW  \n",
       "1             SW  \n",
       "2             SW  \n",
       "3             SW  \n",
       "4             SW  \n",
       "\n",
       "[5 rows x 49 columns]"
      ]
     },
     "execution_count": 111,
     "metadata": {},
     "output_type": "execute_result"
    }
   ],
   "source": [
    "filename = 'train.csv' \n",
    "df = pd.read_csv(filename)\n",
    "df.head()"
   ]
  },
  {
   "cell_type": "markdown",
   "metadata": {},
   "source": [
    "# Preprocess Data"
   ]
  },
  {
   "cell_type": "markdown",
   "metadata": {},
   "source": [
    "## Fix Null Field Positions"
   ]
  },
  {
   "cell_type": "code",
   "execution_count": 112,
   "metadata": {},
   "outputs": [
    {
     "name": "stdout",
     "output_type": "stream",
     "text": [
      "Before\n",
      "6424\n",
      "(509762, 49)\n",
      "         GameId          PlayId FieldPosition PossessionTeam  YardLine\n",
      "198  2017090700  20170907000801           NaN             KC        50\n",
      "199  2017090700  20170907000801           NaN             KC        50\n",
      "200  2017090700  20170907000801           NaN             KC        50\n",
      "201  2017090700  20170907000801           NaN             KC        50\n",
      "202  2017090700  20170907000801           NaN             KC        50\n",
      "After\n",
      "0\n",
      "(509762, 49)\n",
      "         GameId          PlayId FieldPosition PossessionTeam  YardLine\n",
      "198  2017090700  20170907000801            KC             KC        50\n",
      "199  2017090700  20170907000801            KC             KC        50\n",
      "200  2017090700  20170907000801            KC             KC        50\n",
      "201  2017090700  20170907000801            KC             KC        50\n",
      "202  2017090700  20170907000801            KC             KC        50\n"
     ]
    }
   ],
   "source": [
    "print(\"Before\")\n",
    "field_positions = df['FieldPosition']\n",
    "print(sum(field_positions.isnull()==True))\n",
    "print(df.shape)\n",
    "print(df[df.FieldPosition.isnull()][['GameId', 'PlayId', 'FieldPosition', 'PossessionTeam', 'YardLine']].head())\n",
    "\n",
    "# Handle 50 YardLine by filling in the null 'FieldPositions' with the value in 'PossessionTeam'\n",
    "df.FieldPosition.fillna(df.PossessionTeam, inplace=True)\n",
    "\n",
    "print(\"After\")\n",
    "field_positions = df['FieldPosition']\n",
    "print(sum(field_positions.isnull()==True))\n",
    "print(df.shape)\n",
    "print(df[198:203][['GameId', 'PlayId', 'FieldPosition', 'PossessionTeam', 'YardLine']])"
   ]
  },
  {
   "cell_type": "markdown",
   "metadata": {},
   "source": [
    "## Downsample, keep only entries where players is rusher"
   ]
  },
  {
   "cell_type": "code",
   "execution_count": 113,
   "metadata": {},
   "outputs": [
    {
     "name": "stdout",
     "output_type": "stream",
     "text": [
      "Before\n",
      "       GameId          PlayId FieldPosition PossessionTeam  YardLine  Yards\n",
      "0  2017090700  20170907000118            NE             NE        35      8\n",
      "1  2017090700  20170907000118            NE             NE        35      8\n",
      "2  2017090700  20170907000118            NE             NE        35      8\n",
      "3  2017090700  20170907000118            NE             NE        35      8\n",
      "4  2017090700  20170907000118            NE             NE        35      8\n",
      "(509762, 49)\n",
      "After\n",
      "       GameId          PlayId FieldPosition PossessionTeam  YardLine  Yards\n",
      "0  2017090700  20170907000118            NE             NE        35      8\n",
      "1  2017090700  20170907000139            NE             NE        43      3\n",
      "2  2017090700  20170907000189            KC             NE        35      5\n",
      "3  2017090700  20170907000345            KC             NE         2      2\n",
      "4  2017090700  20170907000395            KC             KC        25      7\n",
      "(23171, 49)\n"
     ]
    }
   ],
   "source": [
    "print(\"Before\")\n",
    "print(df.head()[['GameId', 'PlayId', 'FieldPosition', 'PossessionTeam', 'YardLine', 'Yards']])\n",
    "print(df.shape)\n",
    "\n",
    "# Only keep entries associated with rusher\n",
    "df = df[df['NflIdRusher']==df['NflId']]\n",
    "df.reset_index(drop=True, inplace=True)\n",
    "\n",
    "print(\"After\")\n",
    "print(df.head()[['GameId', 'PlayId', 'FieldPosition', 'PossessionTeam', 'YardLine', 'Yards']])\n",
    "print(df.shape)"
   ]
  },
  {
   "cell_type": "markdown",
   "metadata": {},
   "source": [
    "## Calculate yards remaining (new feature)"
   ]
  },
  {
   "cell_type": "code",
   "execution_count": 114,
   "metadata": {},
   "outputs": [
    {
     "data": {
      "text/html": [
       "<div>\n",
       "<style scoped>\n",
       "    .dataframe tbody tr th:only-of-type {\n",
       "        vertical-align: middle;\n",
       "    }\n",
       "\n",
       "    .dataframe tbody tr th {\n",
       "        vertical-align: top;\n",
       "    }\n",
       "\n",
       "    .dataframe thead th {\n",
       "        text-align: right;\n",
       "    }\n",
       "</style>\n",
       "<table border=\"1\" class=\"dataframe\">\n",
       "  <thead>\n",
       "    <tr style=\"text-align: right;\">\n",
       "      <th></th>\n",
       "      <th>GameId</th>\n",
       "      <th>PlayId</th>\n",
       "      <th>FieldPosition</th>\n",
       "      <th>PossessionTeam</th>\n",
       "      <th>YardLine</th>\n",
       "      <th>Yards</th>\n",
       "      <th>YardsRemaining</th>\n",
       "    </tr>\n",
       "  </thead>\n",
       "  <tbody>\n",
       "    <tr>\n",
       "      <td>0</td>\n",
       "      <td>2017090700</td>\n",
       "      <td>20170907000118</td>\n",
       "      <td>NE</td>\n",
       "      <td>NE</td>\n",
       "      <td>35</td>\n",
       "      <td>8</td>\n",
       "      <td>65.0</td>\n",
       "    </tr>\n",
       "    <tr>\n",
       "      <td>1</td>\n",
       "      <td>2017090700</td>\n",
       "      <td>20170907000139</td>\n",
       "      <td>NE</td>\n",
       "      <td>NE</td>\n",
       "      <td>43</td>\n",
       "      <td>3</td>\n",
       "      <td>57.0</td>\n",
       "    </tr>\n",
       "    <tr>\n",
       "      <td>2</td>\n",
       "      <td>2017090700</td>\n",
       "      <td>20170907000189</td>\n",
       "      <td>KC</td>\n",
       "      <td>NE</td>\n",
       "      <td>35</td>\n",
       "      <td>5</td>\n",
       "      <td>35.0</td>\n",
       "    </tr>\n",
       "    <tr>\n",
       "      <td>3</td>\n",
       "      <td>2017090700</td>\n",
       "      <td>20170907000345</td>\n",
       "      <td>KC</td>\n",
       "      <td>NE</td>\n",
       "      <td>2</td>\n",
       "      <td>2</td>\n",
       "      <td>2.0</td>\n",
       "    </tr>\n",
       "    <tr>\n",
       "      <td>4</td>\n",
       "      <td>2017090700</td>\n",
       "      <td>20170907000395</td>\n",
       "      <td>KC</td>\n",
       "      <td>KC</td>\n",
       "      <td>25</td>\n",
       "      <td>7</td>\n",
       "      <td>75.0</td>\n",
       "    </tr>\n",
       "  </tbody>\n",
       "</table>\n",
       "</div>"
      ],
      "text/plain": [
       "       GameId          PlayId FieldPosition PossessionTeam  YardLine  Yards  \\\n",
       "0  2017090700  20170907000118            NE             NE        35      8   \n",
       "1  2017090700  20170907000139            NE             NE        43      3   \n",
       "2  2017090700  20170907000189            KC             NE        35      5   \n",
       "3  2017090700  20170907000345            KC             NE         2      2   \n",
       "4  2017090700  20170907000395            KC             KC        25      7   \n",
       "\n",
       "   YardsRemaining  \n",
       "0            65.0  \n",
       "1            57.0  \n",
       "2            35.0  \n",
       "3             2.0  \n",
       "4            75.0  "
      ]
     },
     "execution_count": 114,
     "metadata": {},
     "output_type": "execute_result"
    }
   ],
   "source": [
    "df['YardsRemaining'] = 100 - df.YardLine[df.FieldPosition == df.PossessionTeam]\n",
    "df.YardsRemaining.fillna(df.YardLine, inplace=True)\n",
    "df.head()[['GameId', 'PlayId', 'FieldPosition', 'PossessionTeam', 'YardLine', 'Yards', 'YardsRemaining']]"
   ]
  },
  {
   "cell_type": "code",
   "execution_count": 115,
   "metadata": {},
   "outputs": [
    {
     "name": "stdout",
     "output_type": "stream",
     "text": [
      "Before\n",
      "1 in Box Count: 1\n",
      "2 in Box Count: 1\n",
      "NaN in Box Count: 3\n",
      "After\n",
      "1 in Box Count: 0\n",
      "2 in Box Count: 0\n",
      "NaN in Box Count: 0\n"
     ]
    },
    {
     "data": {
      "image/png": "[encoded data removed]",
      "text/plain": [
       "<Figure size 432x288 with 1 Axes>"
      ]
     },
     "metadata": {},
     "output_type": "display_data"
    }
   ],
   "source": [
    "print(\"Before\")\n",
    "print(\"1 in Box Count:\", len(df[df.DefendersInTheBox==1]))\n",
    "print(\"2 in Box Count:\", len(df[df.DefendersInTheBox==2]))\n",
    "print(\"NaN in Box Count:\", sum(df.DefendersInTheBox.isnull()))\n",
    "sns.distplot(df.DefendersInTheBox[df.DefendersInTheBox.isnull()==False], bins=11, kde=False, norm_hist=True)\n",
    "\n",
    "# Fill nan with median (i.e. 7), and bump 1 or 2 (few samples) up to 3\n",
    "df.DefendersInTheBox.fillna(7, inplace=True)\n",
    "df.DefendersInTheBox.replace(to_replace=[1, 2], value=3, inplace=True)\n",
    "\n",
    "print(\"After\")\n",
    "print(\"1 in Box Count:\", len(df[df.DefendersInTheBox==1]))\n",
    "print(\"2 in Box Count:\", len(df[df.DefendersInTheBox==2]))\n",
    "print(\"NaN in Box Count:\", sum(df.DefendersInTheBox.isnull()))"
   ]
  },
  {
   "cell_type": "code",
   "execution_count": 153,
   "metadata": {},
   "outputs": [
    {
     "name": "stdout",
     "output_type": "stream",
     "text": [
      "Before \n",
      "\n",
      "Position\n",
      "FB         169\n",
      "HB         616\n",
      "Other       12\n",
      "QB          77\n",
      "RB       21628\n",
      "TE          31\n",
      "WR         638\n",
      "dtype: int64\n",
      "\n",
      " After\n",
      "Position\n",
      "FB         169\n",
      "HB         616\n",
      "Other       12\n",
      "QB          77\n",
      "RB       21628\n",
      "TE          31\n",
      "WR         638\n",
      "dtype: int64\n"
     ]
    },
    {
     "data": {
      "image/png": "[encoded data removed]",
      "text/plain": [
       "<Figure size 432x288 with 1 Axes>"
      ]
     },
     "metadata": {},
     "output_type": "display_data"
    }
   ],
   "source": [
    "print(\"Before \\n\")\n",
    "print(df.groupby(['Position']).size())\n",
    "sns.countplot(x=\"Position\", data=df)\n",
    "\n",
    "# Change 'CB', 'DE', 'DT' (few samples) to 'Other'\n",
    "df.Position.replace(to_replace=['CB', 'DE', 'DT'], value='Other', inplace=True)\n",
    "\n",
    "print(\"\\n After\")\n",
    "print(df.groupby(['Position']).size())"
   ]
  },
  {
   "cell_type": "markdown",
   "metadata": {},
   "source": [
    "# Train and Dev Split"
   ]
  },
  {
   "cell_type": "code",
   "execution_count": 149,
   "metadata": {},
   "outputs": [
    {
     "name": "stdout",
     "output_type": "stream",
     "text": [
      "(16219, 50)\n",
      "(6952, 50)\n"
     ]
    }
   ],
   "source": [
    "train, dev = train_test_split(df, test_size=0.3, random_state=1, shuffle=True)\n",
    "print(train.shape)\n",
    "print(dev.shape)"
   ]
  },
  {
   "cell_type": "markdown",
   "metadata": {},
   "source": [
    "# Perform MLE"
   ]
  },
  {
   "cell_type": "markdown",
   "metadata": {},
   "source": [
    "## Calculate CDF with all data"
   ]
  },
  {
   "cell_type": "code",
   "execution_count": 117,
   "metadata": {},
   "outputs": [
    {
     "data": {
      "image/png": "[encoded data removed]",
      "text/plain": [
       "<Figure size 432x288 with 2 Axes>"
      ]
     },
     "metadata": {},
     "output_type": "display_data"
    }
   ],
   "source": [
    "# calculate pmf \n",
    "yard_counts = np.zeros((199), dtype = 'double')\n",
    "for yard in range(-99, 100):\n",
    "    yard_counts[yard+99] = sum(train['Yards']==yard)\n",
    "yard_probabilities = yard_counts / np.sum(yard_counts)\n",
    "\n",
    "# calculate cdf\n",
    "yard_cdf = np.cumsum(yard_probabilities)\n",
    "\n",
    "fig, axes = plt.subplots(1, 2)\n",
    "axes[0].plot(np.arange(-99,100), yard_probabilities)\n",
    "axes[0].set(xlabel='y (Yards Gained)', ylabel='Pr(Y==y)', title='MLE PMF')\n",
    "axes[1].plot(np.arange(-99,100), yard_cdf)\n",
    "axes[1].set(xlabel='y (Yards Gained)', ylabel='Pr(Y<=y)', title='MLE CDF')\n",
    "plt.tight_layout()"
   ]
  },
  {
   "cell_type": "markdown",
   "metadata": {},
   "source": [
    "## Squashing probabilities "
   ]
  },
  {
   "cell_type": "code",
   "execution_count": 104,
   "metadata": {},
   "outputs": [],
   "source": [
    "# squash probabilities\n",
    "def squash(yard_cdf, yard_remaining):\n",
    "    squash_cdf = yard_cdf.copy()\n",
    "    squash_cdf[199-(100 - yard_remaining):] = 1\n",
    "    squash_cdf[0:yard_remaining-1] = 0 \n",
    "    return squash_cdf"
   ]
  },
  {
   "cell_type": "code",
   "execution_count": 105,
   "metadata": {},
   "outputs": [
    {
     "data": {
      "image/png": "[encoded data removed]",
      "text/plain": [
       "<Figure size 432x288 with 2 Axes>"
      ]
     },
     "metadata": {},
     "output_type": "display_data"
    }
   ],
   "source": [
    "one_cdf = squash(yard_cdf, 1)\n",
    "ninenine_cdf = squash(yard_cdf, 99)\n",
    "\n",
    "fig, axes = plt.subplots(1, 2)\n",
    "axes[0].plot(np.arange(-99,100), one_cdf)\n",
    "axes[0].set(xlabel='y (Yards Gained)', ylabel='Pr(Y<=y)', title='MLE CDF with 1 Yard Remaining')\n",
    "axes[1].plot(np.arange(-99,100), ninenine_cdf)\n",
    "axes[1].set(xlabel='y (Yards Gained)', ylabel='Pr(Y<=y)', title='MLE CDF with 99 Yards Remaining')\n",
    "plt.tight_layout()"
   ]
  },
  {
   "cell_type": "code",
   "execution_count": 106,
   "metadata": {},
   "outputs": [
    {
     "data": {
      "image/png": "[encoded data removed]",
      "text/plain": [
       "<Figure size 432x288 with 2 Axes>"
      ]
     },
     "metadata": {},
     "output_type": "display_data"
    }
   ],
   "source": [
    "fig, axes = plt.subplots(1, 2)\n",
    "\n",
    "for index, row in dev.head().iterrows():\n",
    "    if index in [7177, 5312, 15852]:\n",
    "        pred_cdf = squash(yard_cdf, int(row['YardsRemaining']))\n",
    "        axes[0].plot(np.arange(-99,100), pred_cdf, label=row['YardsRemaining'])\n",
    "        true_cdf = np.zeros(199)\n",
    "        true_cdf[99+row['Yards']:] = 1\n",
    "        axes[1].plot(np.arange(-99,100), true_cdf, label=row['Yards'])\n",
    "        (pred_cdf-true_cdf)**2\n",
    "\n",
    "    \n",
    "axes[0].set(xlabel='y (Yards Gained)', ylabel='Pr(Y<=y)', title='Predicted CDF')\n",
    "axes[0].legend(title='Remaining')\n",
    "axes[1].set(xlabel='y (Yards Gained)', ylabel='Pr(Y<=y)', title='True CDF')\n",
    "axes[1].legend(title='Yards')\n",
    "plt.tight_layout()"
   ]
  },
  {
   "cell_type": "markdown",
   "metadata": {},
   "source": [
    "## Loss for model using all of the data"
   ]
  },
  {
   "cell_type": "code",
   "execution_count": 107,
   "metadata": {},
   "outputs": [
    {
     "name": "stdout",
     "output_type": "stream",
     "text": [
      "Cost: 0.014044054093647522\n"
     ]
    }
   ],
   "source": [
    "all_loss = []\n",
    "for index, row in dev.iterrows():\n",
    "    pred_cdf = squash(yard_cdf, int(row['YardsRemaining']))\n",
    "    true_cdf = np.zeros(199)\n",
    "    true_cdf[99+row['Yards']:] = 1\n",
    "    loss = 1/199 * np.sum((pred_cdf-true_cdf)**2)\n",
    "    all_loss.append(loss)\n",
    "cost = np.average(all_loss)\n",
    "print(\"Cost: {}\".format(cost))"
   ]
  },
  {
   "cell_type": "markdown",
   "metadata": {},
   "source": [
    "## Investigating loss/cost"
   ]
  },
  {
   "cell_type": "code",
   "execution_count": 108,
   "metadata": {},
   "outputs": [
    {
     "name": "stdout",
     "output_type": "stream",
     "text": [
      "(Cost, Yards Remaining)\n"
     ]
    },
    {
     "data": {
      "text/plain": [
       "[(0.023656810243118855, 90),\n",
       " (0.019958763288461297, 60),\n",
       " (0.019861169052320174, 41),\n",
       " (0.019834543962703528, 64),\n",
       " (0.019449651165708407, 58),\n",
       " (0.018700459812563148, 88),\n",
       " (0.018551650968926615, 49),\n",
       " (0.017953948968883426, 84),\n",
       " (0.017740605128370147, 32),\n",
       " (0.017419316287308858, 66),\n",
       " (0.017243510481237546, 85),\n",
       " (0.01705987258763503, 45),\n",
       " (0.01699527863469708, 89),\n",
       " (0.01696655511089461, 35),\n",
       " (0.016914278624621405, 87),\n",
       " (0.01690794356831512, 42),\n",
       " (0.01681848095071732, 40),\n",
       " (0.016580795436014636, 65),\n",
       " (0.016459157001513895, 70),\n",
       " (0.01645547156748175, 47),\n",
       " (0.01643887897118454, 57),\n",
       " (0.01642111033514841, 50),\n",
       " (0.016162744302258888, 62),\n",
       " (0.016037374276890542, 80),\n",
       " (0.016004692403173516, 38),\n",
       " (0.01594305293816979, 75),\n",
       " (0.015853594613998715, 72),\n",
       " (0.015838794123628205, 74),\n",
       " (0.015584580332104223, 55),\n",
       " (0.015437757724239633, 79),\n",
       " (0.015374251592497256, 52),\n",
       " (0.015262430725008309, 48),\n",
       " (0.01515454541877643, 53),\n",
       " (0.015126129247456656, 68),\n",
       " (0.015075535970216287, 27),\n",
       " (0.014995344054837913, 56),\n",
       " (0.014965439878053413, 78),\n",
       " (0.014795857002220482, 31),\n",
       " (0.01476799040831975, 82),\n",
       " (0.014733156070660591, 69),\n",
       " (0.014436825596959786, 28),\n",
       " (0.014394517290047157, 77),\n",
       " (0.014360181524544687, 33),\n",
       " (0.014130930168287951, 36),\n",
       " (0.013953492209270611, 51),\n",
       " (0.013946994308769051, 44),\n",
       " (0.013942969323374703, 81),\n",
       " (0.013882593021550125, 61),\n",
       " (0.013753787739132014, 59),\n",
       " (0.013726956410974071, 46),\n",
       " (0.013672786116151386, 30),\n",
       " (0.013555835030308536, 23),\n",
       " (0.013499216614101972, 73),\n",
       " (0.01349762730624261, 39),\n",
       " (0.013216428102270897, 22),\n",
       " (0.013179366776089083, 95),\n",
       " (0.013167091809901978, 21),\n",
       " (0.013071665185478082, 67),\n",
       " (0.012873391881174583, 71),\n",
       " (0.012811634092373111, 20),\n",
       " (0.012736429413674784, 25),\n",
       " (0.012724618321821738, 92),\n",
       " (0.012600435230201157, 43),\n",
       " (0.01250798463631379, 76),\n",
       " (0.012160256409721773, 29),\n",
       " (0.01205683729715713, 34),\n",
       " (0.011735772404869402, 18),\n",
       " (0.011626770915788799, 15),\n",
       " (0.0115825798956892, 54),\n",
       " (0.011375146391055527, 24),\n",
       " (0.011237939269455738, 11),\n",
       " (0.011211427911162712, 86),\n",
       " (0.011102464038723945, 16),\n",
       " (0.010970842651773415, 83),\n",
       " (0.010953158198496644, 14),\n",
       " (0.010877201296504047, 94),\n",
       " (0.010732752581070041, 19),\n",
       " (0.010729419898268562, 63),\n",
       " (0.010485808125814556, 26),\n",
       " (0.010466791600329038, 13),\n",
       " (0.01037690210018616, 12),\n",
       " (0.01032062852152055, 91),\n",
       " (0.009903751183862658, 37),\n",
       " (0.009772723436463291, 10),\n",
       " (0.009719911040687873, 17),\n",
       " (0.009385415904098153, 99),\n",
       " (0.009066151336630652, 98),\n",
       " (0.008824465794678972, 93),\n",
       " (0.008772824793671639, 8),\n",
       " (0.00815546036479957, 9),\n",
       " (0.007932812368028879, 96),\n",
       " (0.00719776476075928, 97),\n",
       " (0.006895531224396757, 7),\n",
       " (0.0068108134139181495, 6),\n",
       " (0.006604543406182979, 5),\n",
       " (0.0054521548237851875, 4),\n",
       " (0.005120250496383676, 2),\n",
       " (0.004323819917308494, 3),\n",
       " (0.0027398888901252715, 1)]"
      ]
     },
     "execution_count": 108,
     "metadata": {},
     "output_type": "execute_result"
    }
   ],
   "source": [
    "# dict to store [cumulative loss, # loss terms] for each yard_remaining\n",
    "all_loss = {yard_remaining:[0, 0] for yard_remaining in range(1, 100)}\n",
    "for index, row in dev.iterrows():\n",
    "    pred_cdf = squash(yard_cdf, int(row['YardsRemaining']))\n",
    "    true_cdf = np.zeros(199)\n",
    "    true_cdf[99+row['Yards']:] = 1\n",
    "    loss = 1/199 * np.sum((pred_cdf-true_cdf)**2)\n",
    "    all_loss[int(row['YardsRemaining'])][0] += loss\n",
    "    all_loss[int(row['YardsRemaining'])][1] += 1\n",
    "cost = {k:v[0]/v[1] for k, v in all_loss.items()}\n",
    "print(\"(Cost, Yards Remaining)\")\n",
    "sorted(((v,k) for k,v in cost.items()), reverse=True)"
   ]
  },
  {
   "cell_type": "code",
   "execution_count": 118,
   "metadata": {},
   "outputs": [
    {
     "name": "stdout",
     "output_type": "stream",
     "text": [
      "(Cost, Defenders In The Box)\n"
     ]
    },
    {
     "data": {
      "text/plain": [
       "[(0.021231979668939697, 3),\n",
       " (0.019281554437827926, 4),\n",
       " (0.01634603109998031, 9),\n",
       " (0.01565466255081256, 5),\n",
       " (0.014557634316943896, 7),\n",
       " (0.01452820604207374, 6),\n",
       " (0.012452516507054423, 8),\n",
       " (0.003842475965125263, 10),\n",
       " (0.0035015824220201793, 11)]"
      ]
     },
     "execution_count": 118,
     "metadata": {},
     "output_type": "execute_result"
    }
   ],
   "source": [
    "# dict to store [cumulative loss, # loss terms] for each number of defenders in box\n",
    "all_loss = {dib:[0, 0] for dib in range(3, 12)}\n",
    "for index, row in dev.iterrows():\n",
    "    pred_cdf = squash(yard_cdf, int(row['YardsRemaining']))\n",
    "    true_cdf = np.zeros(199)\n",
    "    true_cdf[99+row['Yards']:] = 1\n",
    "    loss = 1/199 * np.sum((pred_cdf-true_cdf)**2)\n",
    "    all_loss[int(row['DefendersInTheBox'])][0] += loss\n",
    "    all_loss[int(row['DefendersInTheBox'])][1] += 1\n",
    "cost = {k:v[0]/v[1] for k, v in all_loss.items()}\n",
    "print(\"(Cost, Defenders In The Box)\")\n",
    "sorted(((v,k) for k,v in cost.items()), reverse=True)"
   ]
  },
  {
   "cell_type": "code",
   "execution_count": 150,
   "metadata": {},
   "outputs": [
    {
     "name": "stdout",
     "output_type": "stream",
     "text": [
      "(Cost, Position)\n"
     ]
    },
    {
     "data": {
      "text/plain": [
       "[(0.02386267032119007, 'WR'),\n",
       " (0.022213490797284085, 'TE'),\n",
       " (0.015982754565858088, 'HB'),\n",
       " (0.014198417111545514, 'Other'),\n",
       " (0.013722944757777997, 'RB'),\n",
       " (0.011965115035621091, 'QB'),\n",
       " (0.010135827935035454, 'FB')]"
      ]
     },
     "execution_count": 150,
     "metadata": {},
     "output_type": "execute_result"
    }
   ],
   "source": [
    "# dict to store [cumulative loss, # loss terms] for each number of defenders in box\n",
    "all_loss = {dib:[0, 0] for dib in df.Position.unique()}\n",
    "for index, row in dev.iterrows():\n",
    "    pred_cdf = squash(yard_cdf, int(row['YardsRemaining']))\n",
    "    true_cdf = np.zeros(199)\n",
    "    true_cdf[99+row['Yards']:] = 1\n",
    "    loss = 1/199 * np.sum((pred_cdf-true_cdf)**2)\n",
    "    all_loss[row['Position']][0] += loss\n",
    "    all_loss[row['Position']][1] += 1\n",
    "cost = {k:v[0]/v[1] for k, v in all_loss.items()}\n",
    "print(\"(Cost, Position)\")\n",
    "sorted(((v,k) for k,v in cost.items()), reverse=True)"
   ]
  },
  {
   "cell_type": "markdown",
   "metadata": {},
   "source": [
    "# Perform MLE Segmented by Yardline"
   ]
  },
  {
   "cell_type": "markdown",
   "metadata": {},
   "source": [
    "## Find model for each yard line"
   ]
  },
  {
   "cell_type": "code",
   "execution_count": 44,
   "metadata": {},
   "outputs": [],
   "source": [
    "yard_counts = np.zeros((99,199), dtype = 'uint32')\n",
    "yard_probabilities = np.zeros((99,199), dtype = 'float')\n",
    "\n",
    "for yard_remaining in range(1,100):\n",
    "    yards_current = train.Yards[train['YardsRemaining']==yard_remaining]\n",
    "    \n",
    "    for yard in range(-99, 100):\n",
    "        yard_counts[yard_remaining-1,yard+99] = sum(yards_current==yard)\n",
    "        \n",
    "    yard_probabilities[yard_remaining-1,:] = yard_counts[yard_remaining-1,:] / np.sum(yard_counts[yard_remaining-1,:])\n",
    "    \n",
    "# CDF \n",
    "yard_cdf = np.zeros(yard_probabilities.shape)\n",
    "for yard_remaining in range(1, 100):\n",
    "    yard_cdf[yard_remaining-1] = np.cumsum(yard_probabilities[yard_remaining-1,:])"
   ]
  },
  {
   "cell_type": "code",
   "execution_count": 54,
   "metadata": {},
   "outputs": [
    {
     "data": {
      "image/png": "[encoded data removed]",
      "text/plain": [
       "<Figure size 432x288 with 1 Axes>"
      ]
     },
     "metadata": {},
     "output_type": "display_data"
    }
   ],
   "source": [
    "for yard_line in [1,50,99]:\n",
    "    yard_line_index = yard_line -1\n",
    "    plt.plot(np.arange(-99,100),yard_probabilities[yard_line_index,:], label = str(yard_line))\n",
    "    \n",
    "plt.title('PMF for MLE by Yards Remaining')\n",
    "plt.ylabel('Pr(Y==y)')\n",
    "plt.xlabel('y (Yards Gained)')\n",
    "plt.legend(title='Yards Remaining');"
   ]
  },
  {
   "cell_type": "code",
   "execution_count": 51,
   "metadata": {},
   "outputs": [
    {
     "name": "stdout",
     "output_type": "stream",
     "text": [
      "Cost: 0.014088655099676866\n"
     ]
    }
   ],
   "source": [
    "all_loss = []\n",
    "for index, row in dev.iterrows():\n",
    "    pred_cdf = squash(yard_cdf[int(row['YardsRemaining'])-1,:], int(row['YardsRemaining']))\n",
    "    true_cdf = np.zeros(199)\n",
    "    true_cdf[99+row['Yards']:] = 1\n",
    "    loss = 1/199 * np.sum((pred_cdf-true_cdf)**2)\n",
    "    all_loss.append(loss)\n",
    "cost = np.average(all_loss)\n",
    "print(\"Cost: {}\".format(cost))"
   ]
  },
  {
   "cell_type": "markdown",
   "metadata": {},
   "source": [
    "# Boosted MLE by Yardline"
   ]
  },
  {
   "cell_type": "markdown",
   "metadata": {},
   "source": [
    "## Using Gaussian kernel method to boost models for each yard line"
   ]
  },
  {
   "cell_type": "code",
   "execution_count": 52,
   "metadata": {},
   "outputs": [],
   "source": [
    "#tune this as needed\n",
    "sigma = 16\n",
    "boosted_cdf = np.zeros(199)\n",
    "weights = []\n",
    "for true_remaining in range(1,100):\n",
    "    for model_remaining in range (1,100):\n",
    "        yard_line_cdf = yard_cdf[model_remaining-1,:]\n",
    "        weight = np.exp(-((true_remaining - model_remaining)**2) / (2*(sigma**2)))\n",
    "        weights.append(weight)\n",
    "        boosted_cdf += weight*yard_line_cdf\n",
    "        \n",
    "#normalize the cdf\n",
    "boosted_cdf /= np.sum(weights)  "
   ]
  },
  {
   "cell_type": "markdown",
   "metadata": {},
   "source": [
    "## Compute loss for weighted model"
   ]
  },
  {
   "cell_type": "code",
   "execution_count": 53,
   "metadata": {},
   "outputs": [
    {
     "name": "stdout",
     "output_type": "stream",
     "text": [
      "Cost: 0.014044888138695224\n"
     ]
    }
   ],
   "source": [
    "all_loss = []\n",
    "for index, row in dev.iterrows():\n",
    "    pred_cdf = squash(boosted_cdf, int(row['YardsRemaining']))\n",
    "    true_cdf = np.zeros(199)\n",
    "    true_cdf[99+row['Yards']:] = 1\n",
    "    loss = 1/199 * np.sum((pred_cdf-true_cdf)**2)\n",
    "    all_loss.append(loss)\n",
    "cost = np.average(all_loss)\n",
    "print(\"Cost: {}\".format(cost))"
   ]
  }
 ],
 "metadata": {
  "kernelspec": {
   "display_name": "Python 3",
   "language": "python",
   "name": "python3"
  },
  "language_info": {
   "codemirror_mode": {
    "name": "ipython",
    "version": 3
   },
   "file_extension": ".py",
   "mimetype": "text/x-python",
   "name": "python",
   "nbconvert_exporter": "python",
   "pygments_lexer": "ipython3",
   "version": "3.6.7"
  }
 },
 "nbformat": 4,
 "nbformat_minor": 2
}

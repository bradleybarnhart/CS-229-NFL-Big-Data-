{
 "cells": [
  {
   "cell_type": "markdown",
   "metadata": {},
   "source": [
    "# Feature Selection"
   ]
  },
  {
   "cell_type": "code",
   "execution_count": 1,
   "metadata": {},
   "outputs": [
    {
     "name": "stderr",
     "output_type": "stream",
     "text": [
      "/Users/travismcguire1/anaconda3/lib/python3.6/site-packages/matplotlib/__init__.py:886: MatplotlibDeprecationWarning: \n",
      "examples.directory is deprecated; in the future, examples will be found relative to the 'datapath' directory.\n",
      "  \"found relative to the 'datapath' directory.\".format(key))\n",
      "/Users/travismcguire1/anaconda3/lib/python3.6/site-packages/lightgbm/__init__.py:48: UserWarning: Starting from version 2.2.1, the library file in distribution wheels for macOS is built by the Apple Clang (Xcode_8.3.3) compiler.\n",
      "This means that in case of installing LightGBM from PyPI via the ``pip install lightgbm`` command, you don't need to install the gcc compiler anymore.\n",
      "Instead of that, you need to install the OpenMP library, which is required for running LightGBM on the system with the Apple Clang compiler.\n",
      "You can install the OpenMP library by the following command: ``brew install libomp``.\n",
      "  \"You can install the OpenMP library by the following command: ``brew install libomp``.\", UserWarning)\n"
     ]
    }
   ],
   "source": [
    "import csv\n",
    "import pandas as pd\n",
    "import numpy as np \n",
    "np.random.seed(seed=1) # set seed for consistent results\n",
    "import matplotlib.pyplot as plt\n",
    "import seaborn as sns\n",
    "from sklearn.model_selection import train_test_split\n",
    "from sklearn import preprocessing\n",
    "from sklearn.linear_model import LogisticRegression\n",
    "from sklearn.ensemble import RandomForestClassifier\n",
    "from xgboost import XGBClassifier # conda install -c conda-forge xgboost\n",
    "from lightgbm import LGBMClassifier # conda install -c conda-forge lightgbm\n",
    "from preprocessing import preprocess\n",
    "\n",
    "sns.set()"
   ]
  },
  {
   "cell_type": "markdown",
   "metadata": {},
   "source": [
    "## Load data"
   ]
  },
  {
   "cell_type": "code",
   "execution_count": 2,
   "metadata": {},
   "outputs": [
    {
     "name": "stderr",
     "output_type": "stream",
     "text": [
      "/Users/travismcguire1/anaconda3/lib/python3.6/site-packages/IPython/core/interactiveshell.py:3020: DtypeWarning: Columns (47) have mixed types. Specify dtype option on import or set low_memory=False.\n",
      "  interactivity=interactivity, compiler=compiler, result=result)\n"
     ]
    },
    {
     "data": {
      "text/html": [
       "<div>\n",
       "<style scoped>\n",
       "    .dataframe tbody tr th:only-of-type {\n",
       "        vertical-align: middle;\n",
       "    }\n",
       "\n",
       "    .dataframe tbody tr th {\n",
       "        vertical-align: top;\n",
       "    }\n",
       "\n",
       "    .dataframe thead th {\n",
       "        text-align: right;\n",
       "    }\n",
       "</style>\n",
       "<table border=\"1\" class=\"dataframe\">\n",
       "  <thead>\n",
       "    <tr style=\"text-align: right;\">\n",
       "      <th></th>\n",
       "      <th>GameId</th>\n",
       "      <th>PlayId</th>\n",
       "      <th>Team</th>\n",
       "      <th>X</th>\n",
       "      <th>Y</th>\n",
       "      <th>S</th>\n",
       "      <th>A</th>\n",
       "      <th>Dis</th>\n",
       "      <th>Orientation</th>\n",
       "      <th>Dir</th>\n",
       "      <th>...</th>\n",
       "      <th>Week</th>\n",
       "      <th>Stadium</th>\n",
       "      <th>Location</th>\n",
       "      <th>StadiumType</th>\n",
       "      <th>Turf</th>\n",
       "      <th>GameWeather</th>\n",
       "      <th>Temperature</th>\n",
       "      <th>Humidity</th>\n",
       "      <th>WindSpeed</th>\n",
       "      <th>WindDirection</th>\n",
       "    </tr>\n",
       "  </thead>\n",
       "  <tbody>\n",
       "    <tr>\n",
       "      <td>0</td>\n",
       "      <td>2017090700</td>\n",
       "      <td>20170907000118</td>\n",
       "      <td>away</td>\n",
       "      <td>73.91</td>\n",
       "      <td>34.84</td>\n",
       "      <td>1.69</td>\n",
       "      <td>1.13</td>\n",
       "      <td>0.40</td>\n",
       "      <td>81.99</td>\n",
       "      <td>177.18</td>\n",
       "      <td>...</td>\n",
       "      <td>1</td>\n",
       "      <td>Gillette Stadium</td>\n",
       "      <td>Foxborough, MA</td>\n",
       "      <td>Outdoor</td>\n",
       "      <td>Field Turf</td>\n",
       "      <td>Clear and warm</td>\n",
       "      <td>63.0</td>\n",
       "      <td>77.0</td>\n",
       "      <td>8</td>\n",
       "      <td>SW</td>\n",
       "    </tr>\n",
       "    <tr>\n",
       "      <td>1</td>\n",
       "      <td>2017090700</td>\n",
       "      <td>20170907000118</td>\n",
       "      <td>away</td>\n",
       "      <td>74.67</td>\n",
       "      <td>32.64</td>\n",
       "      <td>0.42</td>\n",
       "      <td>1.35</td>\n",
       "      <td>0.01</td>\n",
       "      <td>27.61</td>\n",
       "      <td>198.70</td>\n",
       "      <td>...</td>\n",
       "      <td>1</td>\n",
       "      <td>Gillette Stadium</td>\n",
       "      <td>Foxborough, MA</td>\n",
       "      <td>Outdoor</td>\n",
       "      <td>Field Turf</td>\n",
       "      <td>Clear and warm</td>\n",
       "      <td>63.0</td>\n",
       "      <td>77.0</td>\n",
       "      <td>8</td>\n",
       "      <td>SW</td>\n",
       "    </tr>\n",
       "    <tr>\n",
       "      <td>2</td>\n",
       "      <td>2017090700</td>\n",
       "      <td>20170907000118</td>\n",
       "      <td>away</td>\n",
       "      <td>74.00</td>\n",
       "      <td>33.20</td>\n",
       "      <td>1.22</td>\n",
       "      <td>0.59</td>\n",
       "      <td>0.31</td>\n",
       "      <td>3.01</td>\n",
       "      <td>202.73</td>\n",
       "      <td>...</td>\n",
       "      <td>1</td>\n",
       "      <td>Gillette Stadium</td>\n",
       "      <td>Foxborough, MA</td>\n",
       "      <td>Outdoor</td>\n",
       "      <td>Field Turf</td>\n",
       "      <td>Clear and warm</td>\n",
       "      <td>63.0</td>\n",
       "      <td>77.0</td>\n",
       "      <td>8</td>\n",
       "      <td>SW</td>\n",
       "    </tr>\n",
       "    <tr>\n",
       "      <td>3</td>\n",
       "      <td>2017090700</td>\n",
       "      <td>20170907000118</td>\n",
       "      <td>away</td>\n",
       "      <td>71.46</td>\n",
       "      <td>27.70</td>\n",
       "      <td>0.42</td>\n",
       "      <td>0.54</td>\n",
       "      <td>0.02</td>\n",
       "      <td>359.77</td>\n",
       "      <td>105.64</td>\n",
       "      <td>...</td>\n",
       "      <td>1</td>\n",
       "      <td>Gillette Stadium</td>\n",
       "      <td>Foxborough, MA</td>\n",
       "      <td>Outdoor</td>\n",
       "      <td>Field Turf</td>\n",
       "      <td>Clear and warm</td>\n",
       "      <td>63.0</td>\n",
       "      <td>77.0</td>\n",
       "      <td>8</td>\n",
       "      <td>SW</td>\n",
       "    </tr>\n",
       "    <tr>\n",
       "      <td>4</td>\n",
       "      <td>2017090700</td>\n",
       "      <td>20170907000118</td>\n",
       "      <td>away</td>\n",
       "      <td>69.32</td>\n",
       "      <td>35.42</td>\n",
       "      <td>1.82</td>\n",
       "      <td>2.43</td>\n",
       "      <td>0.16</td>\n",
       "      <td>12.63</td>\n",
       "      <td>164.31</td>\n",
       "      <td>...</td>\n",
       "      <td>1</td>\n",
       "      <td>Gillette Stadium</td>\n",
       "      <td>Foxborough, MA</td>\n",
       "      <td>Outdoor</td>\n",
       "      <td>Field Turf</td>\n",
       "      <td>Clear and warm</td>\n",
       "      <td>63.0</td>\n",
       "      <td>77.0</td>\n",
       "      <td>8</td>\n",
       "      <td>SW</td>\n",
       "    </tr>\n",
       "  </tbody>\n",
       "</table>\n",
       "<p>5 rows × 49 columns</p>\n",
       "</div>"
      ],
      "text/plain": [
       "       GameId          PlayId  Team      X      Y     S     A   Dis  \\\n",
       "0  2017090700  20170907000118  away  73.91  34.84  1.69  1.13  0.40   \n",
       "1  2017090700  20170907000118  away  74.67  32.64  0.42  1.35  0.01   \n",
       "2  2017090700  20170907000118  away  74.00  33.20  1.22  0.59  0.31   \n",
       "3  2017090700  20170907000118  away  71.46  27.70  0.42  0.54  0.02   \n",
       "4  2017090700  20170907000118  away  69.32  35.42  1.82  2.43  0.16   \n",
       "\n",
       "   Orientation     Dir  ...  Week           Stadium        Location  \\\n",
       "0        81.99  177.18  ...     1  Gillette Stadium  Foxborough, MA   \n",
       "1        27.61  198.70  ...     1  Gillette Stadium  Foxborough, MA   \n",
       "2         3.01  202.73  ...     1  Gillette Stadium  Foxborough, MA   \n",
       "3       359.77  105.64  ...     1  Gillette Stadium  Foxborough, MA   \n",
       "4        12.63  164.31  ...     1  Gillette Stadium  Foxborough, MA   \n",
       "\n",
       "   StadiumType        Turf     GameWeather Temperature Humidity  WindSpeed  \\\n",
       "0      Outdoor  Field Turf  Clear and warm        63.0     77.0          8   \n",
       "1      Outdoor  Field Turf  Clear and warm        63.0     77.0          8   \n",
       "2      Outdoor  Field Turf  Clear and warm        63.0     77.0          8   \n",
       "3      Outdoor  Field Turf  Clear and warm        63.0     77.0          8   \n",
       "4      Outdoor  Field Turf  Clear and warm        63.0     77.0          8   \n",
       "\n",
       "   WindDirection  \n",
       "0             SW  \n",
       "1             SW  \n",
       "2             SW  \n",
       "3             SW  \n",
       "4             SW  \n",
       "\n",
       "[5 rows x 49 columns]"
      ]
     },
     "execution_count": 2,
     "metadata": {},
     "output_type": "execute_result"
    }
   ],
   "source": [
    "filename = 'train.csv' \n",
    "df = pd.read_csv(filename)\n",
    "df.head()"
   ]
  },
  {
   "cell_type": "markdown",
   "metadata": {},
   "source": [
    "## Split data"
   ]
  },
  {
   "cell_type": "code",
   "execution_count": 3,
   "metadata": {},
   "outputs": [
    {
     "name": "stdout",
     "output_type": "stream",
     "text": [
      "(16219, 49)\n",
      "(6952, 49)\n"
     ]
    }
   ],
   "source": [
    "# Downsample, keep entries where player is rusher \n",
    "df = df[df['NflIdRusher']==df['NflId']]\n",
    "df.reset_index(drop=True, inplace=True)\n",
    "\n",
    "train, dev = train_test_split(df, test_size=0.3, random_state=1, shuffle=True)\n",
    "print(train.shape)\n",
    "print(dev.shape)"
   ]
  },
  {
   "cell_type": "markdown",
   "metadata": {},
   "source": [
    " # PreProcess"
   ]
  },
  {
   "cell_type": "code",
   "execution_count": 4,
   "metadata": {},
   "outputs": [
    {
     "data": {
      "text/html": [
       "<div>\n",
       "<style scoped>\n",
       "    .dataframe tbody tr th:only-of-type {\n",
       "        vertical-align: middle;\n",
       "    }\n",
       "\n",
       "    .dataframe tbody tr th {\n",
       "        vertical-align: top;\n",
       "    }\n",
       "\n",
       "    .dataframe thead th {\n",
       "        text-align: right;\n",
       "    }\n",
       "</style>\n",
       "<table border=\"1\" class=\"dataframe\">\n",
       "  <thead>\n",
       "    <tr style=\"text-align: right;\">\n",
       "      <th></th>\n",
       "      <th>GameId</th>\n",
       "      <th>PlayId</th>\n",
       "      <th>Team</th>\n",
       "      <th>X</th>\n",
       "      <th>Y</th>\n",
       "      <th>S</th>\n",
       "      <th>A</th>\n",
       "      <th>Dis</th>\n",
       "      <th>Orientation</th>\n",
       "      <th>Dir</th>\n",
       "      <th>...</th>\n",
       "      <th>WindSpeed</th>\n",
       "      <th>WindDirection</th>\n",
       "      <th>DefenseTeam</th>\n",
       "      <th>YardsAvgOffense</th>\n",
       "      <th>YardsAvgDefense</th>\n",
       "      <th>YardsRemaining</th>\n",
       "      <th>Carries</th>\n",
       "      <th>RusherMeanYards</th>\n",
       "      <th>RusherMaxYards</th>\n",
       "      <th>RusherMinYards</th>\n",
       "    </tr>\n",
       "  </thead>\n",
       "  <tbody>\n",
       "    <tr>\n",
       "      <td>0</td>\n",
       "      <td>2017111907</td>\n",
       "      <td>20171119070499</td>\n",
       "      <td>home</td>\n",
       "      <td>30.27</td>\n",
       "      <td>28.56</td>\n",
       "      <td>3.74</td>\n",
       "      <td>1.71</td>\n",
       "      <td>0.41</td>\n",
       "      <td>14.29</td>\n",
       "      <td>113.39</td>\n",
       "      <td>...</td>\n",
       "      <td>6</td>\n",
       "      <td>W</td>\n",
       "      <td>BUF</td>\n",
       "      <td>4.443203</td>\n",
       "      <td>4.426667</td>\n",
       "      <td>75.0</td>\n",
       "      <td>329.0</td>\n",
       "      <td>4.322188</td>\n",
       "      <td>87.0</td>\n",
       "      <td>-4.0</td>\n",
       "    </tr>\n",
       "    <tr>\n",
       "      <td>1</td>\n",
       "      <td>2017102906</td>\n",
       "      <td>20171029063422</td>\n",
       "      <td>home</td>\n",
       "      <td>27.79</td>\n",
       "      <td>33.27</td>\n",
       "      <td>5.46</td>\n",
       "      <td>0.33</td>\n",
       "      <td>0.51</td>\n",
       "      <td>222.48</td>\n",
       "      <td>325.48</td>\n",
       "      <td>...</td>\n",
       "      <td>12</td>\n",
       "      <td>SE</td>\n",
       "      <td>SF</td>\n",
       "      <td>4.335185</td>\n",
       "      <td>4.058099</td>\n",
       "      <td>12.0</td>\n",
       "      <td>222.0</td>\n",
       "      <td>3.815315</td>\n",
       "      <td>68.0</td>\n",
       "      <td>-7.0</td>\n",
       "    </tr>\n",
       "    <tr>\n",
       "      <td>2</td>\n",
       "      <td>2018112503</td>\n",
       "      <td>20181125031651</td>\n",
       "      <td>away</td>\n",
       "      <td>30.70</td>\n",
       "      <td>22.33</td>\n",
       "      <td>4.64</td>\n",
       "      <td>2.94</td>\n",
       "      <td>0.45</td>\n",
       "      <td>272.10</td>\n",
       "      <td>251.62</td>\n",
       "      <td>...</td>\n",
       "      <td>4</td>\n",
       "      <td>S</td>\n",
       "      <td>CIN</td>\n",
       "      <td>4.452747</td>\n",
       "      <td>4.315881</td>\n",
       "      <td>16.0</td>\n",
       "      <td>134.0</td>\n",
       "      <td>5.537313</td>\n",
       "      <td>92.0</td>\n",
       "      <td>-5.0</td>\n",
       "    </tr>\n",
       "    <tr>\n",
       "      <td>3</td>\n",
       "      <td>2018101412</td>\n",
       "      <td>20181014120662</td>\n",
       "      <td>home</td>\n",
       "      <td>19.15</td>\n",
       "      <td>28.65</td>\n",
       "      <td>4.19</td>\n",
       "      <td>1.99</td>\n",
       "      <td>0.41</td>\n",
       "      <td>256.20</td>\n",
       "      <td>249.31</td>\n",
       "      <td>...</td>\n",
       "      <td>Calm</td>\n",
       "      <td>NaN</td>\n",
       "      <td>KC</td>\n",
       "      <td>4.500000</td>\n",
       "      <td>4.602210</td>\n",
       "      <td>4.0</td>\n",
       "      <td>149.0</td>\n",
       "      <td>4.382550</td>\n",
       "      <td>31.0</td>\n",
       "      <td>-4.0</td>\n",
       "    </tr>\n",
       "    <tr>\n",
       "      <td>4</td>\n",
       "      <td>2018112509</td>\n",
       "      <td>20181125090940</td>\n",
       "      <td>away</td>\n",
       "      <td>47.84</td>\n",
       "      <td>25.86</td>\n",
       "      <td>4.71</td>\n",
       "      <td>3.29</td>\n",
       "      <td>0.46</td>\n",
       "      <td>265.69</td>\n",
       "      <td>285.56</td>\n",
       "      <td>...</td>\n",
       "      <td>7</td>\n",
       "      <td>North</td>\n",
       "      <td>DEN</td>\n",
       "      <td>4.261224</td>\n",
       "      <td>4.001908</td>\n",
       "      <td>33.0</td>\n",
       "      <td>179.0</td>\n",
       "      <td>4.653631</td>\n",
       "      <td>30.0</td>\n",
       "      <td>-4.0</td>\n",
       "    </tr>\n",
       "  </tbody>\n",
       "</table>\n",
       "<p>5 rows × 57 columns</p>\n",
       "</div>"
      ],
      "text/plain": [
       "       GameId          PlayId  Team      X      Y     S     A   Dis  \\\n",
       "0  2017111907  20171119070499  home  30.27  28.56  3.74  1.71  0.41   \n",
       "1  2017102906  20171029063422  home  27.79  33.27  5.46  0.33  0.51   \n",
       "2  2018112503  20181125031651  away  30.70  22.33  4.64  2.94  0.45   \n",
       "3  2018101412  20181014120662  home  19.15  28.65  4.19  1.99  0.41   \n",
       "4  2018112509  20181125090940  away  47.84  25.86  4.71  3.29  0.46   \n",
       "\n",
       "   Orientation     Dir  ...  WindSpeed WindDirection  DefenseTeam  \\\n",
       "0        14.29  113.39  ...          6             W          BUF   \n",
       "1       222.48  325.48  ...         12            SE           SF   \n",
       "2       272.10  251.62  ...          4             S          CIN   \n",
       "3       256.20  249.31  ...       Calm           NaN           KC   \n",
       "4       265.69  285.56  ...          7         North          DEN   \n",
       "\n",
       "   YardsAvgOffense  YardsAvgDefense  YardsRemaining Carries RusherMeanYards  \\\n",
       "0         4.443203         4.426667            75.0   329.0        4.322188   \n",
       "1         4.335185         4.058099            12.0   222.0        3.815315   \n",
       "2         4.452747         4.315881            16.0   134.0        5.537313   \n",
       "3         4.500000         4.602210             4.0   149.0        4.382550   \n",
       "4         4.261224         4.001908            33.0   179.0        4.653631   \n",
       "\n",
       "   RusherMaxYards  RusherMinYards  \n",
       "0            87.0            -4.0  \n",
       "1            68.0            -7.0  \n",
       "2            92.0            -5.0  \n",
       "3            31.0            -4.0  \n",
       "4            30.0            -4.0  \n",
       "\n",
       "[5 rows x 57 columns]"
      ]
     },
     "execution_count": 4,
     "metadata": {},
     "output_type": "execute_result"
    }
   ],
   "source": [
    "train, tables = preprocess(train)\n",
    "dev, tables = preprocess(dev, tables)\n",
    "train.head()\n",
    "dev.head()"
   ]
  },
  {
   "cell_type": "markdown",
   "metadata": {},
   "source": [
    "# Fit Models"
   ]
  },
  {
   "cell_type": "code",
   "execution_count": 5,
   "metadata": {},
   "outputs": [],
   "source": [
    "def predsToPMF(preds):\n",
    "    pmfs = np.zeros((preds.shape[0],199))\n",
    "    for i in range(0, preds.shape[1]):\n",
    "        pmfs[:,int(le.inverse_transform([i]))+99] = preds[:,i]\n",
    "    return pmfs \n",
    "\n",
    "def squash(yard_cdf, yard_remaining):\n",
    "    squash_cdf = yard_cdf.copy()\n",
    "    squash_cdf[199-(100 - yard_remaining):] = 1\n",
    "    squash_cdf[0:yard_remaining-1] = 0 \n",
    "    return squash_cdf\n",
    "\n",
    "def calculate_dev_cost(preds_cdfs):\n",
    "    all_loss = []\n",
    "    i = 0\n",
    "    for index, row in dev.iterrows():\n",
    "        preds_cdfs[i,:] = squash(preds_cdfs[i,:], int(row['YardsRemaining']))\n",
    "        true_cdf = np.zeros(199)\n",
    "        true_cdf[99+row['Yards']:] = 1\n",
    "        loss = 1/199 * np.sum((preds_cdfs[i,:]-true_cdf)**2)\n",
    "        all_loss.append(loss)\n",
    "        i += 1 \n",
    "    cost = np.average(all_loss)\n",
    "    return cost\n",
    "\n",
    "def calculate_train_cost(preds_cdfs):\n",
    "    all_loss = []\n",
    "    i = 0\n",
    "    for index, row in train.iterrows():\n",
    "        preds_cdfs[i,:] = squash(preds_cdfs[i,:], int(row['YardsRemaining']))\n",
    "        true_cdf = np.zeros(199)\n",
    "        true_cdf[99+row['Yards']:] = 1\n",
    "        loss = 1/199 * np.sum((preds_cdfs[i,:]-true_cdf)**2)\n",
    "        all_loss.append(loss)\n",
    "        i += 1 \n",
    "    cost = np.average(all_loss)\n",
    "    return cost\n",
    "\n",
    "def calculate_costs(clf):\n",
    "    # predict on train set, convert to pmf -> cdf, and find cost\n",
    "    train_preds = clf.predict_proba(train[features])\n",
    "    train_preds_pmfs = predsToPMF(train_preds)\n",
    "    train_preds_cdfs = np.cumsum(train_preds_pmfs, axis=1)\n",
    "    print(\"Train Cost: {}\".format(calculate_train_cost(train_preds_cdfs)))\n",
    "    \n",
    "    # predict on train set, convert to pmf -> cdf, and find cost\n",
    "    dev_preds = clf.predict_proba(dev[features])\n",
    "    dev_preds_pmfs = predsToPMF(dev_preds)\n",
    "    dev_preds_cdfs = np.cumsum(dev_preds_pmfs, axis=1)\n",
    "    print(\"Dev. Cost: {}\".format(calculate_dev_cost(dev_preds_cdfs)))"
   ]
  },
  {
   "cell_type": "code",
   "execution_count": 6,
   "metadata": {},
   "outputs": [],
   "source": [
    "# create a label encoder since not all -99:99 yards will appear \n",
    "features = ['DefendersInTheBox','A']\n",
    "\n",
    "le = preprocessing.LabelEncoder()\n",
    "le.fit(train['Yards']);"
   ]
  },
  {
   "cell_type": "markdown",
   "metadata": {},
   "source": [
    "### Logistic Regression"
   ]
  },
  {
   "cell_type": "code",
   "execution_count": 7,
   "metadata": {},
   "outputs": [
    {
     "name": "stderr",
     "output_type": "stream",
     "text": [
      "[Parallel(n_jobs=1)]: Using backend SequentialBackend with 1 concurrent workers.\n",
      "[Parallel(n_jobs=1)]: Done   1 out of   1 | elapsed:  1.7min finished\n"
     ]
    },
    {
     "name": "stdout",
     "output_type": "stream",
     "text": [
      "Train Cost: 0.013545394407072515\n",
      "Dev. Cost: 0.013656478833391533\n"
     ]
    }
   ],
   "source": [
    "clf = LogisticRegression(C = .2, max_iter = 100,solver = 'newton-cg',multi_class='multinomial',verbose=True)\n",
    "clf.fit(train[features], le.transform(train['Yards']))\n",
    "calculate_costs(clf)"
   ]
  },
  {
   "cell_type": "markdown",
   "metadata": {},
   "source": [
    "### Random Forest"
   ]
  },
  {
   "cell_type": "code",
   "execution_count": 8,
   "metadata": {},
   "outputs": [
    {
     "name": "stdout",
     "output_type": "stream",
     "text": [
      "Train Cost: 0.01345801438607382\n",
      "Dev. Cost: 0.013605436989553955\n"
     ]
    }
   ],
   "source": [
    "clf = RandomForestClassifier(n_estimators=100, max_depth=4, random_state=0, min_samples_split=20, min_samples_leaf=10)\n",
    "clf.fit(train[features], le.transform(train['Yards']))\n",
    "calculate_costs(clf)"
   ]
  },
  {
   "cell_type": "markdown",
   "metadata": {},
   "source": [
    "### LGBM"
   ]
  },
  {
   "cell_type": "code",
   "execution_count": 9,
   "metadata": {},
   "outputs": [
    {
     "name": "stdout",
     "output_type": "stream",
     "text": [
      "Train Cost: 0.021084339716120563\n",
      "Dev. Cost: 0.021231572886166596\n"
     ]
    }
   ],
   "source": [
    "clf = LGBMClassifier()\n",
    "clf.fit(train[features], le.transform(train['Yards']))\n",
    "calculate_costs(clf)"
   ]
  },
  {
   "cell_type": "markdown",
   "metadata": {},
   "source": [
    "### XGBoost"
   ]
  },
  {
   "cell_type": "code",
   "execution_count": 10,
   "metadata": {},
   "outputs": [
    {
     "name": "stdout",
     "output_type": "stream",
     "text": [
      "Train Cost: 0.013261679548592115\n",
      "Dev. Cost: 0.013585097400158981\n"
     ]
    }
   ],
   "source": [
    "clf = XGBClassifier()\n",
    "clf.fit(train[features], le.transform(train['Yards']))\n",
    "calculate_costs(clf)"
   ]
  },
  {
   "cell_type": "markdown",
   "metadata": {},
   "source": [
    "# Feature Selection"
   ]
  },
  {
   "cell_type": "code",
   "execution_count": 12,
   "metadata": {},
   "outputs": [
    {
     "name": "stdout",
     "output_type": "stream",
     "text": [
      "With 1, we use ['A'].\n",
      "With 2, we use ['A', 'DefendersInTheBox'].\n",
      "With 3, we use ['A', 'DefendersInTheBox', 'Distance'].\n",
      "With 4, we use ['A', 'DefendersInTheBox', 'Distance', 'Carries'].\n",
      "With 5, we use ['A', 'DefendersInTheBox', 'Distance', 'Carries', 'Down'].\n"
     ]
    }
   ],
   "source": [
    "#Try manual forward selection.\n",
    "features_of_interest_all = ['Distance','Down','DefendersInTheBox','RusherMeanYards', 'A', 'YardsRemaining', 'Carries']\n",
    "le = preprocessing.LabelEncoder()\n",
    "le.fit(train['Yards'])\n",
    "y_train = le.transform(train['Yards'])\n",
    "selected_features = []\n",
    "clf = RandomForestClassifier(n_estimators=100, max_depth=4, random_state=0, min_samples_split=20, min_samples_leaf=10)\n",
    "\n",
    "#specifies how many features we want to add\n",
    "costs = []\n",
    "nums_to_add = [1, 2, 3, 4, 5]\n",
    "for num_to_add in nums_to_add:\n",
    "    num_added = 0\n",
    "    features_of_interest = features_of_interest_all.copy()\n",
    "    selected_features = [] \n",
    "    while num_added < num_to_add and len(features_of_interest) > 0:\n",
    "        current_cost = float('inf')\n",
    "        for i in range (0, len(features_of_interest)):\n",
    "            #fit a model for each feature, then pair of features, etc\n",
    "            feature = features_of_interest[i]\n",
    "            clf.fit(train[selected_features + [feature]], y_train)\n",
    "            preds = clf.predict_proba(dev[selected_features + [feature]])\n",
    "            preds_pmfs = predsToPMF(preds)\n",
    "            preds_cdfs = np.cumsum(preds_pmfs, axis=1)\n",
    "            #predict cost of the model after adding the new feature\n",
    "            cost = calculate_dev_cost(preds_cdfs)\n",
    "            if cost < current_cost:\n",
    "                current_cost = cost\n",
    "                selected_feature = feature\n",
    "            if i == len(features_of_interest) - 1:\n",
    "                selected_features.append(selected_feature)\n",
    "                features_of_interest.remove(selected_feature)\n",
    "        num_added += 1\n",
    "    print(\"With {}, we use {}.\".format(num_to_add, selected_features))\n",
    "    costs.append(current_cost)"
   ]
  },
  {
   "cell_type": "code",
   "execution_count": 13,
   "metadata": {},
   "outputs": [
    {
     "data": {
      "image/png": "[encoded data removed]",
      "text/plain": [
       "<Figure size 432x288 with 1 Axes>"
      ]
     },
     "metadata": {
      "needs_background": "light"
     },
     "output_type": "display_data"
    }
   ],
   "source": [
    "plt.plot(nums_to_add, costs)\n",
    "plt.title('Cost vs Number of Added Features')\n",
    "plt.tight_layout()"
   ]
  }
 ],
 "metadata": {
  "@webio": {
   "lastCommId": null,
   "lastKernelId": null
  },
  "kernelspec": {
   "display_name": "Python 3",
   "language": "python",
   "name": "python3"
  },
  "language_info": {
   "codemirror_mode": {
    "name": "ipython",
    "version": 3
   },
   "file_extension": ".py",
   "mimetype": "text/x-python",
   "name": "python",
   "nbconvert_exporter": "python",
   "pygments_lexer": "ipython3",
   "version": "3.6.7"
  }
 },
 "nbformat": 4,
 "nbformat_minor": 2
}
